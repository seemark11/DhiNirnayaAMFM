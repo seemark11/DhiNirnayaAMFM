{
 "cells": [
  {
   "cell_type": "code",
   "execution_count": 141,
   "id": "a01f1eb9-9aeb-4af4-9ee0-9b2465149593",
   "metadata": {},
   "outputs": [],
   "source": [
    "import os\n",
    "os.environ['TRANSFORMERS_CACHE'] =\"/scratch/project_2007260/HF_cache\"\n",
    "os.environ['HF_DATASETS_CACHE'] =\"/scratch/project_2007260/HF_cache\"\n",
    "os.environ['PYTHONPATH']=\"/scratch/project_2007260/miniconda/envs/py3.10\"\n",
    "os.environ['CONDA_PREFIX']=\"/scratch/project_2007260/miniconda/envs/py3.10\""
   ]
  },
  {
   "cell_type": "code",
   "execution_count": null,
   "id": "cd3e3b3f-32df-467d-bd15-353c0197f914",
   "metadata": {},
   "outputs": [],
   "source": []
  },
  {
   "cell_type": "code",
   "execution_count": null,
   "id": "5f2577a8-57f0-492b-af1d-c337a1e063c6",
   "metadata": {},
   "outputs": [],
   "source": []
  },
  {
   "cell_type": "code",
   "execution_count": null,
   "id": "686a54f0-6a85-47d4-a96b-6ff1fbc3c8ea",
   "metadata": {},
   "outputs": [],
   "source": []
  },
  {
   "cell_type": "code",
   "execution_count": null,
   "id": "7fb1cd8e-b80c-4018-a4ba-63d043e18a72",
   "metadata": {},
   "outputs": [],
   "source": []
  },
  {
   "cell_type": "code",
   "execution_count": null,
   "id": "2c72a0da-7be3-4aa6-9e0c-f62207fe35be",
   "metadata": {},
   "outputs": [],
   "source": []
  },
  {
   "cell_type": "code",
   "execution_count": null,
   "id": "2bfeff7f-73cc-4e89-a7d0-07bbede02404",
   "metadata": {},
   "outputs": [],
   "source": []
  },
  {
   "cell_type": "code",
   "execution_count": 142,
   "id": "580138be-a9b7-4587-868f-5c9019bac132",
   "metadata": {},
   "outputs": [],
   "source": [
    "# prompt: I want you to write a function that will take in as input a path to a directory. It has two folders \"cn\" and \"ad\". Each of htese contains folders. I want to create a csv which has two columns \"ID\" and \"Dx\". ID is the basename of the wavefile  inside cn and ad. and if the wavefile is from cn, Dx is \"Control\" and if the wavefile is from ad, the Dx value is \"ProbableAD\". Also, take as input the target path to the output csv\n",
    "\n",
    "import os\n",
    "import csv\n",
    "\n",
    "\n",
    "def create_csv_from_directories(input_dir, output_csv_path):\n",
    "    \"\"\"\n",
    "    Creates a CSV file with ID and Dx columns from wavefiles in 'cn' and 'ad' directories.\n",
    "\n",
    "    Args:\n",
    "        input_dir: Path to the input directory containing 'cn' and 'ad' subdirectories.\n",
    "        output_csv_path: Path to the output CSV file.\n",
    "    \"\"\"\n",
    "\n",
    "    with open(output_csv_path, 'w', newline='') as csvfile:\n",
    "        fieldnames = ['ID', 'Dx']\n",
    "        writer = csv.DictWriter(csvfile, fieldnames=fieldnames)\n",
    "        writer.writeheader()\n",
    "\n",
    "        for dx, label in [('cn', 'Control'), ('ad', 'ProbableAD')]:\n",
    "            dir_path = os.path.join(input_dir, dx)\n",
    "\n",
    "            for root, _, files in os.walk(dir_path):\n",
    "                for file in files:\n",
    "                  if file.endswith(\".wav\"): # Process only .wav files\n",
    "                    base_name = os.path.splitext(file)[0]\n",
    "                    writer.writerow({'ID': base_name, 'Dx': label})\n",
    "\n"
   ]
  },
  {
   "cell_type": "code",
   "execution_count": 143,
   "id": "564d247a-2c54-4477-9ca9-5b0f87937c9b",
   "metadata": {},
   "outputs": [],
   "source": [
    "# Example Usage (assuming you have mounted Google Drive and have directories set up):\n",
    "input_directory = \"/scratch/project_2007260/ADReSSo_Processed\"  # Replace with your input directory path\n",
    "output_csv_file = \"ADReSSo/adresso_train_task.csv\"  # Replace with your desired output CSV path\n",
    "\n",
    "create_csv_from_directories(input_directory, output_csv_file)"
   ]
  },
  {
   "cell_type": "code",
   "execution_count": 144,
   "id": "dc95333f-f540-4d0e-ad2c-e6b1b3a4221e",
   "metadata": {},
   "outputs": [],
   "source": [
    "import pandas as pd\n",
    "import os\n",
    "import random\n",
    "import librosa\n",
    "import numpy as np\n",
    "import soundfile as sf\n"
   ]
  },
  {
   "cell_type": "code",
   "execution_count": 145,
   "id": "53990d17-b040-4859-94b4-d955a810fd84",
   "metadata": {},
   "outputs": [
    {
     "name": "stdout",
     "output_type": "stream",
     "text": [
      "Original string: adrsdt37\n",
      "Formatted string: adrso037\n",
      "Original string: adrsdt1\n",
      "Formatted string: adrso001\n",
      "Original string: adrsdt123\n",
      "Formatted string: adrso123\n"
     ]
    }
   ],
   "source": [
    "# prompt: I want to format  a string given adrsdt37, I want to convert it to adrso037. replace string with adrso and convert number to three digits. create a func to take this as input and give the new string\n",
    "\n",
    "import re\n",
    "\n",
    "def format_string(input_string):\n",
    "    \"\"\"\n",
    "    Formats a string in the forma\n",
    "    t 'adrsdt##' to 'adrso###',\n",
    "    where '#' represents a digit, and the number is zero-padded to three digits.\n",
    "\n",
    "    Args:\n",
    "        input_string: The input string to format.\n",
    "\n",
    "    Returns:\n",
    "        The formatted string, or the original string if it doesn't match the expected pattern.\n",
    "    \"\"\"\n",
    "    match = re.match(r\"adrsdt(\\d+)\", input_string)\n",
    "    if match:\n",
    "        number = int(match.group(1))\n",
    "        formatted_number = str(number).zfill(3)\n",
    "        return \"adrso\" + formatted_number\n",
    "    else:\n",
    "        return input_string\n",
    "\n",
    "# Example usage\n",
    "input_string = \"adrsdt37\"\n",
    "formatted_string = format_string(input_string)\n",
    "print(f\"Original string: {input_string}\")\n",
    "print(f\"Formatted string: {formatted_string}\")\n",
    "\n",
    "input_string = \"adrsdt1\"\n",
    "formatted_string = format_string(input_string)\n",
    "print(f\"Original string: {input_string}\")\n",
    "print(f\"Formatted string: {formatted_string}\")\n",
    "\n",
    "input_string = \"adrsdt123\"\n",
    "formatted_string = format_string(input_string)\n",
    "print(f\"Original string: {input_string}\")\n",
    "print(f\"Formatted string: {formatted_string}\")"
   ]
  },
  {
   "cell_type": "code",
   "execution_count": 146,
   "id": "c3e4f8eb-fc3b-4665-9c9f-efc162c013f8",
   "metadata": {},
   "outputs": [],
   "source": [
    "root_data_dir = \"/scratch/project_2007260/ADReSSo/ADReSSo21/Dhinirnaya_chunk\"\n",
    "\n",
    "# Function to add Gaussian noise to an audio segment\n",
    "def add_gaussian_noise(audio, std=0.005):\n",
    "    noise = np.random.normal(0, std, audio.shape)\n",
    "    return audio + noise\n",
    "\n",
    "\n",
    "\n",
    "# Function to randomly apply augmentation to each chunk\n",
    "def augment_chunk(chunk, sr):\n",
    "    augmentation_type = random.choice(['none', 'speed', 'noise'])\n",
    "    if augmentation_type == 'noise':\n",
    "        chunk = add_gaussian_noise(chunk)\n",
    "    elif augmentation_type == 'speed':\n",
    "        # Uncomment the line below if you want to apply speed perturbation\n",
    "        speed_factor = random.uniform(0.9, 1.1)\n",
    "        chunk = apply_speed_perturbation(chunk, speed_factor)\n",
    "    return chunk"
   ]
  },
  {
   "cell_type": "code",
   "execution_count": 147,
   "id": "338ca3f7-90e3-4418-b1da-e6e037afae16",
   "metadata": {},
   "outputs": [],
   "source": [
    "import os\n",
    "import pandas as pd\n",
    "import random\n",
    "import librosa\n",
    "import numpy as np\n",
    "import soundfile as sf\n",
    "from tqdm import tqdm\n",
    "\n",
    "def generate_paths_adresso(output_dir, root_dir=\"/scratch/project_2007260/ADReSSo/ADReSSo21/diagnosis\", mode='train', csv_path=\"\", chunk=True):\n",
    "    data = pd.read_csv(csv_path)\n",
    "    data.loc[data['Dx'] == 'Control', 'Dx'] = 'HC'\n",
    "    data.loc[data['Dx'] == 'ProbableAD', 'Dx'] = 'Dementia'\n",
    "\n",
    "    data_list = []\n",
    "    num_files_not_found = 0\n",
    "\n",
    "    for index, row in tqdm(data.iterrows()):\n",
    "        orig_record_id = row['ID']\n",
    "        label = row['Dx']\n",
    "\n",
    "        if mode == 'test-dist':\n",
    "          record_id = orig_record_id\n",
    "        else:\n",
    "          record_id = format_string(orig_record_id)\n",
    "        print(record_id, label)\n",
    "\n",
    "        audio_dir = 'audio'\n",
    "        seg_dir = 'segmentation'\n",
    "        if label == 'HC':\n",
    "            if mode == 'train':\n",
    "                audio_dir = 'audio/cn'\n",
    "                seg_dir = 'segmentation/cn'\n",
    "            audio_path = os.path.join(f'/scratch/project_2007260/ADReSSo/ADReSSo21/diagnosis/{mode}/{audio_dir}', f'{record_id}.wav')\n",
    "            seg_path = os.path.join(f'/scratch/project_2007260/ADReSSo/ADReSSo21/diagnosis/{mode}/{seg_dir}', f'{record_id}.csv')\n",
    "            numerical_label = 0\n",
    "        elif label == 'Dementia':\n",
    "            if mode == 'train':\n",
    "                audio_dir = 'audio/ad'\n",
    "                seg_dir = 'segmentation/ad'\n",
    "            audio_path = os.path.join(f'/scratch/project_2007260/ADReSSo/ADReSSo21/diagnosis/{mode}/{audio_dir}', f'{record_id}.wav')\n",
    "            seg_path = os.path.join(f'/scratch/project_2007260/ADReSSo/ADReSSo21/diagnosis/{mode}/{seg_dir}', f'{record_id}.csv')\n",
    "            numerical_label = 1\n",
    "        else:\n",
    "            continue\n",
    "\n",
    "        try:\n",
    "\n",
    "            y, sr = librosa.load(audio_path, sr=16000)\n",
    "            segments = pd.read_csv(seg_path)\n",
    "            segments = segments[segments['speaker'] == 'PAR']\n",
    "\n",
    "            index = 0\n",
    "            concat_audio = None\n",
    "            print(\"Chunk is: \", chunk)\n",
    "\n",
    "            for idx, segment in segments.iterrows():\n",
    "\n",
    "                chunk_path = os.path.join(output_dir, f'{record_id}_adresso_chunk_{index}.wav')\n",
    "                start_time = int(segment['begin']) / 1000\n",
    "                end_time = int(segment['end']) / 1000\n",
    "\n",
    "                if chunk:\n",
    "\n",
    "                  if (end_time - start_time) >= 1:\n",
    "                    if not os.path.exists(chunk_path):\n",
    "\n",
    "                      chunk = y[int(start_time * sr) : int(end_time * sr)]\n",
    "\n",
    "                      chunk = augment_chunk(chunk, sr)\n",
    "                      sf.write(chunk_path, chunk, sr)\n",
    "\n",
    "                    data_list.append({\n",
    "                        'audio_path': chunk_path,\n",
    "                        'text_path': None,\n",
    "                        'label': numerical_label,\n",
    "                        'task_type': 'adresso'\n",
    "                    })\n",
    "                    index += 1\n",
    "                else:\n",
    "                  if concat_audio is None:\n",
    "                    concat_audio = y[int(start_time * sr) : int(end_time * sr)]\n",
    "                  else:\n",
    "                    concat_audio = np.concatenate((concat_audio, y[int(start_time * sr) : int(end_time * sr)]))\n",
    "\n",
    "            if concat_audio is not None:\n",
    "              concat_audio_path = os.path.join(output_dir, f'{record_id}_adresso_concat.wav')\n",
    "              concat_augment = augment_chunk(concat_audio, sr)\n",
    "              sf.write(concat_audio_path, concat_augment, sr)\n",
    "              data_list.append({\n",
    "                  'audio_path': concat_audio_path,\n",
    "                  'text_path': None,\n",
    "                  'label': numerical_label,\n",
    "                  'task_type': 'adresso'\n",
    "              })\n",
    "\n",
    "\n",
    "        except FileNotFoundError:\n",
    "            print(f\"File not found: {audio_path} or {seg_path}\")\n",
    "            num_files_not_found += 1\n",
    "            continue\n",
    "    print(\"Number of files not found: \", num_files_not_found)\n",
    "\n",
    "    return data_list"
   ]
  },
  {
   "cell_type": "code",
   "execution_count": 148,
   "id": "fe99badc-e8f7-4cfe-9a25-971550e86c94",
   "metadata": {},
   "outputs": [
    {
     "name": "stderr",
     "output_type": "stream",
     "text": [
      "0it [00:00, ?it/s]"
     ]
    },
    {
     "name": "stdout",
     "output_type": "stream",
     "text": [
      "adrsdt15 HC\n",
      "Chunk is:  False\n"
     ]
    },
    {
     "name": "stderr",
     "output_type": "stream",
     "text": [
      "2it [00:00,  2.93it/s]"
     ]
    },
    {
     "name": "stdout",
     "output_type": "stream",
     "text": [
      "adrsdt40 HC\n",
      "Chunk is:  False\n",
      "adrsdt26 HC\n"
     ]
    },
    {
     "name": "stderr",
     "output_type": "stream",
     "text": [
      "3it [00:01,  3.34it/s]"
     ]
    },
    {
     "name": "stdout",
     "output_type": "stream",
     "text": [
      "Chunk is:  False\n",
      "adrsdt67 HC\n",
      "Chunk is:  False\n"
     ]
    },
    {
     "name": "stderr",
     "output_type": "stream",
     "text": [
      "4it [00:01,  3.96it/s]"
     ]
    },
    {
     "name": "stdout",
     "output_type": "stream",
     "text": [
      "adrsdt58 HC\n"
     ]
    },
    {
     "name": "stderr",
     "output_type": "stream",
     "text": [
      "5it [00:01,  3.61it/s]"
     ]
    },
    {
     "name": "stdout",
     "output_type": "stream",
     "text": [
      "Chunk is:  False\n",
      "adrsdt49 HC\n"
     ]
    },
    {
     "name": "stderr",
     "output_type": "stream",
     "text": [
      "6it [00:01,  3.85it/s]"
     ]
    },
    {
     "name": "stdout",
     "output_type": "stream",
     "text": [
      "Chunk is:  False\n",
      "adrsdt46 Dementia\n",
      "Chunk is:  False\n"
     ]
    },
    {
     "name": "stderr",
     "output_type": "stream",
     "text": [
      "7it [00:02,  1.76it/s]"
     ]
    },
    {
     "name": "stdout",
     "output_type": "stream",
     "text": [
      "adrsdt8 Dementia\n"
     ]
    },
    {
     "name": "stderr",
     "output_type": "stream",
     "text": [
      "8it [00:03,  2.08it/s]"
     ]
    },
    {
     "name": "stdout",
     "output_type": "stream",
     "text": [
      "Chunk is:  False\n",
      "adrsdt64 Dementia\n"
     ]
    },
    {
     "name": "stderr",
     "output_type": "stream",
     "text": [
      "9it [00:03,  2.55it/s]"
     ]
    },
    {
     "name": "stdout",
     "output_type": "stream",
     "text": [
      "Chunk is:  False\n",
      "adrsdt29 Dementia\n"
     ]
    },
    {
     "name": "stderr",
     "output_type": "stream",
     "text": [
      "10it [00:03,  2.60it/s]"
     ]
    },
    {
     "name": "stdout",
     "output_type": "stream",
     "text": [
      "Chunk is:  False\n",
      "adrsdt59 Dementia\n"
     ]
    },
    {
     "name": "stderr",
     "output_type": "stream",
     "text": [
      "11it [00:04,  2.98it/s]"
     ]
    },
    {
     "name": "stdout",
     "output_type": "stream",
     "text": [
      "Chunk is:  False\n",
      "adrsdt18 Dementia\n"
     ]
    },
    {
     "name": "stderr",
     "output_type": "stream",
     "text": [
      "12it [00:04,  2.49it/s]"
     ]
    },
    {
     "name": "stdout",
     "output_type": "stream",
     "text": [
      "Chunk is:  False\n",
      "adrsdt44 Dementia\n"
     ]
    },
    {
     "name": "stderr",
     "output_type": "stream",
     "text": [
      "13it [00:04,  2.65it/s]"
     ]
    },
    {
     "name": "stdout",
     "output_type": "stream",
     "text": [
      "Chunk is:  False\n",
      "adrsdt61 Dementia\n"
     ]
    },
    {
     "name": "stderr",
     "output_type": "stream",
     "text": [
      "14it [00:05,  2.78it/s]"
     ]
    },
    {
     "name": "stdout",
     "output_type": "stream",
     "text": [
      "Chunk is:  False\n",
      "adrsdt37 Dementia\n"
     ]
    },
    {
     "name": "stderr",
     "output_type": "stream",
     "text": [
      "15it [00:05,  3.10it/s]"
     ]
    },
    {
     "name": "stdout",
     "output_type": "stream",
     "text": [
      "Chunk is:  False\n",
      "adrsdt32 Dementia\n"
     ]
    },
    {
     "name": "stderr",
     "output_type": "stream",
     "text": [
      "16it [00:05,  3.12it/s]"
     ]
    },
    {
     "name": "stdout",
     "output_type": "stream",
     "text": [
      "Chunk is:  False\n",
      "adrsdt62 Dementia\n",
      "Chunk is:  False\n"
     ]
    },
    {
     "name": "stderr",
     "output_type": "stream",
     "text": [
      "17it [00:06,  2.51it/s]"
     ]
    },
    {
     "name": "stdout",
     "output_type": "stream",
     "text": [
      "adrsdt71 Dementia\n",
      "Chunk is:  False\n"
     ]
    },
    {
     "name": "stderr",
     "output_type": "stream",
     "text": [
      "18it [00:06,  2.76it/s]"
     ]
    },
    {
     "name": "stdout",
     "output_type": "stream",
     "text": [
      "adrsdt24 Dementia\n",
      "Chunk is:  False\n"
     ]
    },
    {
     "name": "stderr",
     "output_type": "stream",
     "text": [
      "19it [00:06,  2.84it/s]"
     ]
    },
    {
     "name": "stdout",
     "output_type": "stream",
     "text": [
      "adrsdt63 Dementia\n"
     ]
    },
    {
     "name": "stderr",
     "output_type": "stream",
     "text": [
      "20it [00:07,  3.06it/s]"
     ]
    },
    {
     "name": "stdout",
     "output_type": "stream",
     "text": [
      "Chunk is:  False\n",
      "adrsdt1 Dementia\n"
     ]
    },
    {
     "name": "stderr",
     "output_type": "stream",
     "text": [
      "21it [00:07,  3.37it/s]"
     ]
    },
    {
     "name": "stdout",
     "output_type": "stream",
     "text": [
      "Chunk is:  False\n",
      "adrsdt13 Dementia\n"
     ]
    },
    {
     "name": "stderr",
     "output_type": "stream",
     "text": [
      "22it [00:07,  3.31it/s]"
     ]
    },
    {
     "name": "stdout",
     "output_type": "stream",
     "text": [
      "Chunk is:  False\n",
      "adrsdt19 Dementia\n",
      "Chunk is:  False\n"
     ]
    },
    {
     "name": "stderr",
     "output_type": "stream",
     "text": [
      "24it [00:08,  3.55it/s]"
     ]
    },
    {
     "name": "stdout",
     "output_type": "stream",
     "text": [
      "adrsdt14 Dementia\n",
      "Chunk is:  False\n",
      "adrsdt2 Dementia\n"
     ]
    },
    {
     "name": "stderr",
     "output_type": "stream",
     "text": [
      "25it [00:08,  3.46it/s]"
     ]
    },
    {
     "name": "stdout",
     "output_type": "stream",
     "text": [
      "Chunk is:  False\n",
      "adrsdt16 Dementia\n"
     ]
    },
    {
     "name": "stderr",
     "output_type": "stream",
     "text": [
      "26it [00:08,  3.97it/s]"
     ]
    },
    {
     "name": "stdout",
     "output_type": "stream",
     "text": [
      "Chunk is:  False\n",
      "adrsdt41 Dementia\n"
     ]
    },
    {
     "name": "stderr",
     "output_type": "stream",
     "text": [
      "28it [00:09,  2.81it/s]"
     ]
    },
    {
     "name": "stdout",
     "output_type": "stream",
     "text": [
      "Chunk is:  False\n",
      "adrsdt7 Dementia\n",
      "Chunk is:  False\n",
      "adrsdt39 Dementia\n"
     ]
    },
    {
     "name": "stderr",
     "output_type": "stream",
     "text": [
      "29it [00:10,  3.17it/s]"
     ]
    },
    {
     "name": "stdout",
     "output_type": "stream",
     "text": [
      "Chunk is:  False\n",
      "adrsdt38 HC\n",
      "Chunk is:  False\n"
     ]
    },
    {
     "name": "stderr",
     "output_type": "stream",
     "text": [
      "30it [00:10,  2.57it/s]"
     ]
    },
    {
     "name": "stdout",
     "output_type": "stream",
     "text": [
      "adrsdt30 HC\n",
      "Chunk is:  False\n"
     ]
    },
    {
     "name": "stderr",
     "output_type": "stream",
     "text": [
      "31it [00:10,  2.80it/s]"
     ]
    },
    {
     "name": "stdout",
     "output_type": "stream",
     "text": [
      "adrsdt52 HC\n"
     ]
    },
    {
     "name": "stderr",
     "output_type": "stream",
     "text": [
      "32it [00:11,  2.76it/s]"
     ]
    },
    {
     "name": "stdout",
     "output_type": "stream",
     "text": [
      "Chunk is:  False\n",
      "adrsdt65 HC\n"
     ]
    },
    {
     "name": "stderr",
     "output_type": "stream",
     "text": [
      "33it [00:11,  2.77it/s]"
     ]
    },
    {
     "name": "stdout",
     "output_type": "stream",
     "text": [
      "Chunk is:  False\n",
      "adrsdt10 HC\n"
     ]
    },
    {
     "name": "stderr",
     "output_type": "stream",
     "text": [
      "35it [00:12,  3.46it/s]"
     ]
    },
    {
     "name": "stdout",
     "output_type": "stream",
     "text": [
      "Chunk is:  False\n",
      "adrsdt42 HC\n",
      "Chunk is:  False\n",
      "adrsdt21 HC\n"
     ]
    },
    {
     "name": "stderr",
     "output_type": "stream",
     "text": [
      "36it [00:12,  4.15it/s]"
     ]
    },
    {
     "name": "stdout",
     "output_type": "stream",
     "text": [
      "Chunk is:  False\n",
      "adrsdt11 HC\n"
     ]
    },
    {
     "name": "stderr",
     "output_type": "stream",
     "text": [
      "37it [00:12,  3.15it/s]"
     ]
    },
    {
     "name": "stdout",
     "output_type": "stream",
     "text": [
      "Chunk is:  False\n",
      "adrsdt17 HC\n",
      "Chunk is:  False\n"
     ]
    },
    {
     "name": "stderr",
     "output_type": "stream",
     "text": [
      "38it [00:13,  2.11it/s]"
     ]
    },
    {
     "name": "stdout",
     "output_type": "stream",
     "text": [
      "adrsdt20 Dementia\n",
      "Chunk is:  False\n"
     ]
    },
    {
     "name": "stderr",
     "output_type": "stream",
     "text": [
      "40it [00:14,  2.63it/s]"
     ]
    },
    {
     "name": "stdout",
     "output_type": "stream",
     "text": [
      "adrsdt28 Dementia\n",
      "Chunk is:  False\n",
      "adrsdt23 Dementia\n"
     ]
    },
    {
     "name": "stderr",
     "output_type": "stream",
     "text": [
      "42it [00:14,  3.58it/s]"
     ]
    },
    {
     "name": "stdout",
     "output_type": "stream",
     "text": [
      "Chunk is:  False\n",
      "adrsdt70 Dementia\n",
      "Chunk is:  False\n",
      "adrsdt33 Dementia\n"
     ]
    },
    {
     "name": "stderr",
     "output_type": "stream",
     "text": [
      "43it [00:14,  3.69it/s]"
     ]
    },
    {
     "name": "stdout",
     "output_type": "stream",
     "text": [
      "Chunk is:  False\n",
      "adrsdt4 Dementia\n",
      "Chunk is:  False\n"
     ]
    },
    {
     "name": "stderr",
     "output_type": "stream",
     "text": [
      "44it [00:15,  3.60it/s]"
     ]
    },
    {
     "name": "stdout",
     "output_type": "stream",
     "text": [
      "adrsdt57 Dementia\n",
      "Chunk is:  False\n"
     ]
    },
    {
     "name": "stderr",
     "output_type": "stream",
     "text": [
      "45it [00:15,  3.76it/s]"
     ]
    },
    {
     "name": "stdout",
     "output_type": "stream",
     "text": [
      "adrsdt35 Dementia\n",
      "Chunk is:  False\n"
     ]
    },
    {
     "name": "stderr",
     "output_type": "stream",
     "text": [
      "46it [00:15,  3.45it/s]"
     ]
    },
    {
     "name": "stdout",
     "output_type": "stream",
     "text": [
      "adrsdt9 Dementia\n",
      "Chunk is:  False\n"
     ]
    },
    {
     "name": "stderr",
     "output_type": "stream",
     "text": [
      "48it [00:16,  4.28it/s]"
     ]
    },
    {
     "name": "stdout",
     "output_type": "stream",
     "text": [
      "adrsdt60 Dementia\n",
      "Chunk is:  False\n",
      "adrsdt25 Dementia\n",
      "Chunk is:  False\n"
     ]
    },
    {
     "name": "stderr",
     "output_type": "stream",
     "text": [
      "50it [00:17,  3.01it/s]"
     ]
    },
    {
     "name": "stdout",
     "output_type": "stream",
     "text": [
      "adrsdt34 Dementia\n",
      "Chunk is:  False\n",
      "adrsdt27 HC\n"
     ]
    },
    {
     "name": "stderr",
     "output_type": "stream",
     "text": [
      "51it [00:17,  3.14it/s]"
     ]
    },
    {
     "name": "stdout",
     "output_type": "stream",
     "text": [
      "Chunk is:  False\n",
      "adrsdt54 HC\n"
     ]
    },
    {
     "name": "stderr",
     "output_type": "stream",
     "text": [
      "52it [00:17,  3.43it/s]"
     ]
    },
    {
     "name": "stdout",
     "output_type": "stream",
     "text": [
      "Chunk is:  False\n",
      "adrsdt66 HC\n"
     ]
    },
    {
     "name": "stderr",
     "output_type": "stream",
     "text": [
      "53it [00:17,  3.42it/s]"
     ]
    },
    {
     "name": "stdout",
     "output_type": "stream",
     "text": [
      "Chunk is:  False\n",
      "adrsdt45 HC\n"
     ]
    },
    {
     "name": "stderr",
     "output_type": "stream",
     "text": [
      "54it [00:18,  4.13it/s]"
     ]
    },
    {
     "name": "stdout",
     "output_type": "stream",
     "text": [
      "Chunk is:  False\n",
      "adrsdt56 HC\n"
     ]
    },
    {
     "name": "stderr",
     "output_type": "stream",
     "text": [
      "55it [00:18,  3.63it/s]"
     ]
    },
    {
     "name": "stdout",
     "output_type": "stream",
     "text": [
      "Chunk is:  False\n",
      "adrsdt43 HC\n",
      "Chunk is:  False\n"
     ]
    },
    {
     "name": "stderr",
     "output_type": "stream",
     "text": [
      "57it [00:18,  4.06it/s]"
     ]
    },
    {
     "name": "stdout",
     "output_type": "stream",
     "text": [
      "adrsdt51 HC\n",
      "Chunk is:  False\n",
      "adrsdt50 HC\n",
      "Chunk is:  False\n"
     ]
    },
    {
     "name": "stderr",
     "output_type": "stream",
     "text": [
      "58it [00:19,  2.67it/s]"
     ]
    },
    {
     "name": "stdout",
     "output_type": "stream",
     "text": [
      "adrsdt53 HC\n",
      "Chunk is:  False\n"
     ]
    },
    {
     "name": "stderr",
     "output_type": "stream",
     "text": [
      "60it [00:19,  3.42it/s]"
     ]
    },
    {
     "name": "stdout",
     "output_type": "stream",
     "text": [
      "adrsdt69 HC\n",
      "Chunk is:  False\n",
      "adrsdt6 HC\n"
     ]
    },
    {
     "name": "stderr",
     "output_type": "stream",
     "text": [
      "61it [00:21,  1.72it/s]"
     ]
    },
    {
     "name": "stdout",
     "output_type": "stream",
     "text": [
      "Chunk is:  False\n",
      "adrsdt12 HC\n"
     ]
    },
    {
     "name": "stderr",
     "output_type": "stream",
     "text": [
      "62it [00:21,  2.12it/s]"
     ]
    },
    {
     "name": "stdout",
     "output_type": "stream",
     "text": [
      "Chunk is:  False\n",
      "adrsdt36 HC\n"
     ]
    },
    {
     "name": "stderr",
     "output_type": "stream",
     "text": [
      "63it [00:21,  2.28it/s]"
     ]
    },
    {
     "name": "stdout",
     "output_type": "stream",
     "text": [
      "Chunk is:  False\n",
      "adrsdt3 HC\n",
      "Chunk is:  False\n"
     ]
    },
    {
     "name": "stderr",
     "output_type": "stream",
     "text": [
      "64it [00:21,  2.74it/s]"
     ]
    },
    {
     "name": "stdout",
     "output_type": "stream",
     "text": [
      "adrsdt47 HC\n"
     ]
    },
    {
     "name": "stderr",
     "output_type": "stream",
     "text": [
      "65it [00:22,  2.06it/s]"
     ]
    },
    {
     "name": "stdout",
     "output_type": "stream",
     "text": [
      "Chunk is:  False\n",
      "adrsdt22 HC\n"
     ]
    },
    {
     "name": "stderr",
     "output_type": "stream",
     "text": [
      "66it [00:23,  2.40it/s]"
     ]
    },
    {
     "name": "stdout",
     "output_type": "stream",
     "text": [
      "Chunk is:  False\n",
      "adrsdt55 HC\n"
     ]
    },
    {
     "name": "stderr",
     "output_type": "stream",
     "text": [
      "67it [00:23,  2.79it/s]"
     ]
    },
    {
     "name": "stdout",
     "output_type": "stream",
     "text": [
      "Chunk is:  False\n",
      "adrsdt68 HC\n"
     ]
    },
    {
     "name": "stderr",
     "output_type": "stream",
     "text": [
      "68it [00:23,  3.07it/s]"
     ]
    },
    {
     "name": "stdout",
     "output_type": "stream",
     "text": [
      "Chunk is:  False\n",
      "adrsdt31 HC\n"
     ]
    },
    {
     "name": "stderr",
     "output_type": "stream",
     "text": [
      "70it [00:24,  3.57it/s]"
     ]
    },
    {
     "name": "stdout",
     "output_type": "stream",
     "text": [
      "Chunk is:  False\n",
      "adrsdt5 HC\n",
      "Chunk is:  False\n",
      "adrsdt48 HC\n"
     ]
    },
    {
     "name": "stderr",
     "output_type": "stream",
     "text": [
      "71it [00:24,  2.93it/s]"
     ]
    },
    {
     "name": "stdout",
     "output_type": "stream",
     "text": [
      "Chunk is:  False\n",
      "Number of files not found:  0\n"
     ]
    },
    {
     "name": "stderr",
     "output_type": "stream",
     "text": [
      "\n"
     ]
    }
   ],
   "source": [
    "adresso_test_list = generate_paths_adresso(\n",
    "    '/scratch/project_2007260/ADReSSo/ADReSSo21/Dhinirnaya_chunk',\n",
    "    mode='test-dist',\n",
    "    csv_path='/scratch/project_2007260/ADReSSo/ADReSSo21/task1.csv',\n",
    "    chunk=False\n",
    ")"
   ]
  },
  {
   "cell_type": "code",
   "execution_count": null,
   "id": "33cc6db9-a839-40de-bad2-bd6a379e856f",
   "metadata": {},
   "outputs": [],
   "source": []
  },
  {
   "cell_type": "code",
   "execution_count": 149,
   "id": "46c14623-b8e5-4b9a-952f-46ff84f9cdaa",
   "metadata": {},
   "outputs": [],
   "source": [
    "dev_adresso_path = os.path.join(root_data_dir, 'dev_adresso_concat.csv')\n",
    "pd.DataFrame(adresso_test_list).to_csv(dev_adresso_path, index=False)"
   ]
  },
  {
   "cell_type": "code",
   "execution_count": 150,
   "id": "0e2dfbc3-54d6-4d5f-a7fb-618eaee1f71a",
   "metadata": {},
   "outputs": [
    {
     "name": "stderr",
     "output_type": "stream",
     "text": [
      "0it [00:00, ?it/s]"
     ]
    },
    {
     "name": "stdout",
     "output_type": "stream",
     "text": [
      "adrso270 HC\n"
     ]
    },
    {
     "name": "stderr",
     "output_type": "stream",
     "text": [
      "1it [00:00,  1.60it/s]"
     ]
    },
    {
     "name": "stdout",
     "output_type": "stream",
     "text": [
      "Chunk is:  False\n",
      "adrso017 HC\n"
     ]
    },
    {
     "name": "stderr",
     "output_type": "stream",
     "text": [
      "2it [00:00,  2.50it/s]"
     ]
    },
    {
     "name": "stdout",
     "output_type": "stream",
     "text": [
      "Chunk is:  False\n",
      "adrso300 HC\n"
     ]
    },
    {
     "name": "stderr",
     "output_type": "stream",
     "text": [
      "3it [00:01,  2.42it/s]"
     ]
    },
    {
     "name": "stdout",
     "output_type": "stream",
     "text": [
      "Chunk is:  False\n",
      "adrso160 HC\n",
      "Chunk is:  False\n"
     ]
    },
    {
     "name": "stderr",
     "output_type": "stream",
     "text": [
      "4it [00:01,  2.73it/s]"
     ]
    },
    {
     "name": "stdout",
     "output_type": "stream",
     "text": [
      "adrso167 HC\n",
      "Chunk is:  False\n"
     ]
    },
    {
     "name": "stderr",
     "output_type": "stream",
     "text": [
      "5it [00:02,  2.27it/s]"
     ]
    },
    {
     "name": "stdout",
     "output_type": "stream",
     "text": [
      "adrso308 HC\n"
     ]
    },
    {
     "name": "stderr",
     "output_type": "stream",
     "text": [
      "6it [00:02,  2.12it/s]"
     ]
    },
    {
     "name": "stdout",
     "output_type": "stream",
     "text": [
      "Chunk is:  False\n",
      "adrso021 HC\n"
     ]
    },
    {
     "name": "stderr",
     "output_type": "stream",
     "text": [
      "7it [00:02,  2.73it/s]"
     ]
    },
    {
     "name": "stdout",
     "output_type": "stream",
     "text": [
      "Chunk is:  False\n",
      "adrso012 HC\n",
      "Chunk is:  False\n"
     ]
    },
    {
     "name": "stderr",
     "output_type": "stream",
     "text": [
      "8it [00:03,  2.06it/s]"
     ]
    },
    {
     "name": "stdout",
     "output_type": "stream",
     "text": [
      "adrso008 HC\n"
     ]
    },
    {
     "name": "stderr",
     "output_type": "stream",
     "text": [
      "9it [00:03,  2.30it/s]"
     ]
    },
    {
     "name": "stdout",
     "output_type": "stream",
     "text": [
      "Chunk is:  False\n",
      "adrso153 HC\n"
     ]
    },
    {
     "name": "stderr",
     "output_type": "stream",
     "text": [
      "10it [00:04,  2.47it/s]"
     ]
    },
    {
     "name": "stdout",
     "output_type": "stream",
     "text": [
      "Chunk is:  False\n",
      "adrso283 HC\n"
     ]
    },
    {
     "name": "stderr",
     "output_type": "stream",
     "text": [
      "11it [00:04,  2.83it/s]"
     ]
    },
    {
     "name": "stdout",
     "output_type": "stream",
     "text": [
      "Chunk is:  False\n",
      "adrso264 HC\n"
     ]
    },
    {
     "name": "stderr",
     "output_type": "stream",
     "text": [
      "12it [00:04,  2.86it/s]"
     ]
    },
    {
     "name": "stdout",
     "output_type": "stream",
     "text": [
      "Chunk is:  False\n",
      "adrso169 HC\n"
     ]
    },
    {
     "name": "stderr",
     "output_type": "stream",
     "text": [
      "13it [00:04,  3.49it/s]"
     ]
    },
    {
     "name": "stdout",
     "output_type": "stream",
     "text": [
      "Chunk is:  False\n",
      "adrso010 HC\n",
      "Chunk is:  False\n"
     ]
    },
    {
     "name": "stderr",
     "output_type": "stream",
     "text": [
      "15it [00:05,  4.28it/s]"
     ]
    },
    {
     "name": "stdout",
     "output_type": "stream",
     "text": [
      "adrso263 HC\n",
      "Chunk is:  False\n",
      "adrso162 HC\n"
     ]
    },
    {
     "name": "stderr",
     "output_type": "stream",
     "text": [
      "16it [00:05,  3.87it/s]"
     ]
    },
    {
     "name": "stdout",
     "output_type": "stream",
     "text": [
      "Chunk is:  False\n",
      "adrso018 HC\n"
     ]
    },
    {
     "name": "stderr",
     "output_type": "stream",
     "text": [
      "17it [00:05,  4.49it/s]"
     ]
    },
    {
     "name": "stdout",
     "output_type": "stream",
     "text": [
      "Chunk is:  False\n",
      "adrso161 HC\n"
     ]
    },
    {
     "name": "stderr",
     "output_type": "stream",
     "text": [
      "18it [00:06,  3.61it/s]"
     ]
    },
    {
     "name": "stdout",
     "output_type": "stream",
     "text": [
      "Chunk is:  False\n",
      "adrso286 HC\n"
     ]
    },
    {
     "name": "stderr",
     "output_type": "stream",
     "text": [
      "19it [00:06,  4.09it/s]"
     ]
    },
    {
     "name": "stdout",
     "output_type": "stream",
     "text": [
      "Chunk is:  False\n",
      "adrso172 HC\n"
     ]
    },
    {
     "name": "stderr",
     "output_type": "stream",
     "text": [
      "20it [00:06,  3.36it/s]"
     ]
    },
    {
     "name": "stdout",
     "output_type": "stream",
     "text": [
      "Chunk is:  False\n",
      "adrso152 HC\n",
      "Chunk is:  False\n"
     ]
    },
    {
     "name": "stderr",
     "output_type": "stream",
     "text": [
      "21it [00:06,  3.83it/s]"
     ]
    },
    {
     "name": "stdout",
     "output_type": "stream",
     "text": [
      "adrso182 HC\n",
      "Chunk is:  False\n"
     ]
    },
    {
     "name": "stderr",
     "output_type": "stream",
     "text": [
      "23it [00:07,  4.88it/s]"
     ]
    },
    {
     "name": "stdout",
     "output_type": "stream",
     "text": [
      "adrso015 HC\n",
      "Chunk is:  False\n",
      "adrso159 HC\n"
     ]
    },
    {
     "name": "stderr",
     "output_type": "stream",
     "text": [
      "24it [00:07,  5.11it/s]"
     ]
    },
    {
     "name": "stdout",
     "output_type": "stream",
     "text": [
      "Chunk is:  False\n",
      "adrso016 HC\n"
     ]
    },
    {
     "name": "stderr",
     "output_type": "stream",
     "text": [
      "25it [00:07,  4.78it/s]"
     ]
    },
    {
     "name": "stdout",
     "output_type": "stream",
     "text": [
      "Chunk is:  False\n",
      "adrso183 HC\n",
      "Chunk is:  False\n"
     ]
    },
    {
     "name": "stderr",
     "output_type": "stream",
     "text": [
      "27it [00:08,  4.13it/s]"
     ]
    },
    {
     "name": "stdout",
     "output_type": "stream",
     "text": [
      "adrso023 HC\n",
      "Chunk is:  False\n",
      "adrso285 HC\n"
     ]
    },
    {
     "name": "stderr",
     "output_type": "stream",
     "text": [
      "28it [00:08,  4.60it/s]"
     ]
    },
    {
     "name": "stdout",
     "output_type": "stream",
     "text": [
      "Chunk is:  False\n",
      "adrso177 HC\n"
     ]
    },
    {
     "name": "stderr",
     "output_type": "stream",
     "text": [
      "29it [00:08,  3.73it/s]"
     ]
    },
    {
     "name": "stdout",
     "output_type": "stream",
     "text": [
      "Chunk is:  False\n",
      "adrso261 HC\n"
     ]
    },
    {
     "name": "stderr",
     "output_type": "stream",
     "text": [
      "30it [00:09,  3.71it/s]"
     ]
    },
    {
     "name": "stdout",
     "output_type": "stream",
     "text": [
      "Chunk is:  False\n",
      "adrso003 HC\n",
      "Chunk is:  False\n"
     ]
    },
    {
     "name": "stderr",
     "output_type": "stream",
     "text": [
      "32it [00:09,  4.59it/s]"
     ]
    },
    {
     "name": "stdout",
     "output_type": "stream",
     "text": [
      "adrso154 HC\n",
      "Chunk is:  False\n",
      "adrso298 HC\n"
     ]
    },
    {
     "name": "stderr",
     "output_type": "stream",
     "text": [
      "33it [00:09,  3.90it/s]"
     ]
    },
    {
     "name": "stdout",
     "output_type": "stream",
     "text": [
      "Chunk is:  False\n",
      "adrso315 HC\n"
     ]
    },
    {
     "name": "stderr",
     "output_type": "stream",
     "text": [
      "34it [00:09,  4.38it/s]"
     ]
    },
    {
     "name": "stdout",
     "output_type": "stream",
     "text": [
      "Chunk is:  False\n",
      "adrso278 HC\n"
     ]
    },
    {
     "name": "stderr",
     "output_type": "stream",
     "text": [
      "35it [00:10,  2.90it/s]"
     ]
    },
    {
     "name": "stdout",
     "output_type": "stream",
     "text": [
      "Chunk is:  False\n",
      "adrso260 HC\n",
      "Chunk is:  False\n"
     ]
    },
    {
     "name": "stderr",
     "output_type": "stream",
     "text": [
      "37it [00:10,  3.79it/s]"
     ]
    },
    {
     "name": "stdout",
     "output_type": "stream",
     "text": [
      "adrso014 HC\n",
      "Chunk is:  False\n",
      "adrso277 HC\n"
     ]
    },
    {
     "name": "stderr",
     "output_type": "stream",
     "text": [
      "38it [00:11,  4.20it/s]"
     ]
    },
    {
     "name": "stdout",
     "output_type": "stream",
     "text": [
      "Chunk is:  False\n",
      "adrso296 HC\n",
      "Chunk is:  False\n"
     ]
    },
    {
     "name": "stderr",
     "output_type": "stream",
     "text": [
      "39it [00:11,  3.78it/s]"
     ]
    },
    {
     "name": "stdout",
     "output_type": "stream",
     "text": [
      "adrso257 HC\n"
     ]
    },
    {
     "name": "stderr",
     "output_type": "stream",
     "text": [
      "40it [00:11,  3.08it/s]"
     ]
    },
    {
     "name": "stdout",
     "output_type": "stream",
     "text": [
      "Chunk is:  False\n",
      "adrso274 HC\n"
     ]
    },
    {
     "name": "stderr",
     "output_type": "stream",
     "text": [
      "41it [00:12,  2.87it/s]"
     ]
    },
    {
     "name": "stdout",
     "output_type": "stream",
     "text": [
      "Chunk is:  False\n",
      "adrso005 HC\n",
      "Chunk is:  False\n"
     ]
    },
    {
     "name": "stderr",
     "output_type": "stream",
     "text": [
      "42it [00:12,  2.32it/s]"
     ]
    },
    {
     "name": "stdout",
     "output_type": "stream",
     "text": [
      "adrso266 HC\n",
      "Chunk is:  False\n"
     ]
    },
    {
     "name": "stderr",
     "output_type": "stream",
     "text": [
      "44it [00:13,  3.12it/s]"
     ]
    },
    {
     "name": "stdout",
     "output_type": "stream",
     "text": [
      "adrso170 HC\n",
      "Chunk is:  False\n",
      "adrso007 HC\n"
     ]
    },
    {
     "name": "stderr",
     "output_type": "stream",
     "text": [
      "45it [00:14,  2.22it/s]"
     ]
    },
    {
     "name": "stdout",
     "output_type": "stream",
     "text": [
      "Chunk is:  False\n",
      "adrso173 HC\n"
     ]
    },
    {
     "name": "stderr",
     "output_type": "stream",
     "text": [
      "46it [00:14,  2.44it/s]"
     ]
    },
    {
     "name": "stdout",
     "output_type": "stream",
     "text": [
      "Chunk is:  False\n",
      "adrso267 HC\n"
     ]
    },
    {
     "name": "stderr",
     "output_type": "stream",
     "text": [
      "47it [00:14,  2.76it/s]"
     ]
    },
    {
     "name": "stdout",
     "output_type": "stream",
     "text": [
      "Chunk is:  False\n",
      "adrso292 HC\n",
      "Chunk is:  False\n"
     ]
    },
    {
     "name": "stderr",
     "output_type": "stream",
     "text": [
      "49it [00:15,  3.46it/s]"
     ]
    },
    {
     "name": "stdout",
     "output_type": "stream",
     "text": [
      "adrso307 HC\n",
      "Chunk is:  False\n",
      "adrso312 HC\n"
     ]
    },
    {
     "name": "stderr",
     "output_type": "stream",
     "text": [
      "50it [00:15,  3.67it/s]"
     ]
    },
    {
     "name": "stdout",
     "output_type": "stream",
     "text": [
      "Chunk is:  False\n",
      "adrso291 HC\n"
     ]
    },
    {
     "name": "stderr",
     "output_type": "stream",
     "text": [
      "51it [00:15,  3.72it/s]"
     ]
    },
    {
     "name": "stdout",
     "output_type": "stream",
     "text": [
      "Chunk is:  False\n",
      "adrso002 HC\n"
     ]
    },
    {
     "name": "stderr",
     "output_type": "stream",
     "text": [
      "52it [00:16,  3.16it/s]"
     ]
    },
    {
     "name": "stdout",
     "output_type": "stream",
     "text": [
      "Chunk is:  False\n",
      "adrso019 HC\n"
     ]
    },
    {
     "name": "stderr",
     "output_type": "stream",
     "text": [
      "53it [00:16,  2.80it/s]"
     ]
    },
    {
     "name": "stdout",
     "output_type": "stream",
     "text": [
      "Chunk is:  False\n",
      "adrso280 HC\n",
      "Chunk is:  False\n"
     ]
    },
    {
     "name": "stderr",
     "output_type": "stream",
     "text": [
      "54it [00:16,  2.99it/s]"
     ]
    },
    {
     "name": "stdout",
     "output_type": "stream",
     "text": [
      "adrso180 HC\n",
      "Chunk is:  False\n"
     ]
    },
    {
     "name": "stderr",
     "output_type": "stream",
     "text": [
      "55it [00:17,  3.35it/s]"
     ]
    },
    {
     "name": "stdout",
     "output_type": "stream",
     "text": [
      "adrso302 HC\n",
      "Chunk is:  False\n"
     ]
    },
    {
     "name": "stderr",
     "output_type": "stream",
     "text": [
      "56it [00:17,  3.46it/s]"
     ]
    },
    {
     "name": "stdout",
     "output_type": "stream",
     "text": [
      "adrso164 HC\n",
      "Chunk is:  False\n"
     ]
    },
    {
     "name": "stderr",
     "output_type": "stream",
     "text": [
      "57it [00:17,  3.07it/s]"
     ]
    },
    {
     "name": "stdout",
     "output_type": "stream",
     "text": [
      "adrso299 HC\n",
      "Chunk is:  False\n"
     ]
    },
    {
     "name": "stderr",
     "output_type": "stream",
     "text": [
      "58it [00:17,  3.27it/s]"
     ]
    },
    {
     "name": "stdout",
     "output_type": "stream",
     "text": [
      "adrso289 HC\n"
     ]
    },
    {
     "name": "stderr",
     "output_type": "stream",
     "text": [
      "59it [00:18,  3.20it/s]"
     ]
    },
    {
     "name": "stdout",
     "output_type": "stream",
     "text": [
      "Chunk is:  False\n",
      "adrso309 HC\n",
      "Chunk is:  False\n"
     ]
    },
    {
     "name": "stderr",
     "output_type": "stream",
     "text": [
      "60it [00:18,  3.82it/s]"
     ]
    },
    {
     "name": "stdout",
     "output_type": "stream",
     "text": [
      "adrso157 HC\n"
     ]
    },
    {
     "name": "stderr",
     "output_type": "stream",
     "text": [
      "61it [00:18,  3.24it/s]"
     ]
    },
    {
     "name": "stdout",
     "output_type": "stream",
     "text": [
      "Chunk is:  False\n",
      "adrso158 HC\n"
     ]
    },
    {
     "name": "stderr",
     "output_type": "stream",
     "text": [
      "62it [00:19,  3.36it/s]"
     ]
    },
    {
     "name": "stdout",
     "output_type": "stream",
     "text": [
      "Chunk is:  False\n",
      "adrso259 HC\n"
     ]
    },
    {
     "name": "stderr",
     "output_type": "stream",
     "text": [
      "63it [00:19,  3.06it/s]"
     ]
    },
    {
     "name": "stdout",
     "output_type": "stream",
     "text": [
      "Chunk is:  False\n",
      "adrso165 HC\n",
      "Chunk is:  False\n"
     ]
    },
    {
     "name": "stderr",
     "output_type": "stream",
     "text": [
      "65it [00:19,  4.23it/s]"
     ]
    },
    {
     "name": "stdout",
     "output_type": "stream",
     "text": [
      "adrso262 HC\n",
      "Chunk is:  False\n",
      "adrso310 HC\n"
     ]
    },
    {
     "name": "stderr",
     "output_type": "stream",
     "text": [
      "66it [00:20,  3.61it/s]"
     ]
    },
    {
     "name": "stdout",
     "output_type": "stream",
     "text": [
      "Chunk is:  False\n",
      "adrso148 HC\n"
     ]
    },
    {
     "name": "stderr",
     "output_type": "stream",
     "text": [
      "67it [00:20,  3.05it/s]"
     ]
    },
    {
     "name": "stdout",
     "output_type": "stream",
     "text": [
      "Chunk is:  False\n",
      "adrso022 HC\n"
     ]
    },
    {
     "name": "stderr",
     "output_type": "stream",
     "text": [
      "68it [00:20,  3.85it/s]"
     ]
    },
    {
     "name": "stdout",
     "output_type": "stream",
     "text": [
      "Chunk is:  False\n",
      "adrso316 HC\n"
     ]
    },
    {
     "name": "stderr",
     "output_type": "stream",
     "text": [
      "69it [00:20,  3.75it/s]"
     ]
    },
    {
     "name": "stdout",
     "output_type": "stream",
     "text": [
      "Chunk is:  False\n",
      "adrso265 HC\n"
     ]
    },
    {
     "name": "stderr",
     "output_type": "stream",
     "text": [
      "70it [00:21,  3.16it/s]"
     ]
    },
    {
     "name": "stdout",
     "output_type": "stream",
     "text": [
      "Chunk is:  False\n",
      "adrso281 HC\n"
     ]
    },
    {
     "name": "stderr",
     "output_type": "stream",
     "text": [
      "71it [00:21,  3.41it/s]"
     ]
    },
    {
     "name": "stdout",
     "output_type": "stream",
     "text": [
      "Chunk is:  False\n",
      "adrso168 HC\n",
      "Chunk is:  False\n"
     ]
    },
    {
     "name": "stderr",
     "output_type": "stream",
     "text": [
      "72it [00:22,  2.83it/s]"
     ]
    },
    {
     "name": "stdout",
     "output_type": "stream",
     "text": [
      "adrso178 HC\n",
      "Chunk is:  False\n"
     ]
    },
    {
     "name": "stderr",
     "output_type": "stream",
     "text": [
      "73it [00:22,  3.20it/s]"
     ]
    },
    {
     "name": "stdout",
     "output_type": "stream",
     "text": [
      "adrso268 HC\n"
     ]
    },
    {
     "name": "stderr",
     "output_type": "stream",
     "text": [
      "74it [00:22,  3.08it/s]"
     ]
    },
    {
     "name": "stdout",
     "output_type": "stream",
     "text": [
      "Chunk is:  False\n",
      "adrso273 HC\n"
     ]
    },
    {
     "name": "stderr",
     "output_type": "stream",
     "text": [
      "75it [00:22,  3.30it/s]"
     ]
    },
    {
     "name": "stdout",
     "output_type": "stream",
     "text": [
      "Chunk is:  False\n",
      "adrso276 HC\n"
     ]
    },
    {
     "name": "stderr",
     "output_type": "stream",
     "text": [
      "76it [00:23,  3.48it/s]"
     ]
    },
    {
     "name": "stdout",
     "output_type": "stream",
     "text": [
      "Chunk is:  False\n",
      "adrso186 HC\n"
     ]
    },
    {
     "name": "stderr",
     "output_type": "stream",
     "text": [
      "77it [00:23,  4.11it/s]"
     ]
    },
    {
     "name": "stdout",
     "output_type": "stream",
     "text": [
      "Chunk is:  False\n",
      "adrso156 HC\n"
     ]
    },
    {
     "name": "stderr",
     "output_type": "stream",
     "text": [
      "78it [00:23,  3.63it/s]"
     ]
    },
    {
     "name": "stdout",
     "output_type": "stream",
     "text": [
      "Chunk is:  False\n",
      "adrso151 HC\n"
     ]
    },
    {
     "name": "stderr",
     "output_type": "stream",
     "text": [
      "79it [00:23,  4.16it/s]"
     ]
    },
    {
     "name": "stdout",
     "output_type": "stream",
     "text": [
      "Chunk is:  False\n",
      "adrso033 Dementia\n"
     ]
    },
    {
     "name": "stderr",
     "output_type": "stream",
     "text": [
      "80it [00:24,  3.96it/s]"
     ]
    },
    {
     "name": "stdout",
     "output_type": "stream",
     "text": [
      "Chunk is:  False\n",
      "adrso247 Dementia\n"
     ]
    },
    {
     "name": "stderr",
     "output_type": "stream",
     "text": [
      "81it [00:24,  3.36it/s]"
     ]
    },
    {
     "name": "stdout",
     "output_type": "stream",
     "text": [
      "Chunk is:  False\n",
      "adrso074 Dementia\n"
     ]
    },
    {
     "name": "stderr",
     "output_type": "stream",
     "text": [
      "82it [00:24,  3.66it/s]"
     ]
    },
    {
     "name": "stdout",
     "output_type": "stream",
     "text": [
      "Chunk is:  False\n",
      "adrso198 Dementia\n"
     ]
    },
    {
     "name": "stderr",
     "output_type": "stream",
     "text": [
      "83it [00:25,  3.48it/s]"
     ]
    },
    {
     "name": "stdout",
     "output_type": "stream",
     "text": [
      "Chunk is:  False\n",
      "adrso188 Dementia\n"
     ]
    },
    {
     "name": "stderr",
     "output_type": "stream",
     "text": [
      "84it [00:25,  2.35it/s]"
     ]
    },
    {
     "name": "stdout",
     "output_type": "stream",
     "text": [
      "Chunk is:  False\n",
      "adrso249 Dementia\n"
     ]
    },
    {
     "name": "stderr",
     "output_type": "stream",
     "text": [
      "85it [00:26,  2.18it/s]"
     ]
    },
    {
     "name": "stdout",
     "output_type": "stream",
     "text": [
      "Chunk is:  False\n",
      "adrso047 Dementia\n"
     ]
    },
    {
     "name": "stderr",
     "output_type": "stream",
     "text": [
      "86it [00:27,  1.29it/s]"
     ]
    },
    {
     "name": "stdout",
     "output_type": "stream",
     "text": [
      "Chunk is:  False\n",
      "adrso043 Dementia\n"
     ]
    },
    {
     "name": "stderr",
     "output_type": "stream",
     "text": [
      "87it [00:28,  1.59it/s]"
     ]
    },
    {
     "name": "stdout",
     "output_type": "stream",
     "text": [
      "Chunk is:  False\n",
      "adrso189 Dementia\n",
      "Chunk is:  False\n"
     ]
    },
    {
     "name": "stderr",
     "output_type": "stream",
     "text": [
      "88it [00:28,  1.65it/s]"
     ]
    },
    {
     "name": "stdout",
     "output_type": "stream",
     "text": [
      "adrso141 Dementia\n"
     ]
    },
    {
     "name": "stderr",
     "output_type": "stream",
     "text": [
      "89it [00:29,  1.65it/s]"
     ]
    },
    {
     "name": "stdout",
     "output_type": "stream",
     "text": [
      "Chunk is:  False\n",
      "adrso045 Dementia\n"
     ]
    },
    {
     "name": "stderr",
     "output_type": "stream",
     "text": [
      "90it [00:29,  1.78it/s]"
     ]
    },
    {
     "name": "stdout",
     "output_type": "stream",
     "text": [
      "Chunk is:  False\n",
      "adrso216 Dementia\n",
      "Chunk is:  False\n"
     ]
    },
    {
     "name": "stderr",
     "output_type": "stream",
     "text": [
      "91it [00:30,  1.78it/s]"
     ]
    },
    {
     "name": "stdout",
     "output_type": "stream",
     "text": [
      "adrso250 Dementia\n"
     ]
    },
    {
     "name": "stderr",
     "output_type": "stream",
     "text": [
      "92it [00:31,  1.69it/s]"
     ]
    },
    {
     "name": "stdout",
     "output_type": "stream",
     "text": [
      "Chunk is:  False\n",
      "adrso223 Dementia\n",
      "Chunk is:  False\n"
     ]
    },
    {
     "name": "stderr",
     "output_type": "stream",
     "text": [
      "93it [00:31,  1.71it/s]"
     ]
    },
    {
     "name": "stdout",
     "output_type": "stream",
     "text": [
      "adrso187 Dementia\n",
      "Chunk is:  False\n"
     ]
    },
    {
     "name": "stderr",
     "output_type": "stream",
     "text": [
      "94it [00:31,  2.05it/s]"
     ]
    },
    {
     "name": "stdout",
     "output_type": "stream",
     "text": [
      "adrso055 Dementia\n",
      "Chunk is:  False\n"
     ]
    },
    {
     "name": "stderr",
     "output_type": "stream",
     "text": [
      "95it [00:32,  2.42it/s]"
     ]
    },
    {
     "name": "stdout",
     "output_type": "stream",
     "text": [
      "adrso138 Dementia\n",
      "Chunk is:  False\n"
     ]
    },
    {
     "name": "stderr",
     "output_type": "stream",
     "text": [
      "96it [00:32,  2.81it/s]"
     ]
    },
    {
     "name": "stdout",
     "output_type": "stream",
     "text": [
      "adrso211 Dementia\n",
      "Chunk is:  False\n"
     ]
    },
    {
     "name": "stderr",
     "output_type": "stream",
     "text": [
      "98it [00:32,  3.58it/s]"
     ]
    },
    {
     "name": "stdout",
     "output_type": "stream",
     "text": [
      "adrso234 Dementia\n",
      "Chunk is:  False\n",
      "adrso090 Dementia\n"
     ]
    },
    {
     "name": "stderr",
     "output_type": "stream",
     "text": [
      "99it [00:33,  3.51it/s]"
     ]
    },
    {
     "name": "stdout",
     "output_type": "stream",
     "text": [
      "Chunk is:  False\n",
      "adrso128 Dementia\n",
      "Chunk is:  False\n"
     ]
    },
    {
     "name": "stderr",
     "output_type": "stream",
     "text": [
      "100it [00:33,  2.64it/s]"
     ]
    },
    {
     "name": "stdout",
     "output_type": "stream",
     "text": [
      "adrso123 Dementia\n",
      "Chunk is:  False\n"
     ]
    },
    {
     "name": "stderr",
     "output_type": "stream",
     "text": [
      "101it [00:33,  3.06it/s]"
     ]
    },
    {
     "name": "stdout",
     "output_type": "stream",
     "text": [
      "adrso093 Dementia\n",
      "Chunk is:  False\n"
     ]
    },
    {
     "name": "stderr",
     "output_type": "stream",
     "text": [
      "102it [00:34,  3.17it/s]"
     ]
    },
    {
     "name": "stdout",
     "output_type": "stream",
     "text": [
      "adrso244 Dementia\n",
      "Chunk is:  False\n"
     ]
    },
    {
     "name": "stderr",
     "output_type": "stream",
     "text": [
      "104it [00:35,  2.73it/s]"
     ]
    },
    {
     "name": "stdout",
     "output_type": "stream",
     "text": [
      "adrso125 Dementia\n",
      "Chunk is:  False\n",
      "adrso190 Dementia\n"
     ]
    },
    {
     "name": "stderr",
     "output_type": "stream",
     "text": [
      "105it [00:35,  2.61it/s]"
     ]
    },
    {
     "name": "stdout",
     "output_type": "stream",
     "text": [
      "Chunk is:  False\n",
      "adrso032 Dementia\n"
     ]
    },
    {
     "name": "stderr",
     "output_type": "stream",
     "text": [
      "106it [00:35,  2.80it/s]"
     ]
    },
    {
     "name": "stdout",
     "output_type": "stream",
     "text": [
      "Chunk is:  False\n",
      "adrso109 Dementia\n"
     ]
    },
    {
     "name": "stderr",
     "output_type": "stream",
     "text": [
      "107it [00:36,  3.13it/s]"
     ]
    },
    {
     "name": "stdout",
     "output_type": "stream",
     "text": [
      "Chunk is:  False\n",
      "adrso046 Dementia\n"
     ]
    },
    {
     "name": "stderr",
     "output_type": "stream",
     "text": [
      "108it [00:36,  3.12it/s]"
     ]
    },
    {
     "name": "stdout",
     "output_type": "stream",
     "text": [
      "Chunk is:  False\n",
      "adrso232 Dementia\n"
     ]
    },
    {
     "name": "stderr",
     "output_type": "stream",
     "text": [
      "109it [00:36,  3.30it/s]"
     ]
    },
    {
     "name": "stdout",
     "output_type": "stream",
     "text": [
      "Chunk is:  False\n",
      "adrso075 Dementia\n"
     ]
    },
    {
     "name": "stderr",
     "output_type": "stream",
     "text": [
      "110it [00:36,  3.95it/s]"
     ]
    },
    {
     "name": "stdout",
     "output_type": "stream",
     "text": [
      "Chunk is:  False\n",
      "adrso192 Dementia\n"
     ]
    },
    {
     "name": "stderr",
     "output_type": "stream",
     "text": [
      "111it [00:37,  2.65it/s]"
     ]
    },
    {
     "name": "stdout",
     "output_type": "stream",
     "text": [
      "Chunk is:  False\n",
      "adrso220 Dementia\n"
     ]
    },
    {
     "name": "stderr",
     "output_type": "stream",
     "text": [
      "112it [00:37,  2.57it/s]"
     ]
    },
    {
     "name": "stdout",
     "output_type": "stream",
     "text": [
      "Chunk is:  False\n",
      "adrso060 Dementia\n",
      "Chunk is:  False\n"
     ]
    },
    {
     "name": "stderr",
     "output_type": "stream",
     "text": [
      "113it [00:37,  3.27it/s]"
     ]
    },
    {
     "name": "stdout",
     "output_type": "stream",
     "text": [
      "adrso134 Dementia\n"
     ]
    },
    {
     "name": "stderr",
     "output_type": "stream",
     "text": [
      "115it [00:38,  3.51it/s]"
     ]
    },
    {
     "name": "stdout",
     "output_type": "stream",
     "text": [
      "Chunk is:  False\n",
      "adrso036 Dementia\n",
      "Chunk is:  False\n",
      "adrso212 Dementia\n",
      "Chunk is:  False\n"
     ]
    },
    {
     "name": "stderr",
     "output_type": "stream",
     "text": [
      "116it [00:39,  2.81it/s]"
     ]
    },
    {
     "name": "stdout",
     "output_type": "stream",
     "text": [
      "adrso031 Dementia\n"
     ]
    },
    {
     "name": "stderr",
     "output_type": "stream",
     "text": [
      "117it [00:39,  2.45it/s]"
     ]
    },
    {
     "name": "stdout",
     "output_type": "stream",
     "text": [
      "Chunk is:  False\n",
      "adrso206 Dementia\n",
      "Chunk is:  False\n"
     ]
    },
    {
     "name": "stderr",
     "output_type": "stream",
     "text": [
      "119it [00:40,  2.39it/s]"
     ]
    },
    {
     "name": "stdout",
     "output_type": "stream",
     "text": [
      "adrso059 Dementia\n",
      "Chunk is:  False\n",
      "adrso068 Dementia\n"
     ]
    },
    {
     "name": "stderr",
     "output_type": "stream",
     "text": [
      "121it [00:40,  3.35it/s]"
     ]
    },
    {
     "name": "stdout",
     "output_type": "stream",
     "text": [
      "Chunk is:  False\n",
      "adrso237 Dementia\n",
      "Chunk is:  False\n",
      "adrso246 Dementia\n"
     ]
    },
    {
     "name": "stderr",
     "output_type": "stream",
     "text": [
      "122it [00:41,  4.02it/s]"
     ]
    },
    {
     "name": "stdout",
     "output_type": "stream",
     "text": [
      "Chunk is:  False\n",
      "adrso197 Dementia\n"
     ]
    },
    {
     "name": "stderr",
     "output_type": "stream",
     "text": [
      "123it [00:41,  3.16it/s]"
     ]
    },
    {
     "name": "stdout",
     "output_type": "stream",
     "text": [
      "Chunk is:  False\n",
      "adrso039 Dementia\n"
     ]
    },
    {
     "name": "stderr",
     "output_type": "stream",
     "text": [
      "124it [00:41,  3.15it/s]"
     ]
    },
    {
     "name": "stdout",
     "output_type": "stream",
     "text": [
      "Chunk is:  False\n",
      "adrso025 Dementia\n"
     ]
    },
    {
     "name": "stderr",
     "output_type": "stream",
     "text": [
      "125it [00:42,  2.70it/s]"
     ]
    },
    {
     "name": "stdout",
     "output_type": "stream",
     "text": [
      "Chunk is:  False\n",
      "adrso126 Dementia\n"
     ]
    },
    {
     "name": "stderr",
     "output_type": "stream",
     "text": [
      "127it [00:42,  3.73it/s]"
     ]
    },
    {
     "name": "stdout",
     "output_type": "stream",
     "text": [
      "Chunk is:  False\n",
      "adrso092 Dementia\n",
      "Chunk is:  False\n",
      "adrso205 Dementia\n"
     ]
    },
    {
     "name": "stderr",
     "output_type": "stream",
     "text": [
      "128it [00:43,  3.28it/s]"
     ]
    },
    {
     "name": "stdout",
     "output_type": "stream",
     "text": [
      "Chunk is:  False\n",
      "adrso024 Dementia\n"
     ]
    },
    {
     "name": "stderr",
     "output_type": "stream",
     "text": [
      "129it [00:43,  2.72it/s]"
     ]
    },
    {
     "name": "stdout",
     "output_type": "stream",
     "text": [
      "Chunk is:  False\n",
      "adrso110 Dementia\n"
     ]
    },
    {
     "name": "stderr",
     "output_type": "stream",
     "text": [
      "130it [00:43,  3.31it/s]"
     ]
    },
    {
     "name": "stdout",
     "output_type": "stream",
     "text": [
      "Chunk is:  False\n",
      "adrso089 Dementia\n",
      "Chunk is:  False\n"
     ]
    },
    {
     "name": "stderr",
     "output_type": "stream",
     "text": [
      "131it [00:44,  2.39it/s]"
     ]
    },
    {
     "name": "stdout",
     "output_type": "stream",
     "text": [
      "adrso054 Dementia\n",
      "Chunk is:  False\n"
     ]
    },
    {
     "name": "stderr",
     "output_type": "stream",
     "text": [
      "132it [00:45,  1.51it/s]"
     ]
    },
    {
     "name": "stdout",
     "output_type": "stream",
     "text": [
      "adrso078 Dementia\n"
     ]
    },
    {
     "name": "stderr",
     "output_type": "stream",
     "text": [
      "133it [00:46,  1.56it/s]"
     ]
    },
    {
     "name": "stdout",
     "output_type": "stream",
     "text": [
      "Chunk is:  False\n",
      "adrso063 Dementia\n"
     ]
    },
    {
     "name": "stderr",
     "output_type": "stream",
     "text": [
      "134it [00:46,  1.70it/s]"
     ]
    },
    {
     "name": "stdout",
     "output_type": "stream",
     "text": [
      "Chunk is:  False\n",
      "adrso106 Dementia\n"
     ]
    },
    {
     "name": "stderr",
     "output_type": "stream",
     "text": [
      "135it [00:47,  1.87it/s]"
     ]
    },
    {
     "name": "stdout",
     "output_type": "stream",
     "text": [
      "Chunk is:  False\n",
      "adrso209 Dementia\n"
     ]
    },
    {
     "name": "stderr",
     "output_type": "stream",
     "text": [
      "136it [00:47,  2.21it/s]"
     ]
    },
    {
     "name": "stdout",
     "output_type": "stream",
     "text": [
      "Chunk is:  False\n",
      "adrso222 Dementia\n",
      "Chunk is:  False\n"
     ]
    },
    {
     "name": "stderr",
     "output_type": "stream",
     "text": [
      "137it [00:47,  2.87it/s]"
     ]
    },
    {
     "name": "stdout",
     "output_type": "stream",
     "text": [
      "adrso098 Dementia\n"
     ]
    },
    {
     "name": "stderr",
     "output_type": "stream",
     "text": [
      "138it [00:47,  3.00it/s]"
     ]
    },
    {
     "name": "stdout",
     "output_type": "stream",
     "text": [
      "Chunk is:  False\n",
      "adrso228 Dementia\n",
      "Chunk is:  False\n"
     ]
    },
    {
     "name": "stderr",
     "output_type": "stream",
     "text": [
      "140it [00:48,  3.80it/s]"
     ]
    },
    {
     "name": "stdout",
     "output_type": "stream",
     "text": [
      "adrso116 Dementia\n",
      "Chunk is:  False\n",
      "adrso142 Dementia\n"
     ]
    },
    {
     "name": "stderr",
     "output_type": "stream",
     "text": [
      "141it [00:48,  4.44it/s]"
     ]
    },
    {
     "name": "stdout",
     "output_type": "stream",
     "text": [
      "Chunk is:  False\n",
      "adrso027 Dementia\n"
     ]
    },
    {
     "name": "stderr",
     "output_type": "stream",
     "text": [
      "142it [00:48,  4.12it/s]"
     ]
    },
    {
     "name": "stdout",
     "output_type": "stream",
     "text": [
      "Chunk is:  False\n",
      "adrso028 Dementia\n"
     ]
    },
    {
     "name": "stderr",
     "output_type": "stream",
     "text": [
      "143it [00:48,  4.24it/s]"
     ]
    },
    {
     "name": "stdout",
     "output_type": "stream",
     "text": [
      "Chunk is:  False\n",
      "adrso202 Dementia\n"
     ]
    },
    {
     "name": "stderr",
     "output_type": "stream",
     "text": [
      "144it [00:49,  3.44it/s]"
     ]
    },
    {
     "name": "stdout",
     "output_type": "stream",
     "text": [
      "Chunk is:  False\n",
      "adrso035 Dementia\n"
     ]
    },
    {
     "name": "stderr",
     "output_type": "stream",
     "text": [
      "145it [00:49,  3.18it/s]"
     ]
    },
    {
     "name": "stdout",
     "output_type": "stream",
     "text": [
      "Chunk is:  False\n",
      "adrso122 Dementia\n"
     ]
    },
    {
     "name": "stderr",
     "output_type": "stream",
     "text": [
      "146it [00:49,  3.18it/s]"
     ]
    },
    {
     "name": "stdout",
     "output_type": "stream",
     "text": [
      "Chunk is:  False\n",
      "adrso049 Dementia\n"
     ]
    },
    {
     "name": "stderr",
     "output_type": "stream",
     "text": [
      "147it [00:50,  3.19it/s]"
     ]
    },
    {
     "name": "stdout",
     "output_type": "stream",
     "text": [
      "Chunk is:  False\n",
      "adrso248 Dementia\n",
      "Chunk is:  False\n"
     ]
    },
    {
     "name": "stderr",
     "output_type": "stream",
     "text": [
      "148it [00:50,  2.64it/s]"
     ]
    },
    {
     "name": "stdout",
     "output_type": "stream",
     "text": [
      "adrso053 Dementia\n",
      "Chunk is:  False\n"
     ]
    },
    {
     "name": "stderr",
     "output_type": "stream",
     "text": [
      "149it [00:51,  2.76it/s]"
     ]
    },
    {
     "name": "stdout",
     "output_type": "stream",
     "text": [
      "adrso130 Dementia\n",
      "Chunk is:  False\n"
     ]
    },
    {
     "name": "stderr",
     "output_type": "stream",
     "text": [
      "151it [00:51,  3.67it/s]"
     ]
    },
    {
     "name": "stdout",
     "output_type": "stream",
     "text": [
      "adrso112 Dementia\n",
      "Chunk is:  False\n",
      "adrso200 Dementia\n"
     ]
    },
    {
     "name": "stderr",
     "output_type": "stream",
     "text": [
      "152it [00:51,  3.20it/s]"
     ]
    },
    {
     "name": "stdout",
     "output_type": "stream",
     "text": [
      "Chunk is:  False\n",
      "adrso245 Dementia\n",
      "Chunk is:  False\n"
     ]
    },
    {
     "name": "stderr",
     "output_type": "stream",
     "text": [
      "153it [00:52,  3.84it/s]"
     ]
    },
    {
     "name": "stdout",
     "output_type": "stream",
     "text": [
      "adrso253 Dementia\n"
     ]
    },
    {
     "name": "stderr",
     "output_type": "stream",
     "text": [
      "154it [00:52,  3.34it/s]"
     ]
    },
    {
     "name": "stdout",
     "output_type": "stream",
     "text": [
      "Chunk is:  False\n",
      "adrso072 Dementia\n",
      "Chunk is:  False\n"
     ]
    },
    {
     "name": "stderr",
     "output_type": "stream",
     "text": [
      "155it [00:52,  4.02it/s]"
     ]
    },
    {
     "name": "stdout",
     "output_type": "stream",
     "text": [
      "adrso229 Dementia\n"
     ]
    },
    {
     "name": "stderr",
     "output_type": "stream",
     "text": [
      "157it [00:52,  4.63it/s]"
     ]
    },
    {
     "name": "stdout",
     "output_type": "stream",
     "text": [
      "Chunk is:  False\n",
      "adrso236 Dementia\n",
      "Chunk is:  False\n",
      "adrso233 Dementia\n"
     ]
    },
    {
     "name": "stderr",
     "output_type": "stream",
     "text": [
      "158it [00:53,  4.28it/s]"
     ]
    },
    {
     "name": "stdout",
     "output_type": "stream",
     "text": [
      "Chunk is:  False\n",
      "adrso218 Dementia\n",
      "Chunk is:  False\n"
     ]
    },
    {
     "name": "stderr",
     "output_type": "stream",
     "text": [
      "159it [00:53,  4.72it/s]"
     ]
    },
    {
     "name": "stdout",
     "output_type": "stream",
     "text": [
      "adrso056 Dementia\n",
      "Chunk is:  False\n"
     ]
    },
    {
     "name": "stderr",
     "output_type": "stream",
     "text": [
      "160it [00:54,  1.89it/s]"
     ]
    },
    {
     "name": "stdout",
     "output_type": "stream",
     "text": [
      "adrso215 Dementia\n"
     ]
    },
    {
     "name": "stderr",
     "output_type": "stream",
     "text": [
      "161it [00:55,  2.04it/s]"
     ]
    },
    {
     "name": "stdout",
     "output_type": "stream",
     "text": [
      "Chunk is:  False\n",
      "adrso070 Dementia\n",
      "Chunk is:  False\n"
     ]
    },
    {
     "name": "stderr",
     "output_type": "stream",
     "text": [
      "162it [00:55,  2.58it/s]"
     ]
    },
    {
     "name": "stdout",
     "output_type": "stream",
     "text": [
      "adrso071 Dementia\n",
      "Chunk is:  False\n"
     ]
    },
    {
     "name": "stderr",
     "output_type": "stream",
     "text": [
      "164it [00:55,  3.60it/s]"
     ]
    },
    {
     "name": "stdout",
     "output_type": "stream",
     "text": [
      "adrso224 Dementia\n",
      "Chunk is:  False\n",
      "adrso144 Dementia\n"
     ]
    },
    {
     "name": "stderr",
     "output_type": "stream",
     "text": [
      "165it [00:55,  4.26it/s]"
     ]
    },
    {
     "name": "stdout",
     "output_type": "stream",
     "text": [
      "Chunk is:  False\n",
      "adrso077 Dementia\n"
     ]
    },
    {
     "name": "stderr",
     "output_type": "stream",
     "text": [
      "166it [00:55,  2.97it/s]"
     ]
    },
    {
     "name": "stdout",
     "output_type": "stream",
     "text": [
      "Chunk is:  False\n",
      "Number of files not found:  0\n"
     ]
    },
    {
     "name": "stderr",
     "output_type": "stream",
     "text": [
      "\n"
     ]
    }
   ],
   "source": [
    "adresso_train_list = generate_paths_adresso(\n",
    "  '/scratch/project_2007260/ADReSSo/ADReSSo21/Dhinirnaya_chunk/adresso_concat',\n",
    "  csv_path='/scratch/project_2007260/ADReSSo/adresso_train_task.csv',\n",
    "  mode='train',\n",
    "  chunk=False\n",
    ")"
   ]
  },
  {
   "cell_type": "code",
   "execution_count": 151,
   "id": "a84cc9a4-e013-4c6f-b2f3-e234f4a6a46d",
   "metadata": {},
   "outputs": [],
   "source": [
    "train_adresso_path = os.path.join(root_data_dir, 'train_adresso_concat.csv')\n",
    "pd.DataFrame(adresso_train_list).to_csv(train_adresso_path, index=False)"
   ]
  },
  {
   "cell_type": "code",
   "execution_count": null,
   "id": "bae71614-b8ee-45f6-b2ac-df5083a7f633",
   "metadata": {},
   "outputs": [],
   "source": []
  },
  {
   "cell_type": "code",
   "execution_count": 152,
   "id": "906906c3-9e72-4070-a366-99ebbc5f415b",
   "metadata": {},
   "outputs": [],
   "source": [
    "#!/usr/bin/env python3\n",
    "# -*- coding: utf-8 -*-\n",
    "\"\"\"\n",
    "Created on Mon Feb 27 23:19:05 2023\n",
    "\n",
    "@author: self\n",
    "\"\"\"\n",
    "\n",
    "import librosa\n",
    "import numpy as np\n",
    "import pysptk\n",
    "\n",
    "def f0estimate_rapt(path, fs):\n",
    "    data_audio, fs = librosa.load(path, sr=fs) \n",
    "    data_audio=data_audio-np.mean(data_audio)\n",
    "    data_audio=data_audio/float(np.max(np.abs(data_audio)))\n",
    "\n",
    "    size_frame=0.03 # sec\n",
    "    size_step=0.01 # sec\n",
    "    minf0=60 #hz\n",
    "    maxf0=350 #hz\n",
    "    voice_bias=-0.2\n",
    "    size_frameS=size_frame*float(fs)\n",
    "    size_stepS=size_step*float(fs)\n",
    "    overlap=size_stepS/size_frameS\n",
    "    #nF=int((len(data_audio)/size_frameS/overlap))-1\n",
    "    data_audiof=np.asarray(data_audio, dtype=np.float32)\n",
    "\n",
    "    # Calculate frame rate\n",
    "    frame_rate = fs / (overlap * size_frameS)\n",
    "    #print(\"Frame rate for F0:\", frame_rate, \"Hz\")\n",
    "    F0=pysptk.sptk.rapt(data_audiof*(2**15), fs, int(size_stepS), min=minf0, max=maxf0, voice_bias=voice_bias, otype='f0')\n",
    "    \n",
    "    return F0, frame_rate, size_stepS"
   ]
  },
  {
   "cell_type": "code",
   "execution_count": 153,
   "id": "f8dc3f99-eae4-4f30-909d-06084a0f6d5c",
   "metadata": {},
   "outputs": [],
   "source": [
    "# rfa_single_conf.py\n",
    "# Dafydd Gibbon\n",
    "# Created 2021-08-16\n",
    "# Modified 2022-04-18\n",
    "# Code first deposited on GitHub 2021-08-16\n",
    "# http://www.github.com/dafyddg/RFA\n",
    "# Variable assignments for rfa_single.py\n",
    "# See top level README.1st file.\n",
    "\n",
    "\"\"\"\n",
    "Note that the F0 parameters are defined in the F0 module, not here.\n",
    "\"\"\"\n",
    "\n",
    "\"\"\"\n",
    "MIT license\n",
    "Begin license text.\n",
    "Copyright 2021 Dafydd Gibbon\n",
    "Permission is hereby granted, free of charge, to any person obtaining a copy of this software and associated documentation files (the \"Software\"), to deal in the Software without restriction, including without limitation the rights to use, copy, modify, merge, publish, distribute, sublicense, and/or sell copies of the Software, and to permit persons to whom the Software is furnished to do so, subject to the following conditions:\n",
    "The above copyright notice and this permission notice shall be included in all copies or substantial portions of the Software.\n",
    "THE SOFTWARE IS PROVIDED \"AS IS\", WITHOUT WARRANTY OF ANY KIND, EXPRESS OR IMPLIED, INCLUDING BUT NOT LIMITED TO THE WARRANTIES OF MERCHANTABILITY, FITNESS FOR A PARTICULAR PURPOSE AND NONINFRINGEMENT. IN NO EVENT SHALL THE AUTHORS OR COPYRIGHT HOLDERS BE LIABLE FOR ANY CLAIM, DAMAGES OR OTHER LIABILITY, WHETHER IN AN ACTION OF CONTRACT, TORT OR OTHERWISE, ARISING FROM, OUT OF OR IN CONNECTION WITH THE SOFTWARE OR THE USE OR OTHER DEALINGS IN THE SOFTWARE.\n",
    "End license text.\n",
    "\"\"\"\n",
    "\n",
    "# CSV separator\n",
    "separator = \",\"\n",
    "\n",
    "# Figure show and size\n",
    "showgraph = True\n",
    "figwidth = 5\n",
    "figheight = 4\n",
    "\n",
    "# Dendrogram box dimensions and position (AM)\n",
    "amboxwidth = 0.45\n",
    "amboxheight = 0.07\n",
    "amboxx = 0.53\n",
    "amboxy = 0.25\n",
    "\n",
    "# Dendrogram box dimensions and position (FM)\n",
    "\n",
    "fmboxwidth = 0.45\n",
    "fmboxheight = 0.07\n",
    "fmboxx = 0.53\n",
    "fmboxy = 0.1\n",
    "\n",
    "# Column chart resolution\n",
    "bincount = 40\n",
    "\n",
    "# Envelope superposition flag (spectrograms, formant tracks)\n",
    "envelopeoverlay = True\n",
    "\n",
    "# Waterfall or column chart display switch\n",
    "waterfall = False\n",
    "\n",
    "# Waterfall parameters\n",
    "waterfallincplus = 2\n",
    "specheatmaptype = \"YlOrRd\"\n",
    "specgramdotsize = 60\n",
    "fontsize = 10\n",
    "\n",
    "# Minimum and maximum spectrum and spectrogram frequencies, default: amspecfreqmax=5\n",
    "amspecfreqmin = 0\n",
    "amspecfreqmax = 10\n",
    "\n",
    "fmspecfreqmin = 0\n",
    "fmspecfreqmax = 10 #default: fmspecfreqmax=5\n",
    "\n",
    "# Minimum value of spectral magnitude line for formants\n",
    "amformantlimit = 0.3\n",
    "fmformantlimit = 0.3\n",
    "\n",
    "# Number of spectral magnitude peaks marked in spectrum display\n",
    "magscount = 6\n",
    "\n",
    "# Optional high magnitude emphasis\n",
    "spectrumpower = 1\n",
    "\n",
    "# Optional brute force downsampling factor (spectral analysis)\n",
    "# This is not true downsampling, but stepping interval selection\n",
    "specdownsample = 4\n",
    "\n",
    "# Choose number of equally spaced rows in spectrogram matrix (default 50)\n",
    "specstrides = 50\t# yields same length spectrograms, for comparison\n",
    "\n",
    "# EOF"
   ]
  },
  {
   "cell_type": "code",
   "execution_count": 154,
   "id": "e28efc50-18b0-4553-804e-18c642b09633",
   "metadata": {},
   "outputs": [],
   "source": [
    "#===============================================================\n",
    "\n",
    "import numpy as np\n",
    "#===============================================================\n",
    "#===============================================================\n",
    "# System and library module import\n",
    "from scipy.signal import find_peaks\n",
    "import sys, re\n",
    "import numpy as np\n",
    "import matplotlib.pyplot as plt\n",
    "import scipy.io.wavfile as wave\n",
    "from scipy.signal import butter, lfilter\n",
    "from datetime import datetime\n",
    "import librosa\n",
    "# RFA custom module import\n",
    "#===============================================================\n",
    "# Assign configuration parameters to variables (see .conf file)\n",
    "\n",
    "#===============================================================\n",
    "def spectrogramarray_v1(signal, fs, specfreqmin, specfreqmax, specdownsample, spectrumpower, specwindowsecs, specstrides):\n",
    "\n",
    "\t# Brute force downsampling, optional\n",
    "\t#signal = signal[::specdownsample]\n",
    "\t#fs = int(round(fs/specdownsample))\n",
    "\tperiod = 1/fs\n",
    "\tsignallen = len(signal)\n",
    "\tsignalsecs = int(round(signallen / fs))\n",
    "\n",
    "\t#============================================\n",
    "\twindowlen = int(round(specwindowsecs * fs))\t# window length sec -> sample\n",
    "\tsignalleneffective = signallen - windowlen\t# first to last stride pos\n",
    "\tstride = int(round(signalleneffective / specstrides))\t# time step\n",
    "\n",
    "\t# Moving window\n",
    "\t# Stride start and end counters\n",
    "\tcounterstart = np.array(range(0,signalleneffective,stride))\t# start & end\n",
    "\tcounterend = counterstart + windowlen\n",
    "\n",
    "\tmagarray = []\n",
    "\tfreqarray = []\n",
    "\tfor countstart,countend in zip(counterstart,counterend):\n",
    "\t\tsegment = np.abs(signal[countstart:countend])\t\t\t\t# window-length segment\n",
    "\t\tsegment = list(segment)\n",
    "\t\tsegment = segment\n",
    "\t\tsegment = np.array(segment)\n",
    "\t\tmags = abs(np.fft.rfft(segment))\t\t\t\t\t\t# FFT magnitudes\n",
    "\t\tfreqs = np.abs(np.fft.rfftfreq(segment.size,period))\t# FFT frequencies\n",
    "#\t\tfreqs = np.linspace(0, fs/2, len(mags))\n",
    "\t\tmagarray += [ mags ]\t\t\t\t\t\t\t\t# collect FFTs\n",
    "\t\tfreqarray += [ freqs ]\n",
    "\n",
    "\t#============================================\n",
    "\t# Spectrum properties\n",
    "\n",
    "\tspectrummax = int(round(fs/2))\n",
    "\trowlen = len(freqarray[0])\n",
    "\telementsperhertz = int(round( rowlen / spectrummax ))\n",
    "\n",
    "#\tprint(\"Elements per hertz:\", elementsperhertz)\n",
    "\txmin = specfreqmin * elementsperhertz\n",
    "\txmax = specfreqmax * elementsperhertz\n",
    "\tsfmin = int(np.floor(xmin))\n",
    "\tsfmax = int(np.ceil(xmax))\n",
    "\tmagarray = np.array([ x[sfmin:sfmax] for x in magarray ])**spectrumpower\n",
    "\tfreqarray = [ x[sfmin:sfmax] for x in freqarray ]\n",
    "\n",
    "\t#Detect maximum vector through spectrogram\n",
    "\tmaxmags = np.array([ max(mags[1:]) for mags in magarray ])\n",
    "#\tprint(maxmags.shape)\n",
    "\n",
    "\t#============================================\n",
    "\t# Loop to define spectrogram as a spectrum sequence\n",
    "\tmaxfreqs = []\n",
    "\tfor mags, freqs in zip(magarray, freqarray):\n",
    "\t\tmaxofmags = np.max(mags)\n",
    "\t\t# An error with a very deep voice (60Hz) threw an error\n",
    "\t\tif maxofmags == 0.0: maxofmags = 0.0001\t# a hack, sorry\n",
    "\t\tmags = mags/maxofmags\n",
    "\t\tmags = list(mags[1:])\n",
    "\t\tmaxmag = np.max(mags)\n",
    "\t\tmaxmagpos = mags.index(maxmag)\n",
    "\t\tmaxfreq = freqs[maxmagpos]\n",
    "\t\tmaxmags += [maxmag]\n",
    "\t\tmaxfreqs += [maxfreq]\n",
    "\n",
    "\treturn np.array(magarray), np.array(freqarray), maxmags, maxfreqs\n",
    "\n",
    "def spectrogramarray_v2(signal, fs, specfreqmin, specfreqmax, specdownsample, spectrumpower, specwindowsecs, specstrides):\n",
    "\n",
    "    # Brute force downsampling, optional\n",
    "    # signal = signal[::specdownsample]\n",
    "    # fs = int(round(fs/specdownsample))\n",
    "    period = 1/fs\n",
    "    signallen = len(signal)\n",
    "    signalsecs = int(round(signallen / fs))\n",
    "\n",
    "    #============================================\n",
    "    windowlen = int(round(specwindowsecs * fs))  # window length in samples\n",
    "    signalleneffective = signallen - windowlen  # first to last stride pos\n",
    "    stride = int(round(signalleneffective / specstrides))  # time step\n",
    "\n",
    "    # Moving window\n",
    "    # Stride start and end counters\n",
    "    counterstart = np.array(range(0, signalleneffective, stride))  # start positions\n",
    "    counterend = counterstart + windowlen  # end positions\n",
    "\n",
    "    magarray = []\n",
    "    freqarray = []\n",
    "    for countstart, countend in zip(counterstart, counterend):\n",
    "        segment = signal[countstart:countend]  # window-length segment\n",
    "        segment = np.array(segment)\n",
    "        mags = np.abs(np.fft.rfft(segment))  # FFT magnitudes\n",
    "        freqs = np.fft.rfftfreq(segment.size, period)  # FFT frequencies\n",
    "        magarray.append(mags)  # collect FFTs\n",
    "        freqarray.append(freqs)\n",
    "\n",
    "    #============================================\n",
    "    # Interpolate magnitude spectra to have 224 frequency bins\n",
    "\n",
    "    # Desired frequency range (ensure it includes 10 Hz)\n",
    "    specfreqmin = max(specfreqmin, 0)  # Minimum frequency (e.g., 0 Hz)\n",
    "    specfreqmax = max(specfreqmax, 10)  # Ensure at least up to 10 Hz\n",
    "\n",
    "    # Create a common frequency axis with 224 points\n",
    "    num_freq_bins = 224\n",
    "    new_freqs = np.linspace(specfreqmin, specfreqmax, num_freq_bins)\n",
    "\n",
    "    magarray_resampled = []\n",
    "    for mags, freqs in zip(magarray, freqarray):\n",
    "        # Interpolate magnitudes to the new frequency axis\n",
    "        mags_interpolated = np.interp(new_freqs, freqs, mags)\n",
    "        # Apply the spectrum power\n",
    "        mags_interpolated = mags_interpolated ** spectrumpower\n",
    "        magarray_resampled.append(mags_interpolated)\n",
    "\n",
    "    magarray = np.array(magarray_resampled)\n",
    "    freqarray = new_freqs  # Common frequency axis for all spectra\n",
    "\n",
    "    # Now, magarray.shape should be (224, 224)\n",
    "    #============================================\n",
    "    # Proceed with the rest of your code\n",
    "\n",
    "    # Detect maximum vector through spectrogram\n",
    "    maxmags = np.array([np.max(mags[1:]) for mags in magarray])\n",
    "\n",
    "    # Loop to define spectrogram as a spectrum sequence\n",
    "    maxfreqs = []\n",
    "    for mags in magarray:\n",
    "        maxofmags = np.max(mags)\n",
    "        # Avoid division by zero\n",
    "        if maxofmags == 0.0:\n",
    "            maxofmags = 0.0001  # a small number to prevent division by zero\n",
    "        mags_normalized = mags / maxofmags\n",
    "        mags_normalized = mags_normalized[1:]  # Exclude the zero frequency component\n",
    "        maxmag = np.max(mags_normalized)\n",
    "        maxmagpos = np.argmax(mags_normalized)\n",
    "        maxfreq = freqarray[1:][maxmagpos]\n",
    "        maxfreqs.append(maxfreq)\n",
    "\n",
    "    return magarray, freqarray, maxmags, maxfreqs\n",
    "\n",
    "\n",
    "#===============================================================\n",
    "\n",
    "def plotspectrogramheatmap(pltobj, freqarray, magarray, signalsecs, specfreqmin, specfreqmax, specgramdotsize, specheatmaptype, fontsize):\n",
    "\n",
    "    # y-axis as scale of the range, number of spectra in spectrogram\n",
    "    y = np.linspace(specfreqmin,specfreqmax,len(magarray[0]))\n",
    "\n",
    "    # x-axis as signal time range, number of spectra in spectrogram\n",
    "    x = np.linspace(0,signalsecs,len(magarray))\n",
    "\n",
    "    # Colormap is derived from magnitudes at each frequency/spectrum\n",
    "    for i, freqvals, magvals in zip(x, freqarray, magarray):\n",
    "        freqvals = freqvals[1:]\n",
    "        magvals = magvals[1:]\n",
    "        x = [i] * len(freqvals)\n",
    "        pltobj.scatter(\n",
    "            x,freqvals, c=magvals, cmap=specheatmaptype,\n",
    "            marker=\"s\", s=specgramdotsize)\n",
    "\n",
    "    # Spectrogram properties\n",
    "    pltobj.set_xlim(0,np.ceil(signalsecs))\n",
    "    sfmin = np.floor(specfreqmin)\n",
    "    sfmax = np.ceil(specfreqmax)\n",
    "    pltobj.set_ylim(sfmin,sfmax)\n",
    "    pltobj.grid(b=True, which=\"major\", axis=\"both\")\n",
    "    pltobj.set_xlabel(\"Time (s)\", fontsize=fontsize)\n",
    "    pltobj.set_ylabel(\"Freq (Hz)\", fontsize=fontsize)\n",
    "\n",
    "    return\n",
    "\n",
    "def get_AM_spectrogram_all(file_path, specwindowsecs, specstrides):\n",
    "\n",
    "    fd1 = open(file_path, 'r')\n",
    "    lines = fd1.readlines()\n",
    "    \n",
    "    for line in lines:\n",
    "        line2read = line.strip('\\n')\n",
    "        #print(line2read)\n",
    "        fs, signal = wave.read(line2read)    # read sampling frequency and signal\n",
    "        if len(signal.shape) == 2:\n",
    "            signal = signal[:,1]\n",
    "      \n",
    "        signallength = len(signal)        # define numerical signal length\n",
    "        signalseconds = signallength / fs    # define signal length in seconds\n",
    "        signal = signal / max(abs(signal))    # scale signal: -1 ... 0 ... 1\n",
    "\n",
    "        #===============================================================\n",
    "        # Create AM spectrogram and max magnitude value trajectory\n",
    "        ammagarray, amfreqarray, ammaxmags, ammaxfreqs = spectrogramarray(signal, fs,amspecfreqmin, amspecfreqmax, specdownsample, \n",
    "                                                                          spectrumpower, specwindowsecs, specstrides)\n",
    "        \n",
    "        \n",
    "        nan_mask = np.isnan(ammagarray)\n",
    "        total_nans = np.sum(nan_mask)\n",
    "        \n",
    "        print(ammagarray.shape)\n",
    "        print(total_nans)\n",
    "        \n",
    "    return\n",
    "\n",
    "\n",
    "def get_FM_spectrogram_all(file_path, specwindowsecs, specstrides):\n",
    "\n",
    "    fd1 = open(file_path, 'r')\n",
    "    lines = fd1.readlines()\n",
    "        \n",
    "    for line in lines:\n",
    "        line2read = line.strip('\\n')\n",
    "        line2read = line2read.split(',')[0]\n",
    "        '''\n",
    "        print(line2read)\n",
    "        \n",
    "        #fs, signal = wave.read(line2read)    # read sampling frequency and signal\n",
    "        signal, fs = librosa.load(line2read, sr=16000)\n",
    "        if len(signal.shape) == 2:\n",
    "            signal = signal[:,1]\n",
    "      \n",
    "        signallength = len(signal)        # define numerical signal length\n",
    "        signalseconds = signallength / fs    # define signal length in seconds\n",
    "        signal = signal / max(abs(signal))    # scale signal: -1 ... 0 ... 1\n",
    "\n",
    "        f0array, framerate, frameduration = f0estimate(signal, fs)\n",
    "        '''\n",
    "        f0array, framerate, frameduration = f0estimate_rapt(line2read, 16000)\n",
    "\n",
    "        #===============================================================\n",
    "        # Create FM spectrogram and max value trajectory\n",
    "        #f0array = f0array[f0array != 0]\n",
    "        fmmagarray, fmfreqarray, fmmaxmags, fmmaxfreqs = spectrogramarray(f0array, \n",
    "                                                                          framerate, \n",
    "                                                                          fmspecfreqmin, \n",
    "                                                                          fmspecfreqmax,\n",
    "                                                                          specdownsample, \n",
    "                                                                          spectrumpower, \n",
    "                                                                          specwindowsecs, \n",
    "                                                                          specstrides)\n",
    "        nan_mask = np.isnan(fmmagarray)\n",
    "        total_nans = np.sum(nan_mask)\n",
    "        \n",
    "        print(fmmagarray.shape)\n",
    "        print(total_nans)\n",
    "    \n",
    "    return \n",
    "\n",
    "\n",
    "def get_AM_spectrogram(file_path, specwindowsecs, specstrides):\n",
    "    fs, signal = wave.read(file_path)    # read sampling frequency and signal\n",
    "    if len(signal.shape) == 2:\n",
    "        signal = signal[:,1]\n",
    "      \n",
    "    signal = signal / max(abs(signal))    # scale signal: -1 ... 0 ... 1\n",
    "    signallength = len(signal)        # define numerical signal length\n",
    "    signalseconds = signallength / fs    # define signal length in seconds\n",
    "\n",
    "    #===============================================================\n",
    "    # Create AM spectrogram and max magnitude value trajectory\n",
    "    ammagarray, amfreqarray, ammaxmags, ammaxfreqs = spectrogramarray_v1(signal, fs,amspecfreqmin, amspecfreqmax, specdownsample, \n",
    "                                                                      spectrumpower, specwindowsecs, specstrides)\n",
    "        \n",
    "    return ammagarray\n",
    "\n",
    "\n",
    "def get_FM_spectrogram(file_path, specwindowsecs, specstrides):\n",
    "\n",
    "    '''\n",
    "    signal, fs = librosa.load(file_path, sr=16000)\n",
    "    if len(signal.shape) == 2:\n",
    "        signal = signal[:,1]\n",
    "\n",
    "    signal = signal / max(abs(signal))    # scale signal: -1 ... 0 ... 1\n",
    "    signallength = len(signal)        # define numerical signal length\n",
    "    signalseconds = signallength / fs    # define signal length in seconds\n",
    "\n",
    "    f0array, framerate, frameduration = f0estimate(signal, fs)\n",
    "    '''\n",
    "    f0array, framerate, frameduration = f0estimate_rapt(file_path, 16000)\n",
    "\n",
    "    #===============================================================\n",
    "    # Create FM spectrogram and max value trajectory\n",
    "    fmmagarray, fmfreqarray, fmmaxmags, fmmaxfreqs = spectrogramarray_v1(f0array, \n",
    "                                                                          framerate, \n",
    "                                                                          fmspecfreqmin, \n",
    "                                                                          fmspecfreqmax,\n",
    "                                                                          specdownsample, \n",
    "                                                                          spectrumpower, \n",
    "                                                                          specwindowsecs, \n",
    "                                                                          specstrides)\n",
    "    return fmmagarray"
   ]
  },
  {
   "cell_type": "code",
   "execution_count": 155,
   "id": "53389f80-3d37-44c4-9b71-d91d29d90f8e",
   "metadata": {},
   "outputs": [
    {
     "data": {
      "image/png": "[encoded data removed]",
      "text/plain": [
       "<Figure size 1000x400 with 2 Axes>"
      ]
     },
     "metadata": {},
     "output_type": "display_data"
    }
   ],
   "source": [
    "#!/usr/bin/env python3\n",
    "# -*- coding: utf-8 -*-\n",
    "\"\"\"\n",
    "Created on Sun Nov 24 22:37:47 2024\n",
    "\n",
    "@author: self\n",
    "\"\"\"\n",
    "\n",
    "#!/usr/bin/env python3\n",
    "# -*- coding: utf-8 -*-\n",
    "\"\"\"\n",
    "Created on Mon Feb 15 22:22:17 2021\n",
    "@author: Parismita\n",
    "\"\"\"\n",
    "import numpy as np\n",
    "#===============================================================\n",
    "# RFA custom module import\n",
    "import torch\n",
    "import numpy as np\n",
    "from torchvision.transforms.functional import resize\n",
    "from torchvision.transforms import InterpolationMode\n",
    "\n",
    "#===============================================================\n",
    "#===============================================================\n",
    "\n",
    "\n",
    "file = \"chunked_dhi/Process-rec-001_PFT_chunk_0.wav\"\n",
    "specwindowsecs = 5\n",
    "specstrides = 224\n",
    "\n",
    "fm_spec = get_FM_spectrogram(file, specwindowsecs, specstrides)\n",
    "\n",
    "am_spec = get_AM_spectrogram(file, specwindowsecs, specstrides)\n",
    "\n",
    "tensor_fm = torch.tensor(fm_spec).float().unsqueeze(0)  # [1, 105, 30]\n",
    "resized_fm = resize(\n",
    "    tensor_fm, \n",
    "    size=(224, 224), \n",
    "    interpolation=InterpolationMode.BILINEAR\n",
    ")\n",
    "\n",
    "tensor_am = torch.tensor(am_spec).float().unsqueeze(0)  # [1, 105, 30]\n",
    "resized_am = resize(\n",
    "    tensor_am, \n",
    "    size=(224, 224), \n",
    "    interpolation=InterpolationMode.BILINEAR\n",
    ")\n",
    "\n",
    "resized_fm = resized_fm.squeeze(0) # use this a spectrogram\n",
    "resized_am = resized_am.squeeze(0) # use this a spectrogram\n",
    "\n",
    "\n",
    "\n",
    "# Visualize the spectrogram (transpose for proper orientation)\n",
    "plt.figure(figsize=(10, 4))\n",
    "plt.imshow(resized_fm.T, origin='lower', aspect='auto', cmap='viridis')\n",
    "plt.title(\"AST Input Spectrogram\")\n",
    "plt.xlabel(\"Time Frames\")\n",
    "plt.ylabel(\"Mel Bins\")\n",
    "plt.colorbar(label=\"Amplitude (dB)\")\n",
    "plt.show()"
   ]
  },
  {
   "cell_type": "code",
   "execution_count": 156,
   "id": "5604b06c-f575-459e-b034-a1215e237eb0",
   "metadata": {},
   "outputs": [
    {
     "data": {
      "image/png": "[encoded data removed]",
      "text/plain": [
       "<Figure size 1000x600 with 2 Axes>"
      ]
     },
     "metadata": {},
     "output_type": "display_data"
    }
   ],
   "source": [
    "import matplotlib.pyplot as plt\n",
    "import numpy as np\n",
    "\n",
    "\n",
    "# Plot the array as a spectrogram-like visualization\n",
    "plt.figure(figsize=(10, 6))\n",
    "plt.imshow(resized_am.T, aspect='auto', origin='lower', cmap='viridis')  # Customize 'cmap' for color scheme\n",
    "plt.colorbar(label='Intensity')  # Add colorbar to show intensity values\n",
    "plt.xlabel('Time (arbitrary units)')  # X-axis label\n",
    "plt.ylabel('Frequency (arbitrary units)')  # Y-axis label\n",
    "plt.title('Spectrogram-like Visualization')  # Title of the plot\n",
    "plt.show()\n"
   ]
  },
  {
   "cell_type": "code",
   "execution_count": null,
   "id": "041043d3-fc1f-430b-ada5-c76541de9cc5",
   "metadata": {},
   "outputs": [],
   "source": []
  },
  {
   "cell_type": "code",
   "execution_count": 157,
   "id": "953172d5-de9b-4437-b120-f466465ffa18",
   "metadata": {},
   "outputs": [],
   "source": [
    "import torch\n",
    "import numpy as np\n",
    "import torch.nn as nn\n",
    "import torch.optim as optim\n",
    "from transformers import BertModel, BertTokenizer, Wav2Vec2ForCTC, Wav2Vec2Processor\n",
    "import timm  # For Vision Transformer\n",
    "import torchaudio\n",
    "import pandas as pd\n",
    "from torch.utils.data import DataLoader, Dataset\n",
    "import torch.nn.functional as F\n",
    "from tqdm import tqdm  # For progress bar\n",
    "from silero_vad import load_silero_vad, read_audio, get_speech_timestamps\n",
    "import matplotlib.pyplot as plt\n",
    "from sklearn.metrics import confusion_matrix, f1_score, precision_score, recall_score, accuracy_score\n",
    "from collections import defaultdict\n",
    "from torch.nn.utils.rnn import pad_sequence\n",
    "import librosa\n",
    "import librosa.display\n",
    "import random\n"
   ]
  },
  {
   "cell_type": "code",
   "execution_count": 158,
   "id": "3d14fd29-8f68-4d2f-817d-4c09a3e81c59",
   "metadata": {},
   "outputs": [
    {
     "name": "stderr",
     "output_type": "stream",
     "text": [
      "Some weights of Wav2Vec2ForCTC were not initialized from the model checkpoint at facebook/wav2vec2-large-960h and are newly initialized: ['wav2vec2.masked_spec_embed']\n",
      "You should probably TRAIN this model on a down-stream task to be able to use it for predictions and inference.\n"
     ]
    },
    {
     "data": {
      "text/plain": [
       "VisionTransformer(\n",
       "  (patch_embed): PatchEmbed(\n",
       "    (proj): Conv2d(3, 768, kernel_size=(16, 16), stride=(16, 16))\n",
       "    (norm): Identity()\n",
       "  )\n",
       "  (pos_drop): Dropout(p=0.0, inplace=False)\n",
       "  (patch_drop): Identity()\n",
       "  (norm_pre): Identity()\n",
       "  (blocks): Sequential(\n",
       "    (0): Block(\n",
       "      (norm1): LayerNorm((768,), eps=1e-06, elementwise_affine=True)\n",
       "      (attn): Attention(\n",
       "        (qkv): Linear(in_features=768, out_features=2304, bias=True)\n",
       "        (q_norm): Identity()\n",
       "        (k_norm): Identity()\n",
       "        (attn_drop): Dropout(p=0.0, inplace=False)\n",
       "        (proj): Linear(in_features=768, out_features=768, bias=True)\n",
       "        (proj_drop): Dropout(p=0.0, inplace=False)\n",
       "      )\n",
       "      (ls1): Identity()\n",
       "      (drop_path1): Identity()\n",
       "      (norm2): LayerNorm((768,), eps=1e-06, elementwise_affine=True)\n",
       "      (mlp): Mlp(\n",
       "        (fc1): Linear(in_features=768, out_features=3072, bias=True)\n",
       "        (act): GELU(approximate='none')\n",
       "        (drop1): Dropout(p=0.0, inplace=False)\n",
       "        (norm): Identity()\n",
       "        (fc2): Linear(in_features=3072, out_features=768, bias=True)\n",
       "        (drop2): Dropout(p=0.0, inplace=False)\n",
       "      )\n",
       "      (ls2): Identity()\n",
       "      (drop_path2): Identity()\n",
       "    )\n",
       "    (1): Block(\n",
       "      (norm1): LayerNorm((768,), eps=1e-06, elementwise_affine=True)\n",
       "      (attn): Attention(\n",
       "        (qkv): Linear(in_features=768, out_features=2304, bias=True)\n",
       "        (q_norm): Identity()\n",
       "        (k_norm): Identity()\n",
       "        (attn_drop): Dropout(p=0.0, inplace=False)\n",
       "        (proj): Linear(in_features=768, out_features=768, bias=True)\n",
       "        (proj_drop): Dropout(p=0.0, inplace=False)\n",
       "      )\n",
       "      (ls1): Identity()\n",
       "      (drop_path1): Identity()\n",
       "      (norm2): LayerNorm((768,), eps=1e-06, elementwise_affine=True)\n",
       "      (mlp): Mlp(\n",
       "        (fc1): Linear(in_features=768, out_features=3072, bias=True)\n",
       "        (act): GELU(approximate='none')\n",
       "        (drop1): Dropout(p=0.0, inplace=False)\n",
       "        (norm): Identity()\n",
       "        (fc2): Linear(in_features=3072, out_features=768, bias=True)\n",
       "        (drop2): Dropout(p=0.0, inplace=False)\n",
       "      )\n",
       "      (ls2): Identity()\n",
       "      (drop_path2): Identity()\n",
       "    )\n",
       "    (2): Block(\n",
       "      (norm1): LayerNorm((768,), eps=1e-06, elementwise_affine=True)\n",
       "      (attn): Attention(\n",
       "        (qkv): Linear(in_features=768, out_features=2304, bias=True)\n",
       "        (q_norm): Identity()\n",
       "        (k_norm): Identity()\n",
       "        (attn_drop): Dropout(p=0.0, inplace=False)\n",
       "        (proj): Linear(in_features=768, out_features=768, bias=True)\n",
       "        (proj_drop): Dropout(p=0.0, inplace=False)\n",
       "      )\n",
       "      (ls1): Identity()\n",
       "      (drop_path1): Identity()\n",
       "      (norm2): LayerNorm((768,), eps=1e-06, elementwise_affine=True)\n",
       "      (mlp): Mlp(\n",
       "        (fc1): Linear(in_features=768, out_features=3072, bias=True)\n",
       "        (act): GELU(approximate='none')\n",
       "        (drop1): Dropout(p=0.0, inplace=False)\n",
       "        (norm): Identity()\n",
       "        (fc2): Linear(in_features=3072, out_features=768, bias=True)\n",
       "        (drop2): Dropout(p=0.0, inplace=False)\n",
       "      )\n",
       "      (ls2): Identity()\n",
       "      (drop_path2): Identity()\n",
       "    )\n",
       "    (3): Block(\n",
       "      (norm1): LayerNorm((768,), eps=1e-06, elementwise_affine=True)\n",
       "      (attn): Attention(\n",
       "        (qkv): Linear(in_features=768, out_features=2304, bias=True)\n",
       "        (q_norm): Identity()\n",
       "        (k_norm): Identity()\n",
       "        (attn_drop): Dropout(p=0.0, inplace=False)\n",
       "        (proj): Linear(in_features=768, out_features=768, bias=True)\n",
       "        (proj_drop): Dropout(p=0.0, inplace=False)\n",
       "      )\n",
       "      (ls1): Identity()\n",
       "      (drop_path1): Identity()\n",
       "      (norm2): LayerNorm((768,), eps=1e-06, elementwise_affine=True)\n",
       "      (mlp): Mlp(\n",
       "        (fc1): Linear(in_features=768, out_features=3072, bias=True)\n",
       "        (act): GELU(approximate='none')\n",
       "        (drop1): Dropout(p=0.0, inplace=False)\n",
       "        (norm): Identity()\n",
       "        (fc2): Linear(in_features=3072, out_features=768, bias=True)\n",
       "        (drop2): Dropout(p=0.0, inplace=False)\n",
       "      )\n",
       "      (ls2): Identity()\n",
       "      (drop_path2): Identity()\n",
       "    )\n",
       "    (4): Block(\n",
       "      (norm1): LayerNorm((768,), eps=1e-06, elementwise_affine=True)\n",
       "      (attn): Attention(\n",
       "        (qkv): Linear(in_features=768, out_features=2304, bias=True)\n",
       "        (q_norm): Identity()\n",
       "        (k_norm): Identity()\n",
       "        (attn_drop): Dropout(p=0.0, inplace=False)\n",
       "        (proj): Linear(in_features=768, out_features=768, bias=True)\n",
       "        (proj_drop): Dropout(p=0.0, inplace=False)\n",
       "      )\n",
       "      (ls1): Identity()\n",
       "      (drop_path1): Identity()\n",
       "      (norm2): LayerNorm((768,), eps=1e-06, elementwise_affine=True)\n",
       "      (mlp): Mlp(\n",
       "        (fc1): Linear(in_features=768, out_features=3072, bias=True)\n",
       "        (act): GELU(approximate='none')\n",
       "        (drop1): Dropout(p=0.0, inplace=False)\n",
       "        (norm): Identity()\n",
       "        (fc2): Linear(in_features=3072, out_features=768, bias=True)\n",
       "        (drop2): Dropout(p=0.0, inplace=False)\n",
       "      )\n",
       "      (ls2): Identity()\n",
       "      (drop_path2): Identity()\n",
       "    )\n",
       "    (5): Block(\n",
       "      (norm1): LayerNorm((768,), eps=1e-06, elementwise_affine=True)\n",
       "      (attn): Attention(\n",
       "        (qkv): Linear(in_features=768, out_features=2304, bias=True)\n",
       "        (q_norm): Identity()\n",
       "        (k_norm): Identity()\n",
       "        (attn_drop): Dropout(p=0.0, inplace=False)\n",
       "        (proj): Linear(in_features=768, out_features=768, bias=True)\n",
       "        (proj_drop): Dropout(p=0.0, inplace=False)\n",
       "      )\n",
       "      (ls1): Identity()\n",
       "      (drop_path1): Identity()\n",
       "      (norm2): LayerNorm((768,), eps=1e-06, elementwise_affine=True)\n",
       "      (mlp): Mlp(\n",
       "        (fc1): Linear(in_features=768, out_features=3072, bias=True)\n",
       "        (act): GELU(approximate='none')\n",
       "        (drop1): Dropout(p=0.0, inplace=False)\n",
       "        (norm): Identity()\n",
       "        (fc2): Linear(in_features=3072, out_features=768, bias=True)\n",
       "        (drop2): Dropout(p=0.0, inplace=False)\n",
       "      )\n",
       "      (ls2): Identity()\n",
       "      (drop_path2): Identity()\n",
       "    )\n",
       "    (6): Block(\n",
       "      (norm1): LayerNorm((768,), eps=1e-06, elementwise_affine=True)\n",
       "      (attn): Attention(\n",
       "        (qkv): Linear(in_features=768, out_features=2304, bias=True)\n",
       "        (q_norm): Identity()\n",
       "        (k_norm): Identity()\n",
       "        (attn_drop): Dropout(p=0.0, inplace=False)\n",
       "        (proj): Linear(in_features=768, out_features=768, bias=True)\n",
       "        (proj_drop): Dropout(p=0.0, inplace=False)\n",
       "      )\n",
       "      (ls1): Identity()\n",
       "      (drop_path1): Identity()\n",
       "      (norm2): LayerNorm((768,), eps=1e-06, elementwise_affine=True)\n",
       "      (mlp): Mlp(\n",
       "        (fc1): Linear(in_features=768, out_features=3072, bias=True)\n",
       "        (act): GELU(approximate='none')\n",
       "        (drop1): Dropout(p=0.0, inplace=False)\n",
       "        (norm): Identity()\n",
       "        (fc2): Linear(in_features=3072, out_features=768, bias=True)\n",
       "        (drop2): Dropout(p=0.0, inplace=False)\n",
       "      )\n",
       "      (ls2): Identity()\n",
       "      (drop_path2): Identity()\n",
       "    )\n",
       "    (7): Block(\n",
       "      (norm1): LayerNorm((768,), eps=1e-06, elementwise_affine=True)\n",
       "      (attn): Attention(\n",
       "        (qkv): Linear(in_features=768, out_features=2304, bias=True)\n",
       "        (q_norm): Identity()\n",
       "        (k_norm): Identity()\n",
       "        (attn_drop): Dropout(p=0.0, inplace=False)\n",
       "        (proj): Linear(in_features=768, out_features=768, bias=True)\n",
       "        (proj_drop): Dropout(p=0.0, inplace=False)\n",
       "      )\n",
       "      (ls1): Identity()\n",
       "      (drop_path1): Identity()\n",
       "      (norm2): LayerNorm((768,), eps=1e-06, elementwise_affine=True)\n",
       "      (mlp): Mlp(\n",
       "        (fc1): Linear(in_features=768, out_features=3072, bias=True)\n",
       "        (act): GELU(approximate='none')\n",
       "        (drop1): Dropout(p=0.0, inplace=False)\n",
       "        (norm): Identity()\n",
       "        (fc2): Linear(in_features=3072, out_features=768, bias=True)\n",
       "        (drop2): Dropout(p=0.0, inplace=False)\n",
       "      )\n",
       "      (ls2): Identity()\n",
       "      (drop_path2): Identity()\n",
       "    )\n",
       "    (8): Block(\n",
       "      (norm1): LayerNorm((768,), eps=1e-06, elementwise_affine=True)\n",
       "      (attn): Attention(\n",
       "        (qkv): Linear(in_features=768, out_features=2304, bias=True)\n",
       "        (q_norm): Identity()\n",
       "        (k_norm): Identity()\n",
       "        (attn_drop): Dropout(p=0.0, inplace=False)\n",
       "        (proj): Linear(in_features=768, out_features=768, bias=True)\n",
       "        (proj_drop): Dropout(p=0.0, inplace=False)\n",
       "      )\n",
       "      (ls1): Identity()\n",
       "      (drop_path1): Identity()\n",
       "      (norm2): LayerNorm((768,), eps=1e-06, elementwise_affine=True)\n",
       "      (mlp): Mlp(\n",
       "        (fc1): Linear(in_features=768, out_features=3072, bias=True)\n",
       "        (act): GELU(approximate='none')\n",
       "        (drop1): Dropout(p=0.0, inplace=False)\n",
       "        (norm): Identity()\n",
       "        (fc2): Linear(in_features=3072, out_features=768, bias=True)\n",
       "        (drop2): Dropout(p=0.0, inplace=False)\n",
       "      )\n",
       "      (ls2): Identity()\n",
       "      (drop_path2): Identity()\n",
       "    )\n",
       "    (9): Block(\n",
       "      (norm1): LayerNorm((768,), eps=1e-06, elementwise_affine=True)\n",
       "      (attn): Attention(\n",
       "        (qkv): Linear(in_features=768, out_features=2304, bias=True)\n",
       "        (q_norm): Identity()\n",
       "        (k_norm): Identity()\n",
       "        (attn_drop): Dropout(p=0.0, inplace=False)\n",
       "        (proj): Linear(in_features=768, out_features=768, bias=True)\n",
       "        (proj_drop): Dropout(p=0.0, inplace=False)\n",
       "      )\n",
       "      (ls1): Identity()\n",
       "      (drop_path1): Identity()\n",
       "      (norm2): LayerNorm((768,), eps=1e-06, elementwise_affine=True)\n",
       "      (mlp): Mlp(\n",
       "        (fc1): Linear(in_features=768, out_features=3072, bias=True)\n",
       "        (act): GELU(approximate='none')\n",
       "        (drop1): Dropout(p=0.0, inplace=False)\n",
       "        (norm): Identity()\n",
       "        (fc2): Linear(in_features=3072, out_features=768, bias=True)\n",
       "        (drop2): Dropout(p=0.0, inplace=False)\n",
       "      )\n",
       "      (ls2): Identity()\n",
       "      (drop_path2): Identity()\n",
       "    )\n",
       "    (10): Block(\n",
       "      (norm1): LayerNorm((768,), eps=1e-06, elementwise_affine=True)\n",
       "      (attn): Attention(\n",
       "        (qkv): Linear(in_features=768, out_features=2304, bias=True)\n",
       "        (q_norm): Identity()\n",
       "        (k_norm): Identity()\n",
       "        (attn_drop): Dropout(p=0.0, inplace=False)\n",
       "        (proj): Linear(in_features=768, out_features=768, bias=True)\n",
       "        (proj_drop): Dropout(p=0.0, inplace=False)\n",
       "      )\n",
       "      (ls1): Identity()\n",
       "      (drop_path1): Identity()\n",
       "      (norm2): LayerNorm((768,), eps=1e-06, elementwise_affine=True)\n",
       "      (mlp): Mlp(\n",
       "        (fc1): Linear(in_features=768, out_features=3072, bias=True)\n",
       "        (act): GELU(approximate='none')\n",
       "        (drop1): Dropout(p=0.0, inplace=False)\n",
       "        (norm): Identity()\n",
       "        (fc2): Linear(in_features=3072, out_features=768, bias=True)\n",
       "        (drop2): Dropout(p=0.0, inplace=False)\n",
       "      )\n",
       "      (ls2): Identity()\n",
       "      (drop_path2): Identity()\n",
       "    )\n",
       "    (11): Block(\n",
       "      (norm1): LayerNorm((768,), eps=1e-06, elementwise_affine=True)\n",
       "      (attn): Attention(\n",
       "        (qkv): Linear(in_features=768, out_features=2304, bias=True)\n",
       "        (q_norm): Identity()\n",
       "        (k_norm): Identity()\n",
       "        (attn_drop): Dropout(p=0.0, inplace=False)\n",
       "        (proj): Linear(in_features=768, out_features=768, bias=True)\n",
       "        (proj_drop): Dropout(p=0.0, inplace=False)\n",
       "      )\n",
       "      (ls1): Identity()\n",
       "      (drop_path1): Identity()\n",
       "      (norm2): LayerNorm((768,), eps=1e-06, elementwise_affine=True)\n",
       "      (mlp): Mlp(\n",
       "        (fc1): Linear(in_features=768, out_features=3072, bias=True)\n",
       "        (act): GELU(approximate='none')\n",
       "        (drop1): Dropout(p=0.0, inplace=False)\n",
       "        (norm): Identity()\n",
       "        (fc2): Linear(in_features=3072, out_features=768, bias=True)\n",
       "        (drop2): Dropout(p=0.0, inplace=False)\n",
       "      )\n",
       "      (ls2): Identity()\n",
       "      (drop_path2): Identity()\n",
       "    )\n",
       "  )\n",
       "  (norm): LayerNorm((768,), eps=1e-06, elementwise_affine=True)\n",
       "  (fc_norm): Identity()\n",
       "  (head_drop): Dropout(p=0.0, inplace=False)\n",
       "  (head): Identity()\n",
       ")"
      ]
     },
     "execution_count": 158,
     "metadata": {},
     "output_type": "execute_result"
    }
   ],
   "source": [
    "# Constants\n",
    "NUM_CLASSES = 2\n",
    "BERT_MODEL_NAME = 'bert-base-uncased'\n",
    "AUDIO_SHAPE = (224, 224)\n",
    "TEXT_MAX_LENGTH = 64\n",
    "SEQ_LEN = 128\n",
    "\n",
    "# Initialize models\n",
    "vad_model = load_silero_vad()\n",
    "asr_model = Wav2Vec2ForCTC.from_pretrained(\"facebook/wav2vec2-large-960h\")\n",
    "processor = Wav2Vec2Processor.from_pretrained(\"facebook/wav2vec2-large-960h\")\n",
    "tokenizer = BertTokenizer.from_pretrained(BERT_MODEL_NAME)\n",
    "device = torch.device('cuda' if torch.cuda.is_available() else 'cpu')\n",
    "asr_model.to(device)\n",
    "\n",
    "# Load BERT and ViT model\n",
    "bert = BertModel.from_pretrained(BERT_MODEL_NAME).to(device)\n",
    "vit_model = timm.create_model('vit_base_patch16_224', pretrained=True)\n",
    "vit_model.head = nn.Identity()\n",
    "vit_model.eval().to(device)"
   ]
  },
  {
   "cell_type": "code",
   "execution_count": null,
   "id": "a7180737-2f10-4072-abe9-0971f42840a8",
   "metadata": {},
   "outputs": [],
   "source": []
  },
  {
   "cell_type": "code",
   "execution_count": null,
   "id": "bf630a0d-4fc6-4661-a540-ecd687aecbff",
   "metadata": {},
   "outputs": [],
   "source": []
  },
  {
   "cell_type": "code",
   "execution_count": 159,
   "id": "e177b257-97d9-457a-b37b-4d6fa972b0b7",
   "metadata": {},
   "outputs": [],
   "source": [
    "import torch\n",
    "import torch.nn as nn\n",
    "import torch.nn.functional as F\n",
    "import os\n",
    "from torch.utils.data import Dataset\n",
    "\n",
    "# Dataset class to load precomputed embeddings\n",
    "class MultimodalDataset(Dataset):\n",
    "    def __init__(self, dataframe, embeddings_dir, iftrain, num_classes=10):\n",
    "        self.data = dataframe\n",
    "        self.embeddings_dir = embeddings_dir\n",
    "        self.iftrain = iftrain\n",
    "        self.num_classes = num_classes\n",
    "\n",
    "    def __len__(self):\n",
    "        return len(self.data)\n",
    "\n",
    "    def __getitem__(self, index):\n",
    "        row = self.data.iloc[index]\n",
    "        embeddings_path = os.path.join(self.embeddings_dir, f\"{os.path.basename(row['audio_path'])}_embeddings.pth\")\n",
    "        embeddings = torch.load(embeddings_path)\n",
    "\n",
    "        # No padding required, directly use embeddings\n",
    "        viT_embeddings = embeddings['vit_embeddings'].squeeze(0)  # Shape: (1, 768) -> (768)\n",
    "        input_ids = embeddings['bert_embeddings'].squeeze(0)  # Shape: (1, 768) -> (768)\n",
    "\n",
    "        # Get the label\n",
    "        label = torch.tensor(row['label'], dtype=torch.long)\n",
    "        if label == 2 and label >= self.num_classes:\n",
    "            label = torch.tensor(self.num_classes - 1, dtype=torch.long) \n",
    "\n",
    "        return row['audio_path'], viT_embeddings, input_ids, label\n",
    "\n",
    "# Multimodal Model with Feed-Forward Layers\n",
    "class MultimodalFeedForwardModel(nn.Module):\n",
    "    def __init__(self, num_classes=10, hidden_size=256):\n",
    "        super(MultimodalFeedForwardModel, self).__init__()\n",
    "        self.vit_reduction = nn.Linear(768, hidden_size)\n",
    "        self.bert_reduction = nn.Linear(768, hidden_size)\n",
    "        self.vit_ff = nn.Linear(hidden_size, hidden_size)\n",
    "        self.bert_ff = nn.Linear(hidden_size, hidden_size)\n",
    "        self.fc = nn.Linear(2 * hidden_size, num_classes)\n",
    "        self.dropout = nn.Dropout(0.5)\n",
    "\n",
    "    def forward(self, vit_embeddings, bert_embeddings):\n",
    "        vit_embeddings = self.vit_reduction(vit_embeddings)\n",
    "        bert_embeddings = self.bert_reduction(bert_embeddings)\n",
    "        vit_processed = F.relu(self.vit_ff(vit_embeddings))\n",
    "        bert_processed = F.relu(self.bert_ff(bert_embeddings))\n",
    "        combined_features = torch.cat((vit_processed, bert_processed), dim=1)\n",
    "        combined_features = self.dropout(combined_features)\n",
    "        output = self.fc(combined_features)\n",
    "        probabilities = F.softmax(output, dim=1)\n",
    "        return probabilities, vit_processed, bert_processed, combined_features"
   ]
  },
  {
   "cell_type": "code",
   "execution_count": null,
   "id": "7e32dedb-100c-445c-99f2-b601a96ee41f",
   "metadata": {},
   "outputs": [],
   "source": []
  },
  {
   "cell_type": "code",
   "execution_count": 160,
   "id": "ab3be398-a86a-449e-99a5-2ffd5458df4c",
   "metadata": {},
   "outputs": [],
   "source": [
    "import os\n",
    "import random\n",
    "import torch\n",
    "import librosa\n",
    "import numpy as np\n",
    "import pandas as pd\n",
    "import torch.nn.functional as F\n",
    "import matplotlib.pyplot as plt\n",
    "from scipy.io import wavfile\n",
    "from tqdm import tqdm\n",
    "\n",
    "def compute_deltas(spec):\n",
    "    \"\"\"Compute delta and double delta (delta-delta) of a spectrogram.\"\"\"\n",
    "    delta = librosa.feature.delta(spec)\n",
    "    delta_delta = librosa.feature.delta(spec, order=2)\n",
    "    return delta, delta_delta\n",
    "\n",
    "def precompute_embeddings_v2(dataframe, save_dir, specwindowsecs=3, specstrides=224):\n",
    "    os.makedirs(save_dir, exist_ok=True)\n",
    "\n",
    "    fixed_df = pd.DataFrame(dataframe)\n",
    "\n",
    "    for index, row in tqdm(dataframe.iterrows(), total=len(dataframe), desc=\"Precomputing embeddings\"):\n",
    "\n",
    "        audio_path = row['audio_path']\n",
    "        waveform, sr = librosa.load(audio_path, sr=16000)  # Load audio at 16kHz\n",
    "\n",
    "        embeds_path = os.path.join(save_dir, f\"{os.path.basename(audio_path)}_embeddings.pth\")\n",
    "        #if os.path.exists(embeds_path):\n",
    "        #    continue\n",
    "\n",
    "        viT_embeddings, bert_embeddings = [], []\n",
    "\n",
    "        # Process input for ASR model\n",
    "        inputs = processor(waveform, sampling_rate=16000, return_tensors=\"pt\", padding=True).to(device)\n",
    "        with torch.no_grad():\n",
    "            logits = asr_model(inputs.input_values).logits\n",
    "        predicted_ids = torch.argmax(logits, dim=-1)\n",
    "        transcription = processor.batch_decode(predicted_ids)[0].lower()\n",
    "\n",
    "        if len(transcription.split()) < 1:\n",
    "            transcription = \"ok\"\n",
    "\n",
    "        # BERT Embedding - Use all hidden states\n",
    "        tokenized_inputs = tokenizer(transcription, padding='max_length', truncation=True, max_length=TEXT_MAX_LENGTH, return_tensors='pt').to(device)\n",
    "        with torch.no_grad():\n",
    "             all_bert_embeddings = torch.mean(bert(input_ids=tokenized_inputs['input_ids'], attention_mask=tokenized_inputs['attention_mask']).last_hidden_state, dim=1)\n",
    "        \n",
    "        bert_embeddings.append(all_bert_embeddings)\n",
    "\n",
    "        # Generate AM, FM, and Mel spectrograms\n",
    "        mel_spectrogram = librosa.feature.melspectrogram(y=waveform, sr=sr, n_fft=1024, hop_length=160, n_mels=256)\n",
    "        mel_spectrogram_db = librosa.power_to_db(mel_spectrogram, ref=np.max)\n",
    "        mel_tensor = torch.tensor(mel_spectrogram_db)\n",
    "      \n",
    "        delta, delta_delta = compute_deltas(mel_spectrogram_db)\n",
    "        delta_tensor = torch.tensor(delta)\n",
    "        delta_delta_tensor = torch.tensor(delta_delta)\n",
    "        #print(mel_tensor.shape,delta.shape,delta_delta.shape)\n",
    "        # Resize spectrograms to match required input size\n",
    "\n",
    "        try:\n",
    "            am_spectrogram = torch.tensor(get_AM_spectrogram(audio_path, specwindowsecs, specstrides)).T\n",
    "        except:\n",
    "            am_spectrogram = mel_tensor\n",
    "        try:\n",
    "            fm_spectrogram = torch.tensor(get_FM_spectrogram(audio_path, specwindowsecs, specstrides)).T\n",
    "        except:\n",
    "            fm_spectrogram = mel_tensor\n",
    "        tensor_fm = torch.tensor(fm_spectrogram).float().unsqueeze(0)  # [1, 105, 30]\n",
    "\n",
    "        delta_am, delta_delta_am = compute_deltas(am_spectrogram)\n",
    "        delta_tensor_am = torch.tensor(delta_am)\n",
    "        delta_delta_tensor_am = torch.tensor(delta_delta_am)\n",
    "        resized_delta_am = resize(delta_tensor_am.unsqueeze(0), size=(224, 224), interpolation=InterpolationMode.BILINEAR)\n",
    "        resized_delta_delta_am = resize(delta_delta_tensor_am.unsqueeze(0), size=(224, 224), interpolation=InterpolationMode.BILINEAR)\n",
    "\n",
    "        delta_fm, delta_delta_fm = compute_deltas(fm_spectrogram)\n",
    "        delta_tensor_fm = torch.tensor(delta_fm)\n",
    "        delta_delta_tensor_fm = torch.tensor(delta_delta_fm)\n",
    "        resized_delta_fm = resize(delta_tensor_fm.unsqueeze(0), size=(224, 224), interpolation=InterpolationMode.BILINEAR)\n",
    "        resized_delta_delta_fm = resize(delta_delta_tensor_fm.unsqueeze(0), size=(224, 224), interpolation=InterpolationMode.BILINEAR)\n",
    "        \n",
    "        resized_fm = resize(tensor_fm, size=(224, 224), interpolation=InterpolationMode.BILINEAR)\n",
    "        \n",
    "        tensor_am = torch.tensor(am_spectrogram).float().unsqueeze(0)  # [1, 105, 30]\n",
    "        resized_am = resize(tensor_am, size=(224, 224), interpolation=InterpolationMode.BILINEAR)\n",
    "        \n",
    "        tensor_mel = torch.tensor(mel_tensor).float().unsqueeze(0)  # [1, 105, 30]\n",
    "        resized_mel = resize(tensor_mel, size=(224, 224), interpolation=InterpolationMode.BILINEAR)\n",
    "        #resized_mel = resize(mel_tensor.unsqueeze(0), size=(224, 224), interpolation=InterpolationMode.BILINEAR)\n",
    "        resized_delta = resize(delta_tensor.unsqueeze(0), size=(224, 224), interpolation=InterpolationMode.BILINEAR)\n",
    "        resized_delta_delta = resize(delta_delta_tensor.unsqueeze(0), size=(224, 224), interpolation=InterpolationMode.BILINEAR)\n",
    "        #print(resized_mel.shape,resized_delta.shape,resized_delta_delta.shape)\n",
    "        \n",
    "        # Stack AM, FM, and Mel spectrograms as channels\n",
    "        #spectrogram_tensor = torch.stack([resized_am, resized_fm, resized_mel]).squeeze(1)  # Shape [3, 224, 224]\n",
    "        #spectrogram_tensor = spectrogram_tensor.unsqueeze(0)  # Add batch dimension\n",
    "        \n",
    "        spectrogram_tensor = torch.stack([resized_fm, resized_delta_fm, resized_delta_delta_fm]).squeeze(1)  # Shape [3, 224, 224]\n",
    "        spectrogram_tensor = spectrogram_tensor.unsqueeze(0)  # Add batch dimension\n",
    "\n",
    "        # ViT Embedding - Use all embeddings\n",
    "        with torch.no_grad():\n",
    "            viT_output = vit_model(spectrogram_tensor.float().to(device))\n",
    "\n",
    "        # Save embeddings\n",
    "        try:\n",
    "            embedding_dict = {\n",
    "                'bert_embeddings': (all_bert_embeddings).cpu(),\n",
    "                'vit_embeddings': (viT_output).cpu()\n",
    "            }\n",
    "            torch.save(embedding_dict, embeds_path)\n",
    "        except Exception as e:\n",
    "            print(\"Dropping row. Error in extracting embeddings!\", e)\n",
    "            fixed_df = fixed_df.drop(index)\n",
    "            continue\n",
    "\n",
    "    return fixed_df\n"
   ]
  },
  {
   "cell_type": "code",
   "execution_count": 161,
   "id": "209be344-fdd0-4025-8558-679bf11b829f",
   "metadata": {},
   "outputs": [],
   "source": [
    "run_dir  = \"/scratch/project_2007260/ADReSSo/ADReSSo21/Dhinirnaya_chunk/runs_dir/concat_vx\"\n",
    "embeds_dir = os.path.join(root_data_dir, \"concat_embeds\")\n",
    "os.makedirs(embeds_dir, exist_ok=True)"
   ]
  },
  {
   "cell_type": "code",
   "execution_count": null,
   "id": "dc23e343-4f86-48d3-87be-a6172d78fff3",
   "metadata": {},
   "outputs": [],
   "source": []
  },
  {
   "cell_type": "code",
   "execution_count": 63,
   "id": "55bfda85-eb32-49e7-9e80-d26d4ee7b3d5",
   "metadata": {},
   "outputs": [],
   "source": [
    "#### run 5 times with different seed and mean and std"
   ]
  },
  {
   "cell_type": "code",
   "execution_count": 64,
   "id": "9f737178-c6e1-4198-8e9a-f38c3b0d51cc",
   "metadata": {
    "scrolled": true
   },
   "outputs": [
    {
     "name": "stderr",
     "output_type": "stream",
     "text": [
      "Precomputing embeddings: 100%|██████████| 161/161 [04:19<00:00,  1.61s/it]\n",
      "Precomputing embeddings: 100%|██████████| 70/70 [01:41<00:00,  1.44s/it]\n"
     ]
    },
    {
     "name": "stdout",
     "output_type": "stream",
     "text": [
      "For SEED: 1\n",
      "Training on Fold 1\n",
      "Training on Fold 2\n",
      "Training on Fold 3\n",
      "Training on Fold 4\n",
      "Training on Fold 5\n",
      "Fold 1 Test Acc: 0.7000, F1: 0.6994, Prec.: 0.7015, Rec.: 0.7000\n",
      "Fold 2 Test Acc: 0.6571, F1: 0.6468, Prec.: 0.6781, Rec.: 0.6571\n",
      "Fold 3 Test Acc: 0.6714, F1: 0.6681, Prec.: 0.6786, Rec.: 0.6714\n",
      "Fold 4 Test Acc: 0.7000, F1: 0.6893, Prec.: 0.7320, Rec.: 0.7000\n",
      "Fold 5 Test Acc: 0.6429, F1: 0.6369, Prec.: 0.6530, Rec.: 0.6429\n",
      "Final Averaged Model Test Acc: 0.6571, F1: 0.6546, Prec.: 0.6619, Rec.: 0.6571\n",
      "For SEED: 3\n",
      "Training on Fold 1\n",
      "Training on Fold 2\n",
      "Training on Fold 3\n",
      "Training on Fold 4\n",
      "Training on Fold 5\n",
      "Fold 1 Test Acc: 0.6714, F1: 0.6708, Prec.: 0.6727, Rec.: 0.6714\n",
      "Fold 2 Test Acc: 0.6571, F1: 0.6526, Prec.: 0.6658, Rec.: 0.6571\n",
      "Fold 3 Test Acc: 0.7000, F1: 0.6893, Prec.: 0.7320, Rec.: 0.7000\n",
      "Fold 4 Test Acc: 0.6143, F1: 0.6104, Prec.: 0.6190, Rec.: 0.6143\n",
      "Fold 5 Test Acc: 0.6857, F1: 0.6762, Prec.: 0.7105, Rec.: 0.6857\n",
      "Final Averaged Model Test Acc: 0.6571, F1: 0.6500, Prec.: 0.6711, Rec.: 0.6571\n",
      "For SEED: 4\n",
      "Training on Fold 1\n",
      "Training on Fold 2\n",
      "Training on Fold 3\n",
      "Training on Fold 4\n",
      "Training on Fold 5\n",
      "Fold 1 Test Acc: 0.6286, F1: 0.6208, Prec.: 0.6400, Rec.: 0.6286\n",
      "Fold 2 Test Acc: 0.6429, F1: 0.6392, Prec.: 0.6488, Rec.: 0.6429\n",
      "Fold 3 Test Acc: 0.7143, F1: 0.7122, Prec.: 0.7208, Rec.: 0.7143\n",
      "Fold 4 Test Acc: 0.6857, F1: 0.6847, Prec.: 0.6882, Rec.: 0.6857\n",
      "Fold 5 Test Acc: 0.6571, F1: 0.6500, Prec.: 0.6711, Rec.: 0.6571\n",
      "Final Averaged Model Test Acc: 0.6571, F1: 0.6546, Prec.: 0.6619, Rec.: 0.6571\n",
      "\n",
      "Final Metrics Across Seeds:\n",
      "Accuracy: Mean = 0.6571, Std = 0.0000\n",
      "F1 Score: Mean = 0.6531, Std = 0.0022\n",
      "Precision: Mean = 0.6650, Std = 0.0043\n",
      "Recall: Mean = 0.6571, Std = 0.0000\n"
     ]
    }
   ],
   "source": [
    "import warnings\n",
    "warnings.filterwarnings(\"ignore\")\n",
    "\n",
    "import os\n",
    "import torch\n",
    "import torch.nn as nn\n",
    "import torch.optim as optim\n",
    "import pandas as pd\n",
    "import numpy as np\n",
    "from torch.utils.data import DataLoader, Subset\n",
    "from sklearn.model_selection import KFold\n",
    "from sklearn.metrics import f1_score, precision_score, recall_score, accuracy_score\n",
    "\n",
    "import logging\n",
    "logging.getLogger().setLevel(logging.ERROR)\n",
    "\n",
    "# Set random seed for reproducibility\n",
    "SEED = 42\n",
    "torch.manual_seed(SEED)\n",
    "torch.cuda.manual_seed_all(SEED)\n",
    "np.random.seed(SEED)\n",
    "\n",
    "# Define loss function\n",
    "def weighted_cross_entropy_loss(class_weights, device):\n",
    "    return nn.CrossEntropyLoss(weight=torch.FloatTensor(class_weights).to(device))\n",
    "\n",
    "# Training function\n",
    "def train_model(model, dataloader, optimizer, criterion, device):\n",
    "    model.train()\n",
    "    running_loss, correct_preds, total_preds = 0.0, 0, 0\n",
    "    \n",
    "    for _, viT_embeddings, input_ids, labels in dataloader:\n",
    "        viT_embeddings, input_ids, labels = viT_embeddings.to(device), input_ids.to(device), labels.to(device)\n",
    "        optimizer.zero_grad()\n",
    "        outputs, _, _, _ = model(viT_embeddings, input_ids)\n",
    "        loss = criterion(outputs, labels)\n",
    "        loss.backward()\n",
    "        optimizer.step()\n",
    "        \n",
    "        running_loss += loss.item()\n",
    "        correct_preds += (outputs.argmax(dim=1) == labels).sum().item()\n",
    "        total_preds += labels.size(0)\n",
    "    \n",
    "    return running_loss / len(dataloader), correct_preds / total_preds\n",
    "\n",
    "# Validation function\n",
    "def validate_model(model, dataloader, criterion, device):\n",
    "    model.eval()\n",
    "    running_loss, correct_preds, total_preds = 0.0, 0, 0\n",
    "    all_labels, all_preds = [], []\n",
    "    \n",
    "    with torch.no_grad():\n",
    "        for _, viT_embeddings, input_ids, labels in dataloader:\n",
    "            viT_embeddings, input_ids, labels = viT_embeddings.to(device), input_ids.to(device), labels.to(device)\n",
    "            outputs, _, _, _ = model(viT_embeddings, input_ids)\n",
    "            loss = criterion(outputs, labels)\n",
    "            \n",
    "            running_loss += loss.item()\n",
    "            preds = outputs.argmax(dim=1)\n",
    "            correct_preds += (preds == labels).sum().item()\n",
    "            total_preds += labels.size(0)\n",
    "            \n",
    "            all_labels.extend(labels.cpu().numpy())\n",
    "            all_preds.extend(preds.cpu().numpy())\n",
    "    \n",
    "    return {\n",
    "        \"loss\": running_loss / len(dataloader),\n",
    "        \"accuracy\": correct_preds / total_preds,\n",
    "        \"f1\": f1_score(all_labels, all_preds, average='weighted'),\n",
    "        \"precision\": precision_score(all_labels, all_preds, average='weighted'),\n",
    "        \"recall\": recall_score(all_labels, all_preds, average='weighted')\n",
    "    }\n",
    "\n",
    "# Main function\n",
    "def main():\n",
    "  device = torch.device(\"cuda\" if torch.cuda.is_available() else \"cpu\")\n",
    "  train_df = pd.read_csv(os.path.join(root_data_dir, 'train_adresso_concat.csv'))\n",
    "  test_df = pd.read_csv(os.path.join(root_data_dir, 'dev_adresso_concat.csv'))\n",
    "\n",
    "  train_embeds_dir = os.path.join(embeds_dir, 'train_embeddings') # os.path.join(embeds_dir, 'train_embeddings'), os,.path.join(embeds_dir, 'train_embeddings_mel_mel_mel'),\n",
    "  test_embeds_dir = os.path.join(embeds_dir, 'test_embeddings')   # os.path.join(embeds_dir, 'test_embeddings')\n",
    "\n",
    "  train_df = precompute_embeddings_v2(train_df, train_embeds_dir)\n",
    "  test_df = precompute_embeddings_v2(test_df, test_embeds_dir)\n",
    "    \n",
    "  train_dataset = MultimodalDataset(train_df, train_embeds_dir, iftrain=1, num_classes=NUM_CLASSES)\n",
    "  test_dataset = MultimodalDataset(test_df, test_embeds_dir, iftrain=0, num_classes=NUM_CLASSES)\n",
    "    \n",
    "  SEEDS = [1,3,4]\n",
    "  seed_metric = []  \n",
    "  for SEED in SEEDS:\n",
    "    print(\"For SEED:\",SEED)  \n",
    "    kfold = KFold(n_splits=5, shuffle=True, random_state=SEED)\n",
    "    best_models = [] \n",
    "    for fold, (train_idx, dev_idx) in enumerate(kfold.split(train_df)):\n",
    "        print(f\"Training on Fold {fold+1}\")\n",
    "        train_subset = Subset(train_dataset, train_idx)\n",
    "        dev_subset = Subset(train_dataset, dev_idx)\n",
    "        \n",
    "        train_loader = DataLoader(train_subset, batch_size=16, shuffle=True)\n",
    "        dev_loader = DataLoader(dev_subset, batch_size=16, shuffle=False)\n",
    "        \n",
    "        model = MultimodalFeedForwardModel(num_classes=NUM_CLASSES).to(device) ##[1.0, 2.05]\n",
    "        criterion = weighted_cross_entropy_loss([1.0, 2.05], device)\n",
    "        optimizer = optim.Adam(model.parameters(), lr=8e-5)\n",
    "        \n",
    "        best_metrics = {\"accuracy\": 0.0}\n",
    "        best_model_state = None\n",
    "        num_epochs = 100\n",
    "        \n",
    "        for epoch in range(num_epochs):\n",
    "            train_loss, train_acc = train_model(model, train_loader, optimizer, criterion, device)\n",
    "            val_metrics = validate_model(model, dev_loader, criterion, device)\n",
    "            #print(f\"Fold {fold+1}, Epoch {epoch+1}: Train Loss: {train_loss:.4f}, Train Acc: {train_acc:.4f}, Val Acc: {val_metrics['accuracy']:.4f}, F1: {val_metrics['f1']:.4f}, Prec.: {val_metrics['precision']:.4f}, Rec.: {val_metrics['recall']:.4f}\")\n",
    "            if val_metrics['accuracy'] > best_metrics['accuracy']:\n",
    "                best_metrics = val_metrics\n",
    "                best_model_state = model.state_dict()\n",
    "        \n",
    "        best_models.append(best_model_state)\n",
    "    \n",
    "    test_loader = DataLoader(test_dataset, batch_size=16, shuffle=False)\n",
    "    \n",
    "    for i, model_state in enumerate(best_models):\n",
    "        model = MultimodalFeedForwardModel(num_classes=NUM_CLASSES).to(device)\n",
    "        model.load_state_dict(model_state)\n",
    "        test_metrics = validate_model(model, test_loader, criterion, device)\n",
    "        print(f\"Fold {i+1} Test Acc: {test_metrics['accuracy']:.4f}, F1: {test_metrics['f1']:.4f}, Prec.: {test_metrics['precision']:.4f}, Rec.: {test_metrics['recall']:.4f}\")\n",
    "    \n",
    "    avg_model = MultimodalFeedForwardModel(num_classes=NUM_CLASSES).to(device)\n",
    "    avg_state_dict = avg_model.state_dict()\n",
    "    \n",
    "    for key in avg_state_dict.keys():\n",
    "        avg_state_dict[key] = torch.stack([torch.tensor(best_models[i][key]) for i in range(5)]).mean(dim=0)\n",
    "    \n",
    "    avg_model.load_state_dict(avg_state_dict)\n",
    "    final_metrics = validate_model(avg_model, test_loader, criterion, device)\n",
    "    print(f\"Final Averaged Model Test Acc: {final_metrics['accuracy']:.4f}, F1: {final_metrics['f1']:.4f}, Prec.: {final_metrics['precision']:.4f}, Rec.: {final_metrics['recall']:.4f}\")\n",
    "    seed_metric.append(final_metrics)\n",
    "\n",
    "  # Compute mean and standard deviation of metrics across different seeds\n",
    "  seed_accuracies = [metric['accuracy'] for metric in seed_metric]\n",
    "  seed_f1s = [metric['f1'] for metric in seed_metric]\n",
    "  seed_precisions = [metric['precision'] for metric in seed_metric]\n",
    "  seed_recalls = [metric['recall'] for metric in seed_metric]\n",
    "\n",
    "  print(\"\\nFinal Metrics Across Seeds:\")\n",
    "  print(f\"Accuracy: Mean = {np.mean(seed_accuracies):.4f}, Std = {np.std(seed_accuracies):.4f}\")\n",
    "  print(f\"F1 Score: Mean = {np.mean(seed_f1s):.4f}, Std = {np.std(seed_f1s):.4f}\")\n",
    "  print(f\"Precision: Mean = {np.mean(seed_precisions):.4f}, Std = {np.std(seed_precisions):.4f}\")\n",
    "  print(f\"Recall: Mean = {np.mean(seed_recalls):.4f}, Std = {np.std(seed_recalls):.4f}\")\n",
    " \n",
    "if __name__ == '__main__':\n",
    "    main()\n"
   ]
  },
  {
   "cell_type": "code",
   "execution_count": null,
   "id": "f239e0d2-b702-4632-bcff-c031f43224c0",
   "metadata": {},
   "outputs": [],
   "source": [
    "#####################With Specificity + Sensitivity##################################"
   ]
  },
  {
   "cell_type": "code",
   "execution_count": null,
   "id": "7887be6e-3db2-422c-bdba-001a01974d3b",
   "metadata": {},
   "outputs": [],
   "source": []
  },
  {
   "cell_type": "code",
   "execution_count": null,
   "id": "7b3bdea2-7d2d-48b8-9adb-fba59b649acc",
   "metadata": {},
   "outputs": [
    {
     "name": "stderr",
     "output_type": "stream",
     "text": [
      "Precomputing embeddings: 100%|██████████| 161/161 [04:04<00:00,  1.52s/it]\n",
      "Precomputing embeddings: 100%|██████████| 70/70 [01:59<00:00,  1.71s/it]\n"
     ]
    },
    {
     "name": "stdout",
     "output_type": "stream",
     "text": [
      "For SEED: 1\n",
      "Training on Fold 1\n",
      "Training on Fold 2\n",
      "Training on Fold 3\n",
      "Training on Fold 4\n",
      "Training on Fold 5\n",
      "Fold 1 Test Acc: 0.7857, F1: 0.7853, Prec.: 0.7878, Rec/Sens.: 0.8125, Spec.: 0.7632\n",
      "Fold 2 Test Acc: 0.7429, F1: 0.7410, Prec.: 0.7502, Rec/Sens.: 0.7931, Spec.: 0.7073\n",
      "Fold 3 Test Acc: 0.7571, F1: 0.7567, Prec.: 0.7590, Rec/Sens.: 0.7812, Spec.: 0.7368\n",
      "Fold 4 Test Acc: 0.7143, F1: 0.7141, Prec.: 0.7150, Rec/Sens.: 0.7027, Spec.: 0.7273\n",
      "Fold 5 Test Acc: 0.7429, F1: 0.7351, Prec.: 0.7752, Rec/Sens.: 0.8696, Spec.: 0.6809\n",
      "Final Averaged Model Test Acc: 0.7857, F1: 0.7853, Prec.: 0.7878, Rec/Sens.: 0.8125, Spec.: 0.7632\n",
      "For SEED: 7\n",
      "Training on Fold 1\n"
     ]
    }
   ],
   "source": [
    "import warnings\n",
    "warnings.filterwarnings(\"ignore\")\n",
    "\n",
    "import os\n",
    "import torch\n",
    "import torch.nn as nn\n",
    "import torch.optim as optim\n",
    "import pandas as pd\n",
    "import numpy as np\n",
    "from torch.utils.data import DataLoader, Subset\n",
    "from sklearn.model_selection import KFold\n",
    "from sklearn.metrics import f1_score, precision_score, recall_score, accuracy_score, confusion_matrix\n",
    "\n",
    "import logging\n",
    "logging.getLogger().setLevel(logging.ERROR)\n",
    "\n",
    "# Reproducibility\n",
    "SEED = 42\n",
    "torch.manual_seed(SEED)\n",
    "torch.cuda.manual_seed_all(SEED)\n",
    "np.random.seed(SEED)\n",
    "\n",
    "# Weighted loss\n",
    "def weighted_cross_entropy_loss(class_weights, device):\n",
    "    return nn.CrossEntropyLoss(weight=torch.FloatTensor(class_weights).to(device))\n",
    "\n",
    "# Training loop\n",
    "def train_model(model, dataloader, optimizer, criterion, device):\n",
    "    model.train()\n",
    "    running_loss, correct_preds, total_preds = 0.0, 0, 0\n",
    "    for _, viT_embeddings, input_ids, labels in dataloader:\n",
    "        viT_embeddings, input_ids, labels = viT_embeddings.to(device), input_ids.to(device), labels.to(device)\n",
    "        optimizer.zero_grad()\n",
    "        outputs, _, _, _ = model(viT_embeddings, input_ids)\n",
    "        loss = criterion(outputs, labels)\n",
    "        loss.backward()\n",
    "        optimizer.step()\n",
    "        running_loss += loss.item()\n",
    "        correct_preds += (outputs.argmax(dim=1) == labels).sum().item()\n",
    "        total_preds += labels.size(0)\n",
    "    return running_loss / len(dataloader), correct_preds / total_preds\n",
    "\n",
    "# Validation loop with specificity and sensitivity\n",
    "def validate_model(model, dataloader, criterion, device):\n",
    "    model.eval()\n",
    "    running_loss, correct_preds, total_preds = 0.0, 0, 0\n",
    "    all_labels, all_preds = [], []\n",
    "    with torch.no_grad():\n",
    "        for _, viT_embeddings, input_ids, labels in dataloader:\n",
    "            viT_embeddings, input_ids, labels = viT_embeddings.to(device), input_ids.to(device), labels.to(device)\n",
    "            outputs, _, _, _ = model(viT_embeddings, input_ids)\n",
    "            loss = criterion(outputs, labels)\n",
    "            running_loss += loss.item()\n",
    "            preds = outputs.argmax(dim=1)\n",
    "            correct_preds += (preds == labels).sum().item()\n",
    "            total_preds += labels.size(0)\n",
    "            all_labels.extend(labels.cpu().numpy())\n",
    "            all_preds.extend(preds.cpu().numpy())\n",
    "\n",
    "    cm = confusion_matrix(all_labels, all_preds)\n",
    "    num_classes = cm.shape[0]\n",
    "    sensitivities, specificities = [], []\n",
    "    #print(cm)\n",
    "    for i in range(1):\n",
    "        TP = cm[0, 0]\n",
    "        FP = cm[0, 1]\n",
    "        FN = cm[1, 0]\n",
    "        TN = cm[1, 1]\n",
    "        \n",
    "\n",
    "        sensitivity = TP / (TP + FN) if (TP + FN) > 0 else 0.0\n",
    "        specificity = TN / (TN + FP) if (TN + FP) > 0 else 0.0\n",
    "\n",
    "        sensitivities.append(sensitivity)\n",
    "        specificities.append(specificity)\n",
    "        #print(TP,FN,FP,TN,sensitivity,specificity)\n",
    "\n",
    "    return {\n",
    "        \"loss\": running_loss / len(dataloader),\n",
    "        \"accuracy\": correct_preds / total_preds,\n",
    "        \"f1\": f1_score(all_labels, all_preds, average='weighted'),\n",
    "        \"precision\": precision_score(all_labels, all_preds, average='weighted'),\n",
    "        \"recall\": recall_score(all_labels, all_preds, average='weighted'),\n",
    "        \"sensitivity\": np.mean(sensitivities),\n",
    "        \"specificity\": np.mean(specificities)\n",
    "    }\n",
    "\n",
    "# Main loop\n",
    "def main():\n",
    "    device = torch.device(\"cuda\" if torch.cuda.is_available() else \"cpu\")\n",
    "    train_df = pd.read_csv(os.path.join(root_data_dir, 'train_adresso_concat.csv'))\n",
    "    test_df = pd.read_csv(os.path.join(root_data_dir, 'dev_adresso_concat.csv'))\n",
    "\n",
    "    train_embeds_dir = os.path.join(embeds_dir, 'train_embeddings')\n",
    "    test_embeds_dir = os.path.join(embeds_dir, 'test_embeddings')\n",
    "\n",
    "    train_df = precompute_embeddings_v2(train_df, train_embeds_dir)\n",
    "    test_df = precompute_embeddings_v2(test_df, test_embeds_dir)\n",
    "\n",
    "    train_dataset = MultimodalDataset(train_df, train_embeds_dir, iftrain=1, num_classes=NUM_CLASSES)\n",
    "    test_dataset = MultimodalDataset(test_df, test_embeds_dir, iftrain=0, num_classes=NUM_CLASSES)\n",
    "\n",
    "    SEEDS = [1,7,4] #[1, 3, 4]\n",
    "    seed_metric = []\n",
    "\n",
    "    for SEED in SEEDS:\n",
    "        print(\"For SEED:\", SEED)\n",
    "        kfold = KFold(n_splits=5, shuffle=True, random_state=SEED)\n",
    "        best_models = []\n",
    "\n",
    "        for fold, (train_idx, dev_idx) in enumerate(kfold.split(train_df)):\n",
    "            print(f\"Training on Fold {fold+1}\")\n",
    "            train_loader = DataLoader(Subset(train_dataset, train_idx), batch_size=16, shuffle=True)\n",
    "            dev_loader = DataLoader(Subset(train_dataset, dev_idx), batch_size=16, shuffle=False)\n",
    "\n",
    "            model = MultimodalFeedForwardModel(num_classes=NUM_CLASSES).to(device)\n",
    "            criterion = weighted_cross_entropy_loss([1.0, 2.05], device)\n",
    "            optimizer = optim.Adam(model.parameters(), lr=8e-5)\n",
    "\n",
    "            best_metrics = {\"accuracy\": 0.0}\n",
    "            best_model_state = None\n",
    "\n",
    "            for epoch in range(100):\n",
    "                train_model(model, train_loader, optimizer, criterion, device)\n",
    "                val_metrics = validate_model(model, dev_loader, criterion, device)\n",
    "                if val_metrics['accuracy'] > best_metrics['accuracy']:\n",
    "                    best_metrics = val_metrics\n",
    "                    best_model_state = model.state_dict()\n",
    "\n",
    "            best_models.append(best_model_state)\n",
    "\n",
    "        test_loader = DataLoader(test_dataset, batch_size=16, shuffle=False)\n",
    "\n",
    "        for i, model_state in enumerate(best_models):\n",
    "            model = MultimodalFeedForwardModel(num_classes=NUM_CLASSES).to(device)\n",
    "            model.load_state_dict(model_state)\n",
    "            test_metrics = validate_model(model, test_loader, criterion, device)\n",
    "            print(f\"Fold {i+1} Test Acc: {test_metrics['accuracy']:.4f}, F1: {test_metrics['f1']:.4f}, \"\n",
    "                  f\"Prec.: {test_metrics['precision']:.4f}, Rec/Sens.: {test_metrics['sensitivity']:.4f}, \"\n",
    "                  f\"Spec.: {test_metrics['specificity']:.4f}\")\n",
    "\n",
    "        # Averaged model\n",
    "        avg_model = MultimodalFeedForwardModel(num_classes=NUM_CLASSES).to(device)\n",
    "        avg_state_dict = avg_model.state_dict()\n",
    "        for key in avg_state_dict.keys():\n",
    "            avg_state_dict[key] = torch.stack([torch.tensor(best_models[i][key]) for i in range(5)]).mean(dim=0)\n",
    "        avg_model.load_state_dict(avg_state_dict)\n",
    "        final_metrics = validate_model(avg_model, test_loader, criterion, device)\n",
    "        print(f\"Final Averaged Model Test Acc: {final_metrics['accuracy']:.4f}, F1: {final_metrics['f1']:.4f}, \"\n",
    "              f\"Prec.: {final_metrics['precision']:.4f}, Rec/Sens.: {final_metrics['sensitivity']:.4f}, \"\n",
    "              f\"Spec.: {final_metrics['specificity']:.4f}\")\n",
    "        seed_metric.append(final_metrics)\n",
    "\n",
    "    # Summary\n",
    "    print(\"\\nFinal Metrics Across Seeds:\")\n",
    "    for metric_name in ['accuracy', 'f1', 'precision', 'sensitivity', 'specificity']:\n",
    "        values = [m[metric_name] for m in seed_metric]\n",
    "        print(f\"{metric_name.capitalize()}: Mean = {np.mean(values):.4f}, Std = {np.std(values):.4f}\")\n",
    "\n",
    "if __name__ == '__main__':\n",
    "    main()\n"
   ]
  },
  {
   "cell_type": "code",
   "execution_count": null,
   "id": "416e0117-0ed4-4178-94e4-f9edc2a7d28b",
   "metadata": {},
   "outputs": [],
   "source": []
  },
  {
   "cell_type": "code",
   "execution_count": null,
   "id": "32b0a035-13aa-4214-a437-7f76f3fce39c",
   "metadata": {},
   "outputs": [],
   "source": []
  },
  {
   "cell_type": "code",
   "execution_count": null,
   "id": "7d8ff0b4-c470-48ad-99fc-b847192284d7",
   "metadata": {},
   "outputs": [],
   "source": []
  },
  {
   "cell_type": "code",
   "execution_count": null,
   "id": "d188eccf-3337-48d6-ac8a-e8f36d8fdde0",
   "metadata": {},
   "outputs": [],
   "source": [
    "###t-sne"
   ]
  },
  {
   "cell_type": "code",
   "execution_count": 65,
   "id": "89c5faec-b0d9-49e3-b862-52a2191cddcf",
   "metadata": {},
   "outputs": [
    {
     "name": "stderr",
     "output_type": "stream",
     "text": [
      "Precomputing embeddings: 100%|██████████| 161/161 [04:04<00:00,  1.52s/it]\n",
      "Precomputing embeddings: 100%|██████████| 70/70 [02:04<00:00,  1.78s/it]\n"
     ]
    },
    {
     "data": {
      "image/png": "[encoded data removed]",
      "text/plain": [
       "<Figure size 300x200 with 1 Axes>"
      ]
     },
     "metadata": {},
     "output_type": "display_data"
    }
   ],
   "source": [
    "import os\n",
    "import torch\n",
    "import numpy as np\n",
    "import pandas as pd\n",
    "import matplotlib.pyplot as plt\n",
    "from sklearn.manifold import TSNE\n",
    "from torch.utils.data import DataLoader\n",
    "\n",
    "# Load dataset\n",
    "train_df = pd.read_csv(os.path.join(root_data_dir, 'train_adresso_concat.csv'))\n",
    "test_df = pd.read_csv(os.path.join(root_data_dir, 'dev_adresso_concat.csv'))\n",
    "\n",
    "train_embeds_dir = os.path.join(embeds_dir, 'train_embeddings')\n",
    "test_embeds_dir = os.path.join(embeds_dir, 'test_embeddings')\n",
    "\n",
    "train_df = precompute_embeddings_v2(train_df, train_embeds_dir)\n",
    "test_df = precompute_embeddings_v2(test_df, test_embeds_dir)\n",
    "\n",
    "train_dataset = MultimodalDataset(train_df, train_embeds_dir, iftrain=1, num_classes=NUM_CLASSES)\n",
    "test_dataset = MultimodalDataset(test_df, test_embeds_dir, iftrain=0, num_classes=NUM_CLASSES)\n",
    "\n",
    "train_loader = DataLoader(train_dataset, batch_size=16, shuffle=False)\n",
    "test_loader = DataLoader(test_dataset, batch_size=16, shuffle=False)\n",
    "\n",
    "def extract_embeddings(dataloader, device):\n",
    "    vit_embeddings, bert_embeddings, labels = [], [], []\n",
    "    for _, viT_embeds, bert_embeds, label in dataloader:\n",
    "        vit_embeddings.append(viT_embeds.numpy())\n",
    "        bert_embeddings.append(bert_embeds.numpy())\n",
    "        labels.append(label.numpy())\n",
    "    \n",
    "    vit_embeddings = np.vstack(vit_embeddings)\n",
    "    bert_embeddings = np.vstack(bert_embeddings)\n",
    "    labels = np.hstack(labels)\n",
    "    \n",
    "    combined_embeddings = np.hstack((vit_embeddings, bert_embeddings))\n",
    "    return combined_embeddings, labels\n",
    "\n",
    "#def plot_tsne(embeddings, labels):\n",
    "#    tsne = TSNE(n_components=2, random_state=42)\n",
    "#    reduced_embeddings = tsne.fit_transform(embeddings)\n",
    "    \n",
    "#    plt.figure(figsize=(8, 6))\n",
    "#    plt.scatter(reduced_embeddings[:, 0], reduced_embeddings[:, 1], c=labels, cmap='coolwarm', alpha=0.7)\n",
    "#    plt.colorbar(label='Label')\n",
    "#    #plt.title('t-SNE of ViT & BERT Embeddings')\n",
    "#    plt.show()\n",
    "\n",
    "import numpy as np\n",
    "import matplotlib.pyplot as plt\n",
    "from sklearn.manifold import TSNE\n",
    "\n",
    "def plot_tsne(embeddings, labels):\n",
    "    tsne = TSNE(n_components=2, random_state=42)\n",
    "    reduced_embeddings = tsne.fit_transform(embeddings)\n",
    "    \n",
    "    plt.figure(figsize=(3, 2))\n",
    "    \n",
    "    # Define label mapping and colors\n",
    "    label_map = {0: 'HC', 1: 'Dementia'}\n",
    "    colors = ['blue', 'red']\n",
    "    \n",
    "    # Scatter plot with labels\n",
    "    for label, color in zip(label_map.keys(), colors):\n",
    "        indices = np.where(labels == label)\n",
    "        plt.scatter(reduced_embeddings[indices, 0], reduced_embeddings[indices, 1], \n",
    "                    c=color, label=label_map[label], alpha=0.7)\n",
    "    \n",
    "    #plt.xlabel(\"t-SNE Component 1\",font=12)\n",
    "    #plt.ylabel(\"t-SNE Component 2\")\n",
    "    plt.show()\n",
    "\n",
    "# Extract embeddings and plot t-SNE\n",
    "train_embeddings, train_labels = extract_embeddings(train_loader, torch.device(\"cpu\"))\n",
    "test_embeddings, test_labels = extract_embeddings(test_loader, torch.device(\"cpu\"))\n",
    "\n",
    "plot_tsne(np.vstack((train_embeddings, test_embeddings)), np.hstack((train_labels, test_labels)))\n"
   ]
  },
  {
   "cell_type": "code",
   "execution_count": null,
   "id": "46093b19-2725-4c6e-90fd-6f2c42225bab",
   "metadata": {},
   "outputs": [],
   "source": []
  },
  {
   "cell_type": "code",
   "execution_count": null,
   "id": "bd7d91ef-7055-412d-a16d-5aeb44a45875",
   "metadata": {},
   "outputs": [],
   "source": []
  },
  {
   "cell_type": "code",
   "execution_count": null,
   "id": "a642d7f5-21f4-4168-82db-f055f5fab905",
   "metadata": {},
   "outputs": [],
   "source": []
  },
  {
   "cell_type": "code",
   "execution_count": null,
   "id": "1be1d77d-9815-48ba-8515-acdf04b9f19a",
   "metadata": {},
   "outputs": [],
   "source": []
  },
  {
   "cell_type": "code",
   "execution_count": null,
   "id": "61510444-a917-49ed-93e2-a8153ea0153f",
   "metadata": {},
   "outputs": [],
   "source": []
  },
  {
   "cell_type": "code",
   "execution_count": null,
   "id": "68493d83-2b25-4bff-9dea-195fbbcebec1",
   "metadata": {},
   "outputs": [],
   "source": []
  },
  {
   "cell_type": "code",
   "execution_count": null,
   "id": "3055973e-dcc6-49a0-aca1-ba7e2ef34bb0",
   "metadata": {},
   "outputs": [],
   "source": []
  },
  {
   "cell_type": "code",
   "execution_count": null,
   "id": "d1e211a2-657c-43de-acfa-e90f998b03c9",
   "metadata": {},
   "outputs": [],
   "source": []
  },
  {
   "cell_type": "code",
   "execution_count": null,
   "id": "e3114028-0b4a-4523-8aeb-91679d4909dd",
   "metadata": {},
   "outputs": [],
   "source": []
  },
  {
   "cell_type": "code",
   "execution_count": 105,
   "id": "310fe47e-1fe8-47a9-a029-d0aad45ebe85",
   "metadata": {},
   "outputs": [],
   "source": [
    "##without tqdm"
   ]
  },
  {
   "cell_type": "code",
   "execution_count": 106,
   "id": "2e10c66e-e970-4016-b4fc-c8adb0616f33",
   "metadata": {},
   "outputs": [
    {
     "name": "stderr",
     "output_type": "stream",
     "text": [
      "Precomputing embeddings: 100%|██████████| 161/161 [04:04<00:00,  1.52s/it]\n",
      "Precomputing embeddings: 100%|██████████| 70/70 [01:41<00:00,  1.46s/it]\n"
     ]
    },
    {
     "name": "stdout",
     "output_type": "stream",
     "text": [
      "Training on Fold 1\n",
      "Training on Fold 2\n",
      "Training on Fold 3\n",
      "Training on Fold 4\n",
      "Training on Fold 5\n",
      "Fold 1 Test Acc: 0.6857, F1: 0.6847, Prec.: 0.6882, Rec.: 0.6857\n",
      "Fold 2 Test Acc: 0.6714, F1: 0.6659, Prec.: 0.6836, Rec.: 0.6714\n",
      "Fold 3 Test Acc: 0.7286, F1: 0.7217, Prec.: 0.7536, Rec.: 0.7286\n",
      "Fold 4 Test Acc: 0.7143, F1: 0.7083, Prec.: 0.7333, Rec.: 0.7143\n",
      "Fold 5 Test Acc: 0.6714, F1: 0.6597, Prec.: 0.6989, Rec.: 0.6714\n",
      "Final Averaged Model Test Acc: 0.7571, F1: 0.7571, Prec.: 0.7574, Rec.: 0.7571\n"
     ]
    }
   ],
   "source": [
    "import warnings\n",
    "warnings.filterwarnings(\"ignore\")\n",
    "\n",
    "import os\n",
    "import torch\n",
    "import torch.nn as nn\n",
    "import torch.optim as optim\n",
    "import pandas as pd\n",
    "import numpy as np\n",
    "from torch.utils.data import DataLoader, Subset\n",
    "from sklearn.model_selection import KFold\n",
    "from sklearn.metrics import f1_score, precision_score, recall_score, accuracy_score\n",
    "\n",
    "import logging\n",
    "logging.getLogger().setLevel(logging.ERROR)\n",
    "\n",
    "# Set random seed for reproducibility\n",
    "SEED = 42\n",
    "torch.manual_seed(SEED)\n",
    "torch.cuda.manual_seed_all(SEED)\n",
    "np.random.seed(SEED)\n",
    "\n",
    "# Define loss function\n",
    "def weighted_cross_entropy_loss(class_weights, device):\n",
    "    return nn.CrossEntropyLoss(weight=torch.FloatTensor(class_weights).to(device))\n",
    "\n",
    "# Training function\n",
    "def train_model(model, dataloader, optimizer, criterion, device):\n",
    "    model.train()\n",
    "    running_loss, correct_preds, total_preds = 0.0, 0, 0\n",
    "    \n",
    "    for _, viT_embeddings, input_ids, labels in dataloader:\n",
    "        viT_embeddings, input_ids, labels = viT_embeddings.to(device), input_ids.to(device), labels.to(device)\n",
    "        optimizer.zero_grad()\n",
    "        outputs, _, _, _ = model(viT_embeddings, input_ids)\n",
    "        loss = criterion(outputs, labels)\n",
    "        loss.backward()\n",
    "        optimizer.step()\n",
    "        \n",
    "        running_loss += loss.item()\n",
    "        correct_preds += (outputs.argmax(dim=1) == labels).sum().item()\n",
    "        total_preds += labels.size(0)\n",
    "    \n",
    "    return running_loss / len(dataloader), correct_preds / total_preds\n",
    "\n",
    "# Validation function\n",
    "def validate_model(model, dataloader, criterion, device):\n",
    "    model.eval()\n",
    "    running_loss, correct_preds, total_preds = 0.0, 0, 0\n",
    "    all_labels, all_preds = [], []\n",
    "    \n",
    "    with torch.no_grad():\n",
    "        for _, viT_embeddings, input_ids, labels in dataloader:\n",
    "            viT_embeddings, input_ids, labels = viT_embeddings.to(device), input_ids.to(device), labels.to(device)\n",
    "            outputs, _, _, _ = model(viT_embeddings, input_ids)\n",
    "            loss = criterion(outputs, labels)\n",
    "            \n",
    "            running_loss += loss.item()\n",
    "            preds = outputs.argmax(dim=1)\n",
    "            correct_preds += (preds == labels).sum().item()\n",
    "            total_preds += labels.size(0)\n",
    "            \n",
    "            all_labels.extend(labels.cpu().numpy())\n",
    "            all_preds.extend(preds.cpu().numpy())\n",
    "    \n",
    "    return {\n",
    "        \"loss\": running_loss / len(dataloader),\n",
    "        \"accuracy\": correct_preds / total_preds,\n",
    "        \"f1\": f1_score(all_labels, all_preds, average='weighted'),\n",
    "        \"precision\": precision_score(all_labels, all_preds, average='weighted'),\n",
    "        \"recall\": recall_score(all_labels, all_preds, average='weighted')\n",
    "    }\n",
    "\n",
    "# Main function\n",
    "def main():\n",
    "    device = torch.device(\"cuda\" if torch.cuda.is_available() else \"cpu\")\n",
    "    train_df = pd.read_csv(os.path.join(root_data_dir, 'train_adresso_concat.csv'))\n",
    "    test_df = pd.read_csv(os.path.join(root_data_dir, 'dev_adresso_concat.csv'))\n",
    "\n",
    "    train_embeds_dir = os.path.join(embeds_dir, 'train_embeddings_am_am_am') # os.path.join(embeds_dir, 'train_embeddings'), os,.path.join(embeds_dir, 'train_embeddings_mel_mel_mel'),\n",
    "    test_embeds_dir = os.path.join(embeds_dir, 'test_embeddings_am_am_am')   # os.path.join(embeds_dir, 'test_embeddings')\n",
    "\n",
    "    train_df = precompute_embeddings_v2(train_df, train_embeds_dir)\n",
    "    test_df = precompute_embeddings_v2(test_df, test_embeds_dir)\n",
    "    \n",
    "    train_dataset = MultimodalDataset(train_df, train_embeds_dir, iftrain=1, num_classes=NUM_CLASSES)\n",
    "    test_dataset = MultimodalDataset(test_df, test_embeds_dir, iftrain=0, num_classes=NUM_CLASSES)\n",
    "    \n",
    "    kfold = KFold(n_splits=5, shuffle=True, random_state=SEED)\n",
    "    best_models = []\n",
    "    \n",
    "    for fold, (train_idx, dev_idx) in enumerate(kfold.split(train_df)):\n",
    "        print(f\"Training on Fold {fold+1}\")\n",
    "        train_subset = Subset(train_dataset, train_idx)\n",
    "        dev_subset = Subset(train_dataset, dev_idx)\n",
    "        \n",
    "        train_loader = DataLoader(train_subset, batch_size=16, shuffle=True)\n",
    "        dev_loader = DataLoader(dev_subset, batch_size=16, shuffle=False)\n",
    "        \n",
    "        model = MultimodalFeedForwardModel(num_classes=NUM_CLASSES).to(device) ##[1.0, 2.05]\n",
    "        criterion = weighted_cross_entropy_loss([1.0, 2.05], device)\n",
    "        optimizer = optim.Adam(model.parameters(), lr=8e-5)\n",
    "        \n",
    "        best_metrics = {\"accuracy\": 0.0}\n",
    "        best_model_state = None\n",
    "        num_epochs = 100\n",
    "        \n",
    "        for epoch in range(num_epochs):\n",
    "            train_loss, train_acc = train_model(model, train_loader, optimizer, criterion, device)\n",
    "            val_metrics = validate_model(model, dev_loader, criterion, device)\n",
    "            #print(f\"Fold {fold+1}, Epoch {epoch+1}: Train Loss: {train_loss:.4f}, Train Acc: {train_acc:.4f}, Val Acc: {val_metrics['accuracy']:.4f}, F1: {val_metrics['f1']:.4f}, Prec.: {val_metrics['precision']:.4f}, Rec.: {val_metrics['recall']:.4f}\")\n",
    "            if val_metrics['accuracy'] > best_metrics['accuracy']:\n",
    "                best_metrics = val_metrics\n",
    "                best_model_state = model.state_dict()\n",
    "        \n",
    "        best_models.append(best_model_state)\n",
    "    \n",
    "    test_loader = DataLoader(test_dataset, batch_size=16, shuffle=False)\n",
    "    \n",
    "    for i, model_state in enumerate(best_models):\n",
    "        model = MultimodalFeedForwardModel(num_classes=NUM_CLASSES).to(device)\n",
    "        model.load_state_dict(model_state)\n",
    "        test_metrics = validate_model(model, test_loader, criterion, device)\n",
    "        print(f\"Fold {i+1} Test Acc: {test_metrics['accuracy']:.4f}, F1: {test_metrics['f1']:.4f}, Prec.: {test_metrics['precision']:.4f}, Rec.: {test_metrics['recall']:.4f}\")\n",
    "    \n",
    "    avg_model = MultimodalFeedForwardModel(num_classes=NUM_CLASSES).to(device)\n",
    "    avg_state_dict = avg_model.state_dict()\n",
    "    \n",
    "    for key in avg_state_dict.keys():\n",
    "        avg_state_dict[key] = torch.stack([torch.tensor(best_models[i][key]) for i in range(5)]).mean(dim=0)\n",
    "    \n",
    "    avg_model.load_state_dict(avg_state_dict)\n",
    "    final_metrics = validate_model(avg_model, test_loader, criterion, device)\n",
    "    print(f\"Final Averaged Model Test Acc: {final_metrics['accuracy']:.4f}, F1: {final_metrics['f1']:.4f}, Prec.: {final_metrics['precision']:.4f}, Rec.: {final_metrics['recall']:.4f}\")\n",
    "\n",
    "if __name__ == '__main__':\n",
    "    main()\n"
   ]
  },
  {
   "cell_type": "code",
   "execution_count": null,
   "id": "0cc5b886-44af-4487-9df3-00364a2a4214",
   "metadata": {},
   "outputs": [],
   "source": []
  },
  {
   "cell_type": "code",
   "execution_count": null,
   "id": "b198453a-9238-4967-b0a6-f1663a179ad0",
   "metadata": {},
   "outputs": [],
   "source": [
    "##### with 80:20"
   ]
  },
  {
   "cell_type": "code",
   "execution_count": null,
   "id": "741a26ff-9172-4566-8be8-d9311b9282c0",
   "metadata": {},
   "outputs": [],
   "source": [
    "import warnings\n",
    "warnings.filterwarnings(\"ignore\")\n",
    "\n",
    "import os\n",
    "import torch\n",
    "import torch.nn as nn\n",
    "import torch.optim as optim\n",
    "import pandas as pd\n",
    "import numpy as np\n",
    "from torch.utils.data import DataLoader, Subset\n",
    "from sklearn.model_selection import KFold\n",
    "from sklearn.metrics import f1_score, precision_score, recall_score, accuracy_score\n",
    "import logging\n",
    "logging.getLogger().setLevel(logging.ERROR)\n",
    "\n",
    "# Set random seed for reproducibility\n",
    "SEED = 42\n",
    "torch.manual_seed(SEED)\n",
    "torch.cuda.manual_seed_all(SEED)\n",
    "np.random.seed(SEED)\n",
    "\n",
    "# Define loss function\n",
    "def weighted_cross_entropy_loss(class_weights, device):\n",
    "    return nn.CrossEntropyLoss(weight=torch.FloatTensor(class_weights).to(device))\n",
    "\n",
    "# Training function\n",
    "def train_model(model, dataloader, optimizer, criterion, device):\n",
    "    model.train()\n",
    "    running_loss, correct_preds, total_preds = 0.0, 0, 0\n",
    "    \n",
    "    for _, viT_embeddings, input_ids, labels in dataloader:\n",
    "        viT_embeddings, input_ids, labels = viT_embeddings.to(device), input_ids.to(device), labels.to(device)\n",
    "        optimizer.zero_grad()\n",
    "        outputs, _, _, _ = model(viT_embeddings, input_ids)\n",
    "        loss = criterion(outputs, labels)\n",
    "        loss.backward()\n",
    "        optimizer.step()\n",
    "        \n",
    "        running_loss += loss.item()\n",
    "        correct_preds += (outputs.argmax(dim=1) == labels).sum().item()\n",
    "        total_preds += labels.size(0)\n",
    "    \n",
    "    return running_loss / len(dataloader), correct_preds / total_preds\n",
    "\n",
    "# Validation function\n",
    "def validate_model(model, dataloader, criterion, device):\n",
    "    model.eval()\n",
    "    running_loss, correct_preds, total_preds = 0.0, 0, 0\n",
    "    all_labels, all_preds = [], []\n",
    "    \n",
    "    with torch.no_grad():\n",
    "        for _, viT_embeddings, input_ids, labels in dataloader:\n",
    "            viT_embeddings, input_ids, labels = viT_embeddings.to(device), input_ids.to(device), labels.to(device)\n",
    "            outputs, _, _, _ = model(viT_embeddings, input_ids)\n",
    "            loss = criterion(outputs, labels)\n",
    "            \n",
    "            running_loss += loss.item()\n",
    "            preds = outputs.argmax(dim=1)\n",
    "            correct_preds += (preds == labels).sum().item()\n",
    "            total_preds += labels.size(0)\n",
    "            \n",
    "            all_labels.extend(labels.cpu().numpy())\n",
    "            all_preds.extend(preds.cpu().numpy())\n",
    "    \n",
    "    return {\n",
    "        \"loss\": running_loss / len(dataloader),\n",
    "        \"accuracy\": correct_preds / total_preds,\n",
    "        \"f1\": f1_score(all_labels, all_preds, average='weighted'),\n",
    "        \"precision\": precision_score(all_labels, all_preds, average='weighted'),\n",
    "        \"recall\": recall_score(all_labels, all_preds, average='weighted')\n",
    "    }\n",
    "\n",
    "# Main function\n",
    "def main():\n",
    "    device = torch.device(\"cuda\" if torch.cuda.is_available() else \"cpu\")\n",
    "    train_df = pd.read_csv(os.path.join(root_data_dir, 'train_adresso_concat.csv'))\n",
    "    test_df = pd.read_csv(os.path.join(root_data_dir, 'dev_adresso_concat.csv'))\n",
    "\n",
    "    train_embeds_dir = os.path.join(embeds_dir, 'train_embeddings')\n",
    "    test_embeds_dir = os.path.join(embeds_dir, 'test_embeddings')\n",
    "\n",
    "    train_df = precompute_embeddings_v2(train_df, train_embeds_dir)\n",
    "    test_df = precompute_embeddings_v2(test_df, test_embeds_dir)\n",
    "    \n",
    "    train_dataset = MultimodalDataset(train_df, train_embeds_dir, iftrain=1, num_classes=NUM_CLASSES)\n",
    "    test_dataset = MultimodalDataset(test_df, test_embeds_dir, iftrain=0, num_classes=NUM_CLASSES)\n",
    "    \n",
    "    kfold = KFold(n_splits=5, shuffle=True, random_state=SEED)\n",
    "    best_models = []\n",
    "    \n",
    "    for fold, (train_idx, dev_idx) in enumerate(kfold.split(train_df)):\n",
    "        train_size = int(0.9 * len(train_idx))\n",
    "        dev_size = len(train_idx) - train_size\n",
    "        train_subset, dev_subset = torch.utils.data.random_split(Subset(train_dataset, train_idx), [train_size, dev_size])\n",
    "        \n",
    "        print(f\"Training on Fold {fold+1}\")\n",
    "        train_loader = DataLoader(train_subset, batch_size=16, shuffle=True)\n",
    "        dev_loader = DataLoader(dev_subset, batch_size=16, shuffle=False)\n",
    "        \n",
    "        model = MultimodalFeedForwardModel(num_classes=NUM_CLASSES).to(device)\n",
    "        criterion = weighted_cross_entropy_loss([1.0, 2.05], device)\n",
    "        optimizer = optim.Adam(model.parameters(), lr=8e-5)\n",
    "        \n",
    "        best_metrics = {\"accuracy\": 0.0}\n",
    "        best_model_state = None\n",
    "        num_epochs = 250\n",
    "        \n",
    "        for epoch in range(num_epochs):\n",
    "            train_loss, train_acc = train_model(model, train_loader, optimizer, criterion, device)\n",
    "            val_metrics = validate_model(model, dev_loader, criterion, device)\n",
    "            #print(f\"Fold {fold+1}, Epoch {epoch+1}: Train Loss: {train_loss:.4f}, Train Acc: {train_acc:.4f}, Val Acc: {val_metrics['accuracy']:.4f}, F1: {val_metrics['f1']:.4f}, Prec.: {val_metrics['precision']:.4f}, Rec.: {val_metrics['recall']:.4f}\")\n",
    "            if val_metrics['accuracy'] > best_metrics['accuracy']:\n",
    "                best_metrics = val_metrics\n",
    "                best_model_state = model.state_dict()\n",
    "        \n",
    "        best_models.append(best_model_state)\n",
    "    \n",
    "    test_loader = DataLoader(test_dataset, batch_size=16, shuffle=False)\n",
    "    \n",
    "    for i, model_state in enumerate(best_models):\n",
    "        model = MultimodalFeedForwardModel(num_classes=NUM_CLASSES).to(device)\n",
    "        model.load_state_dict(model_state)\n",
    "        test_metrics = validate_model(model, test_loader, criterion, device)\n",
    "        print(f\"Fold {i+1} Test Acc: {test_metrics['accuracy']:.4f}, F1: {test_metrics['f1']:.4f}, Prec.: {test_metrics['precision']:.4f}, Rec.: {test_metrics['recall']:.4f}\")\n",
    "    \n",
    "    avg_model = MultimodalFeedForwardModel(num_classes=NUM_CLASSES).to(device)\n",
    "    avg_state_dict = avg_model.state_dict()\n",
    "    \n",
    "    for key in avg_state_dict.keys():\n",
    "        avg_state_dict[key] = torch.stack([torch.tensor(best_models[i][key]) for i in range(5)]).mean(dim=0)\n",
    "    \n",
    "    avg_model.load_state_dict(avg_state_dict)\n",
    "    final_metrics = validate_model(avg_model, test_loader, criterion, device)\n",
    "    print(f\"Final Averaged Model Test Acc: {final_metrics['accuracy']:.4f}, F1: {final_metrics['f1']:.4f}, Prec.: {final_metrics['precision']:.4f}, Rec.: {final_metrics['recall']:.4f}\")\n",
    "\n",
    "if __name__ == '__main__':\n",
    "    main()\n"
   ]
  },
  {
   "cell_type": "code",
   "execution_count": null,
   "id": "f77fc173-8765-4efa-9d39-e1dd9b924338",
   "metadata": {},
   "outputs": [],
   "source": [
    "###with tqdm"
   ]
  },
  {
   "cell_type": "code",
   "execution_count": 24,
   "id": "78762ff1-61a1-4ba2-adb3-0bb42a530bd4",
   "metadata": {},
   "outputs": [
    {
     "name": "stderr",
     "output_type": "stream",
     "text": [
      "Precomputing embeddings: 100%|██████████| 161/161 [00:00<00:00, 225.80it/s]\n",
      "Precomputing embeddings: 100%|██████████| 70/70 [00:00<00:00, 243.15it/s]\n"
     ]
    },
    {
     "name": "stdout",
     "output_type": "stream",
     "text": [
      "Training on Fold 1\n"
     ]
    },
    {
     "name": "stderr",
     "output_type": "stream",
     "text": [
      "Training: 100%|██████████| 8/8 [00:00<00:00, 69.71it/s]\n",
      "Training: 100%|██████████| 8/8 [00:00<00:00, 67.47it/s]\n",
      "Training: 100%|██████████| 8/8 [00:00<00:00, 68.82it/s]\n",
      "Training: 100%|██████████| 8/8 [00:00<00:00, 68.08it/s]\n",
      "Training: 100%|██████████| 8/8 [00:00<00:00, 71.37it/s]\n",
      "Training: 100%|██████████| 8/8 [00:00<00:00, 66.19it/s]\n",
      "Training: 100%|██████████| 8/8 [00:00<00:00, 68.04it/s]\n",
      "Training: 100%|██████████| 8/8 [00:00<00:00, 66.65it/s]\n",
      "Training: 100%|██████████| 8/8 [00:00<00:00, 65.62it/s]\n",
      "Training: 100%|██████████| 8/8 [00:00<00:00, 72.60it/s]\n",
      "Training: 100%|██████████| 8/8 [00:00<00:00, 68.31it/s]\n",
      "Training: 100%|██████████| 8/8 [00:00<00:00, 69.76it/s]\n",
      "Training: 100%|██████████| 8/8 [00:00<00:00, 71.06it/s]\n",
      "Training: 100%|██████████| 8/8 [00:00<00:00, 65.98it/s]\n",
      "Training: 100%|██████████| 8/8 [00:00<00:00, 70.52it/s]\n",
      "Training: 100%|██████████| 8/8 [00:00<00:00, 63.82it/s]\n",
      "Training: 100%|██████████| 8/8 [00:00<00:00, 66.57it/s]\n",
      "Training: 100%|██████████| 8/8 [00:00<00:00, 69.98it/s]\n",
      "Training: 100%|██████████| 8/8 [00:00<00:00, 68.26it/s]\n",
      "Training: 100%|██████████| 8/8 [00:00<00:00, 67.40it/s]\n",
      "Training: 100%|██████████| 8/8 [00:00<00:00, 66.09it/s]\n",
      "Training: 100%|██████████| 8/8 [00:00<00:00, 68.46it/s]\n",
      "Training: 100%|██████████| 8/8 [00:00<00:00, 70.67it/s]\n",
      "Training: 100%|██████████| 8/8 [00:00<00:00, 63.64it/s]\n",
      "Training: 100%|██████████| 8/8 [00:00<00:00, 68.27it/s]\n",
      "Training: 100%|██████████| 8/8 [00:00<00:00, 67.59it/s]\n",
      "Training: 100%|██████████| 8/8 [00:00<00:00, 69.81it/s]\n",
      "Training: 100%|██████████| 8/8 [00:00<00:00, 70.18it/s]\n",
      "Training: 100%|██████████| 8/8 [00:00<00:00, 68.69it/s]\n",
      "Training: 100%|██████████| 8/8 [00:00<00:00, 71.27it/s]\n",
      "Training: 100%|██████████| 8/8 [00:00<00:00, 66.90it/s]\n",
      "Training: 100%|██████████| 8/8 [00:00<00:00, 70.88it/s]\n",
      "Training: 100%|██████████| 8/8 [00:00<00:00, 66.05it/s]\n",
      "Training: 100%|██████████| 8/8 [00:00<00:00, 68.37it/s]\n",
      "Training: 100%|██████████| 8/8 [00:00<00:00, 69.92it/s]\n",
      "Training: 100%|██████████| 8/8 [00:00<00:00, 62.85it/s]\n",
      "Training: 100%|██████████| 8/8 [00:00<00:00, 67.29it/s]\n",
      "Training: 100%|██████████| 8/8 [00:00<00:00, 68.65it/s]\n",
      "Training: 100%|██████████| 8/8 [00:00<00:00, 69.50it/s]\n",
      "Training: 100%|██████████| 8/8 [00:00<00:00, 70.31it/s]\n",
      "Training: 100%|██████████| 8/8 [00:00<00:00, 66.31it/s]\n",
      "Training: 100%|██████████| 8/8 [00:00<00:00, 70.94it/s]\n",
      "Training: 100%|██████████| 8/8 [00:00<00:00, 69.25it/s]\n",
      "Training: 100%|██████████| 8/8 [00:00<00:00, 65.01it/s]\n",
      "Training: 100%|██████████| 8/8 [00:00<00:00, 66.71it/s]\n",
      "Training: 100%|██████████| 8/8 [00:00<00:00, 67.42it/s]\n",
      "Training: 100%|██████████| 8/8 [00:00<00:00, 62.66it/s]\n",
      "Training: 100%|██████████| 8/8 [00:00<00:00, 68.12it/s]\n",
      "Training: 100%|██████████| 8/8 [00:00<00:00, 65.55it/s]\n",
      "Training: 100%|██████████| 8/8 [00:00<00:00, 69.16it/s]\n",
      "Training: 100%|██████████| 8/8 [00:00<00:00, 68.13it/s]\n",
      "Training: 100%|██████████| 8/8 [00:00<00:00, 70.24it/s]\n",
      "Training: 100%|██████████| 8/8 [00:00<00:00, 69.31it/s]\n",
      "Training: 100%|██████████| 8/8 [00:00<00:00, 68.84it/s]\n",
      "Training: 100%|██████████| 8/8 [00:00<00:00, 69.66it/s]\n",
      "Training: 100%|██████████| 8/8 [00:00<00:00, 65.77it/s]\n",
      "Training: 100%|██████████| 8/8 [00:00<00:00, 71.17it/s]\n",
      "Training: 100%|██████████| 8/8 [00:00<00:00, 68.87it/s]\n",
      "Training: 100%|██████████| 8/8 [00:00<00:00, 70.10it/s]\n",
      "Training: 100%|██████████| 8/8 [00:00<00:00, 70.48it/s]\n",
      "Training: 100%|██████████| 8/8 [00:00<00:00, 67.59it/s]\n",
      "Training: 100%|██████████| 8/8 [00:00<00:00, 68.73it/s]\n",
      "Training: 100%|██████████| 8/8 [00:00<00:00, 67.55it/s]\n",
      "Training: 100%|██████████| 8/8 [00:00<00:00, 65.85it/s]\n",
      "Training: 100%|██████████| 8/8 [00:00<00:00, 70.18it/s]\n",
      "Training:  12%|█▎        | 1/8 [00:00<00:00, 54.63it/s]\n"
     ]
    },
    {
     "ename": "KeyboardInterrupt",
     "evalue": "",
     "output_type": "error",
     "traceback": [
      "\u001b[0;31m---------------------------------------------------------------------------\u001b[0m",
      "\u001b[0;31mKeyboardInterrupt\u001b[0m                         Traceback (most recent call last)",
      "Cell \u001b[0;32mIn[24], line 141\u001b[0m\n\u001b[1;32m    138\u001b[0m     \u001b[38;5;28mprint\u001b[39m(\u001b[38;5;124mf\u001b[39m\u001b[38;5;124m\"\u001b[39m\u001b[38;5;124mFinal Averaged Model Test Acc: \u001b[39m\u001b[38;5;132;01m{\u001b[39;00mfinal_metrics[\u001b[38;5;124m'\u001b[39m\u001b[38;5;124maccuracy\u001b[39m\u001b[38;5;124m'\u001b[39m]\u001b[38;5;132;01m:\u001b[39;00m\u001b[38;5;124m.4f\u001b[39m\u001b[38;5;132;01m}\u001b[39;00m\u001b[38;5;124m, F1: \u001b[39m\u001b[38;5;132;01m{\u001b[39;00mfinal_metrics[\u001b[38;5;124m'\u001b[39m\u001b[38;5;124mf1\u001b[39m\u001b[38;5;124m'\u001b[39m]\u001b[38;5;132;01m:\u001b[39;00m\u001b[38;5;124m.4f\u001b[39m\u001b[38;5;132;01m}\u001b[39;00m\u001b[38;5;124m, Prec.: \u001b[39m\u001b[38;5;132;01m{\u001b[39;00mfinal_metrics[\u001b[38;5;124m'\u001b[39m\u001b[38;5;124mprecision\u001b[39m\u001b[38;5;124m'\u001b[39m]\u001b[38;5;132;01m:\u001b[39;00m\u001b[38;5;124m.4f\u001b[39m\u001b[38;5;132;01m}\u001b[39;00m\u001b[38;5;124m, Rec.: \u001b[39m\u001b[38;5;132;01m{\u001b[39;00mfinal_metrics[\u001b[38;5;124m'\u001b[39m\u001b[38;5;124mrecall\u001b[39m\u001b[38;5;124m'\u001b[39m]\u001b[38;5;132;01m:\u001b[39;00m\u001b[38;5;124m.4f\u001b[39m\u001b[38;5;132;01m}\u001b[39;00m\u001b[38;5;124m\"\u001b[39m)\n\u001b[1;32m    140\u001b[0m \u001b[38;5;28;01mif\u001b[39;00m \u001b[38;5;18m__name__\u001b[39m \u001b[38;5;241m==\u001b[39m \u001b[38;5;124m'\u001b[39m\u001b[38;5;124m__main__\u001b[39m\u001b[38;5;124m'\u001b[39m:\n\u001b[0;32m--> 141\u001b[0m     \u001b[43mmain\u001b[49m\u001b[43m(\u001b[49m\u001b[43m)\u001b[49m\n",
      "Cell \u001b[0;32mIn[24], line 111\u001b[0m, in \u001b[0;36mmain\u001b[0;34m()\u001b[0m\n\u001b[1;32m    108\u001b[0m num_epochs \u001b[38;5;241m=\u001b[39m \u001b[38;5;241m100\u001b[39m\n\u001b[1;32m    110\u001b[0m \u001b[38;5;28;01mfor\u001b[39;00m epoch \u001b[38;5;129;01min\u001b[39;00m \u001b[38;5;28mrange\u001b[39m(num_epochs):\n\u001b[0;32m--> 111\u001b[0m     train_loss, train_acc \u001b[38;5;241m=\u001b[39m \u001b[43mtrain_model\u001b[49m\u001b[43m(\u001b[49m\u001b[43mmodel\u001b[49m\u001b[43m,\u001b[49m\u001b[43m \u001b[49m\u001b[43mtrain_loader\u001b[49m\u001b[43m,\u001b[49m\u001b[43m \u001b[49m\u001b[43moptimizer\u001b[49m\u001b[43m,\u001b[49m\u001b[43m \u001b[49m\u001b[43mcriterion\u001b[49m\u001b[43m,\u001b[49m\u001b[43m \u001b[49m\u001b[43mdevice\u001b[49m\u001b[43m)\u001b[49m\n\u001b[1;32m    112\u001b[0m     val_metrics \u001b[38;5;241m=\u001b[39m validate_model(model, dev_loader, criterion, device)\n\u001b[1;32m    114\u001b[0m     \u001b[38;5;66;03m#print(f\"Fold {fold+1}, Epoch {epoch+1}: Train Loss: {train_loss:.4f}, Train Acc: {train_acc:.4f}, Val Acc: {val_metrics['accuracy']:.4f}, F1: {val_metrics['f1']:.4f}, Prec.: {val_metrics['precision']:.4f}, Rec.: {val_metrics['recall']:.4f}\")\u001b[39;00m\n",
      "Cell \u001b[0;32mIn[24], line 34\u001b[0m, in \u001b[0;36mtrain_model\u001b[0;34m(model, dataloader, optimizer, criterion, device)\u001b[0m\n\u001b[1;32m     31\u001b[0m model\u001b[38;5;241m.\u001b[39mtrain()\n\u001b[1;32m     32\u001b[0m running_loss, correct_preds, total_preds \u001b[38;5;241m=\u001b[39m \u001b[38;5;241m0.0\u001b[39m, \u001b[38;5;241m0\u001b[39m, \u001b[38;5;241m0\u001b[39m\n\u001b[0;32m---> 34\u001b[0m \u001b[38;5;28;01mfor\u001b[39;00m _, viT_embeddings, input_ids, labels \u001b[38;5;129;01min\u001b[39;00m tqdm(dataloader, desc\u001b[38;5;241m=\u001b[39m\u001b[38;5;124m'\u001b[39m\u001b[38;5;124mTraining\u001b[39m\u001b[38;5;124m'\u001b[39m):\n\u001b[1;32m     35\u001b[0m     viT_embeddings, input_ids, labels \u001b[38;5;241m=\u001b[39m viT_embeddings\u001b[38;5;241m.\u001b[39mto(device), input_ids\u001b[38;5;241m.\u001b[39mto(device), labels\u001b[38;5;241m.\u001b[39mto(device)\n\u001b[1;32m     36\u001b[0m     optimizer\u001b[38;5;241m.\u001b[39mzero_grad()\n",
      "File \u001b[0;32m/scratch/project_2007260/miniconda/envs/py3.10/lib/python3.10/site-packages/tqdm/std.py:1181\u001b[0m, in \u001b[0;36mtqdm.__iter__\u001b[0;34m(self)\u001b[0m\n\u001b[1;32m   1178\u001b[0m time \u001b[38;5;241m=\u001b[39m \u001b[38;5;28mself\u001b[39m\u001b[38;5;241m.\u001b[39m_time\n\u001b[1;32m   1180\u001b[0m \u001b[38;5;28;01mtry\u001b[39;00m:\n\u001b[0;32m-> 1181\u001b[0m     \u001b[38;5;28;01mfor\u001b[39;00m obj \u001b[38;5;129;01min\u001b[39;00m iterable:\n\u001b[1;32m   1182\u001b[0m         \u001b[38;5;28;01myield\u001b[39;00m obj\n\u001b[1;32m   1183\u001b[0m         \u001b[38;5;66;03m# Update and possibly print the progressbar.\u001b[39;00m\n\u001b[1;32m   1184\u001b[0m         \u001b[38;5;66;03m# Note: does not call self.update(1) for speed optimisation.\u001b[39;00m\n",
      "File \u001b[0;32m/scratch/project_2007260/miniconda/envs/py3.10/lib/python3.10/site-packages/torch/utils/data/dataloader.py:701\u001b[0m, in \u001b[0;36m_BaseDataLoaderIter.__next__\u001b[0;34m(self)\u001b[0m\n\u001b[1;32m    698\u001b[0m \u001b[38;5;28;01mif\u001b[39;00m \u001b[38;5;28mself\u001b[39m\u001b[38;5;241m.\u001b[39m_sampler_iter \u001b[38;5;129;01mis\u001b[39;00m \u001b[38;5;28;01mNone\u001b[39;00m:\n\u001b[1;32m    699\u001b[0m     \u001b[38;5;66;03m# TODO(https://github.com/pytorch/pytorch/issues/76750)\u001b[39;00m\n\u001b[1;32m    700\u001b[0m     \u001b[38;5;28mself\u001b[39m\u001b[38;5;241m.\u001b[39m_reset()  \u001b[38;5;66;03m# type: ignore[call-arg]\u001b[39;00m\n\u001b[0;32m--> 701\u001b[0m data \u001b[38;5;241m=\u001b[39m \u001b[38;5;28;43mself\u001b[39;49m\u001b[38;5;241;43m.\u001b[39;49m\u001b[43m_next_data\u001b[49m\u001b[43m(\u001b[49m\u001b[43m)\u001b[49m\n\u001b[1;32m    702\u001b[0m \u001b[38;5;28mself\u001b[39m\u001b[38;5;241m.\u001b[39m_num_yielded \u001b[38;5;241m+\u001b[39m\u001b[38;5;241m=\u001b[39m \u001b[38;5;241m1\u001b[39m\n\u001b[1;32m    703\u001b[0m \u001b[38;5;28;01mif\u001b[39;00m (\n\u001b[1;32m    704\u001b[0m     \u001b[38;5;28mself\u001b[39m\u001b[38;5;241m.\u001b[39m_dataset_kind \u001b[38;5;241m==\u001b[39m _DatasetKind\u001b[38;5;241m.\u001b[39mIterable\n\u001b[1;32m    705\u001b[0m     \u001b[38;5;129;01mand\u001b[39;00m \u001b[38;5;28mself\u001b[39m\u001b[38;5;241m.\u001b[39m_IterableDataset_len_called \u001b[38;5;129;01mis\u001b[39;00m \u001b[38;5;129;01mnot\u001b[39;00m \u001b[38;5;28;01mNone\u001b[39;00m\n\u001b[1;32m    706\u001b[0m     \u001b[38;5;129;01mand\u001b[39;00m \u001b[38;5;28mself\u001b[39m\u001b[38;5;241m.\u001b[39m_num_yielded \u001b[38;5;241m>\u001b[39m \u001b[38;5;28mself\u001b[39m\u001b[38;5;241m.\u001b[39m_IterableDataset_len_called\n\u001b[1;32m    707\u001b[0m ):\n",
      "File \u001b[0;32m/scratch/project_2007260/miniconda/envs/py3.10/lib/python3.10/site-packages/torch/utils/data/dataloader.py:757\u001b[0m, in \u001b[0;36m_SingleProcessDataLoaderIter._next_data\u001b[0;34m(self)\u001b[0m\n\u001b[1;32m    755\u001b[0m \u001b[38;5;28;01mdef\u001b[39;00m \u001b[38;5;21m_next_data\u001b[39m(\u001b[38;5;28mself\u001b[39m):\n\u001b[1;32m    756\u001b[0m     index \u001b[38;5;241m=\u001b[39m \u001b[38;5;28mself\u001b[39m\u001b[38;5;241m.\u001b[39m_next_index()  \u001b[38;5;66;03m# may raise StopIteration\u001b[39;00m\n\u001b[0;32m--> 757\u001b[0m     data \u001b[38;5;241m=\u001b[39m \u001b[38;5;28;43mself\u001b[39;49m\u001b[38;5;241;43m.\u001b[39;49m\u001b[43m_dataset_fetcher\u001b[49m\u001b[38;5;241;43m.\u001b[39;49m\u001b[43mfetch\u001b[49m\u001b[43m(\u001b[49m\u001b[43mindex\u001b[49m\u001b[43m)\u001b[49m  \u001b[38;5;66;03m# may raise StopIteration\u001b[39;00m\n\u001b[1;32m    758\u001b[0m     \u001b[38;5;28;01mif\u001b[39;00m \u001b[38;5;28mself\u001b[39m\u001b[38;5;241m.\u001b[39m_pin_memory:\n\u001b[1;32m    759\u001b[0m         data \u001b[38;5;241m=\u001b[39m _utils\u001b[38;5;241m.\u001b[39mpin_memory\u001b[38;5;241m.\u001b[39mpin_memory(data, \u001b[38;5;28mself\u001b[39m\u001b[38;5;241m.\u001b[39m_pin_memory_device)\n",
      "File \u001b[0;32m/scratch/project_2007260/miniconda/envs/py3.10/lib/python3.10/site-packages/torch/utils/data/_utils/fetch.py:50\u001b[0m, in \u001b[0;36m_MapDatasetFetcher.fetch\u001b[0;34m(self, possibly_batched_index)\u001b[0m\n\u001b[1;32m     48\u001b[0m \u001b[38;5;28;01mif\u001b[39;00m \u001b[38;5;28mself\u001b[39m\u001b[38;5;241m.\u001b[39mauto_collation:\n\u001b[1;32m     49\u001b[0m     \u001b[38;5;28;01mif\u001b[39;00m \u001b[38;5;28mhasattr\u001b[39m(\u001b[38;5;28mself\u001b[39m\u001b[38;5;241m.\u001b[39mdataset, \u001b[38;5;124m\"\u001b[39m\u001b[38;5;124m__getitems__\u001b[39m\u001b[38;5;124m\"\u001b[39m) \u001b[38;5;129;01mand\u001b[39;00m \u001b[38;5;28mself\u001b[39m\u001b[38;5;241m.\u001b[39mdataset\u001b[38;5;241m.\u001b[39m__getitems__:\n\u001b[0;32m---> 50\u001b[0m         data \u001b[38;5;241m=\u001b[39m \u001b[38;5;28;43mself\u001b[39;49m\u001b[38;5;241;43m.\u001b[39;49m\u001b[43mdataset\u001b[49m\u001b[38;5;241;43m.\u001b[39;49m\u001b[43m__getitems__\u001b[49m\u001b[43m(\u001b[49m\u001b[43mpossibly_batched_index\u001b[49m\u001b[43m)\u001b[49m\n\u001b[1;32m     51\u001b[0m     \u001b[38;5;28;01melse\u001b[39;00m:\n\u001b[1;32m     52\u001b[0m         data \u001b[38;5;241m=\u001b[39m [\u001b[38;5;28mself\u001b[39m\u001b[38;5;241m.\u001b[39mdataset[idx] \u001b[38;5;28;01mfor\u001b[39;00m idx \u001b[38;5;129;01min\u001b[39;00m possibly_batched_index]\n",
      "File \u001b[0;32m/scratch/project_2007260/miniconda/envs/py3.10/lib/python3.10/site-packages/torch/utils/data/dataset.py:420\u001b[0m, in \u001b[0;36mSubset.__getitems__\u001b[0;34m(self, indices)\u001b[0m\n\u001b[1;32m    418\u001b[0m     \u001b[38;5;28;01mreturn\u001b[39;00m \u001b[38;5;28mself\u001b[39m\u001b[38;5;241m.\u001b[39mdataset\u001b[38;5;241m.\u001b[39m__getitems__([\u001b[38;5;28mself\u001b[39m\u001b[38;5;241m.\u001b[39mindices[idx] \u001b[38;5;28;01mfor\u001b[39;00m idx \u001b[38;5;129;01min\u001b[39;00m indices])  \u001b[38;5;66;03m# type: ignore[attr-defined]\u001b[39;00m\n\u001b[1;32m    419\u001b[0m \u001b[38;5;28;01melse\u001b[39;00m:\n\u001b[0;32m--> 420\u001b[0m     \u001b[38;5;28;01mreturn\u001b[39;00m [\u001b[38;5;28mself\u001b[39m\u001b[38;5;241m.\u001b[39mdataset[\u001b[38;5;28mself\u001b[39m\u001b[38;5;241m.\u001b[39mindices[idx]] \u001b[38;5;28;01mfor\u001b[39;00m idx \u001b[38;5;129;01min\u001b[39;00m indices]\n",
      "File \u001b[0;32m/scratch/project_2007260/miniconda/envs/py3.10/lib/python3.10/site-packages/torch/utils/data/dataset.py:420\u001b[0m, in \u001b[0;36m<listcomp>\u001b[0;34m(.0)\u001b[0m\n\u001b[1;32m    418\u001b[0m     \u001b[38;5;28;01mreturn\u001b[39;00m \u001b[38;5;28mself\u001b[39m\u001b[38;5;241m.\u001b[39mdataset\u001b[38;5;241m.\u001b[39m__getitems__([\u001b[38;5;28mself\u001b[39m\u001b[38;5;241m.\u001b[39mindices[idx] \u001b[38;5;28;01mfor\u001b[39;00m idx \u001b[38;5;129;01min\u001b[39;00m indices])  \u001b[38;5;66;03m# type: ignore[attr-defined]\u001b[39;00m\n\u001b[1;32m    419\u001b[0m \u001b[38;5;28;01melse\u001b[39;00m:\n\u001b[0;32m--> 420\u001b[0m     \u001b[38;5;28;01mreturn\u001b[39;00m [\u001b[38;5;28;43mself\u001b[39;49m\u001b[38;5;241;43m.\u001b[39;49m\u001b[43mdataset\u001b[49m\u001b[43m[\u001b[49m\u001b[38;5;28;43mself\u001b[39;49m\u001b[38;5;241;43m.\u001b[39;49m\u001b[43mindices\u001b[49m\u001b[43m[\u001b[49m\u001b[43midx\u001b[49m\u001b[43m]\u001b[49m\u001b[43m]\u001b[49m \u001b[38;5;28;01mfor\u001b[39;00m idx \u001b[38;5;129;01min\u001b[39;00m indices]\n",
      "Cell \u001b[0;32mIn[20], line 21\u001b[0m, in \u001b[0;36mMultimodalDataset.__getitem__\u001b[0;34m(self, index)\u001b[0m\n\u001b[1;32m     19\u001b[0m row \u001b[38;5;241m=\u001b[39m \u001b[38;5;28mself\u001b[39m\u001b[38;5;241m.\u001b[39mdata\u001b[38;5;241m.\u001b[39miloc[index]\n\u001b[1;32m     20\u001b[0m embeddings_path \u001b[38;5;241m=\u001b[39m os\u001b[38;5;241m.\u001b[39mpath\u001b[38;5;241m.\u001b[39mjoin(\u001b[38;5;28mself\u001b[39m\u001b[38;5;241m.\u001b[39membeddings_dir, \u001b[38;5;124mf\u001b[39m\u001b[38;5;124m\"\u001b[39m\u001b[38;5;132;01m{\u001b[39;00mos\u001b[38;5;241m.\u001b[39mpath\u001b[38;5;241m.\u001b[39mbasename(row[\u001b[38;5;124m'\u001b[39m\u001b[38;5;124maudio_path\u001b[39m\u001b[38;5;124m'\u001b[39m])\u001b[38;5;132;01m}\u001b[39;00m\u001b[38;5;124m_embeddings.pth\u001b[39m\u001b[38;5;124m\"\u001b[39m)\n\u001b[0;32m---> 21\u001b[0m embeddings \u001b[38;5;241m=\u001b[39m \u001b[43mtorch\u001b[49m\u001b[38;5;241;43m.\u001b[39;49m\u001b[43mload\u001b[49m\u001b[43m(\u001b[49m\u001b[43membeddings_path\u001b[49m\u001b[43m)\u001b[49m\n\u001b[1;32m     23\u001b[0m \u001b[38;5;66;03m# No padding required, directly use embeddings\u001b[39;00m\n\u001b[1;32m     24\u001b[0m viT_embeddings \u001b[38;5;241m=\u001b[39m embeddings[\u001b[38;5;124m'\u001b[39m\u001b[38;5;124mvit_embeddings\u001b[39m\u001b[38;5;124m'\u001b[39m]\u001b[38;5;241m.\u001b[39msqueeze(\u001b[38;5;241m0\u001b[39m)  \u001b[38;5;66;03m# Shape: (1, 768) -> (768)\u001b[39;00m\n",
      "File \u001b[0;32m/scratch/project_2007260/miniconda/envs/py3.10/lib/python3.10/site-packages/torch/serialization.py:1319\u001b[0m, in \u001b[0;36mload\u001b[0;34m(f, map_location, pickle_module, weights_only, mmap, **pickle_load_args)\u001b[0m\n\u001b[1;32m   1316\u001b[0m \u001b[38;5;28;01mif\u001b[39;00m \u001b[38;5;124m\"\u001b[39m\u001b[38;5;124mencoding\u001b[39m\u001b[38;5;124m\"\u001b[39m \u001b[38;5;129;01mnot\u001b[39;00m \u001b[38;5;129;01min\u001b[39;00m pickle_load_args\u001b[38;5;241m.\u001b[39mkeys():\n\u001b[1;32m   1317\u001b[0m     pickle_load_args[\u001b[38;5;124m\"\u001b[39m\u001b[38;5;124mencoding\u001b[39m\u001b[38;5;124m\"\u001b[39m] \u001b[38;5;241m=\u001b[39m \u001b[38;5;124m\"\u001b[39m\u001b[38;5;124mutf-8\u001b[39m\u001b[38;5;124m\"\u001b[39m\n\u001b[0;32m-> 1319\u001b[0m \u001b[38;5;28;01mwith\u001b[39;00m \u001b[43m_open_file_like\u001b[49m\u001b[43m(\u001b[49m\u001b[43mf\u001b[49m\u001b[43m,\u001b[49m\u001b[43m \u001b[49m\u001b[38;5;124;43m\"\u001b[39;49m\u001b[38;5;124;43mrb\u001b[39;49m\u001b[38;5;124;43m\"\u001b[39;49m\u001b[43m)\u001b[49m \u001b[38;5;28;01mas\u001b[39;00m opened_file:\n\u001b[1;32m   1320\u001b[0m     \u001b[38;5;28;01mif\u001b[39;00m _is_zipfile(opened_file):\n\u001b[1;32m   1321\u001b[0m         \u001b[38;5;66;03m# The zipfile reader is going to advance the current file position.\u001b[39;00m\n\u001b[1;32m   1322\u001b[0m         \u001b[38;5;66;03m# If we want to actually tail call to torch.jit.load, we need to\u001b[39;00m\n\u001b[1;32m   1323\u001b[0m         \u001b[38;5;66;03m# reset back to the original position.\u001b[39;00m\n\u001b[1;32m   1324\u001b[0m         orig_position \u001b[38;5;241m=\u001b[39m opened_file\u001b[38;5;241m.\u001b[39mtell()\n",
      "File \u001b[0;32m/scratch/project_2007260/miniconda/envs/py3.10/lib/python3.10/site-packages/torch/serialization.py:659\u001b[0m, in \u001b[0;36m_open_file_like\u001b[0;34m(name_or_buffer, mode)\u001b[0m\n\u001b[1;32m    657\u001b[0m \u001b[38;5;28;01mdef\u001b[39;00m \u001b[38;5;21m_open_file_like\u001b[39m(name_or_buffer, mode):\n\u001b[1;32m    658\u001b[0m     \u001b[38;5;28;01mif\u001b[39;00m _is_path(name_or_buffer):\n\u001b[0;32m--> 659\u001b[0m         \u001b[38;5;28;01mreturn\u001b[39;00m \u001b[43m_open_file\u001b[49m\u001b[43m(\u001b[49m\u001b[43mname_or_buffer\u001b[49m\u001b[43m,\u001b[49m\u001b[43m \u001b[49m\u001b[43mmode\u001b[49m\u001b[43m)\u001b[49m\n\u001b[1;32m    660\u001b[0m     \u001b[38;5;28;01melse\u001b[39;00m:\n\u001b[1;32m    661\u001b[0m         \u001b[38;5;28;01mif\u001b[39;00m \u001b[38;5;124m\"\u001b[39m\u001b[38;5;124mw\u001b[39m\u001b[38;5;124m\"\u001b[39m \u001b[38;5;129;01min\u001b[39;00m mode:\n",
      "File \u001b[0;32m/scratch/project_2007260/miniconda/envs/py3.10/lib/python3.10/site-packages/torch/serialization.py:640\u001b[0m, in \u001b[0;36m_open_file.__init__\u001b[0;34m(self, name, mode)\u001b[0m\n\u001b[1;32m    639\u001b[0m \u001b[38;5;28;01mdef\u001b[39;00m \u001b[38;5;21m__init__\u001b[39m(\u001b[38;5;28mself\u001b[39m, name, mode):\n\u001b[0;32m--> 640\u001b[0m     \u001b[38;5;28msuper\u001b[39m()\u001b[38;5;241m.\u001b[39m\u001b[38;5;21m__init__\u001b[39m(\u001b[38;5;28;43mopen\u001b[39;49m\u001b[43m(\u001b[49m\u001b[43mname\u001b[49m\u001b[43m,\u001b[49m\u001b[43m \u001b[49m\u001b[43mmode\u001b[49m\u001b[43m)\u001b[49m)\n",
      "\u001b[0;31mKeyboardInterrupt\u001b[0m: "
     ]
    }
   ],
   "source": [
    "import warnings\n",
    "warnings.filterwarnings(\"ignore\")\n",
    "\n",
    "import os\n",
    "import torch\n",
    "import torch.nn as nn\n",
    "import torch.optim as optim\n",
    "import pandas as pd\n",
    "import numpy as np\n",
    "from torch.utils.data import DataLoader, Subset\n",
    "from sklearn.model_selection import KFold\n",
    "from sklearn.metrics import f1_score, precision_score, recall_score, accuracy_score\n",
    "from tqdm import tqdm\n",
    "\n",
    "import logging\n",
    "logging.getLogger().setLevel(logging.ERROR)\n",
    "\n",
    "\n",
    "# Set random seed for reproducibility\n",
    "SEED = 42\n",
    "torch.manual_seed(SEED)\n",
    "torch.cuda.manual_seed_all(SEED)\n",
    "np.random.seed(SEED)\n",
    "\n",
    "# Define loss function\n",
    "def weighted_cross_entropy_loss(class_weights, device):\n",
    "    return nn.CrossEntropyLoss(weight=torch.FloatTensor(class_weights).to(device))\n",
    "\n",
    "# Training function\n",
    "def train_model(model, dataloader, optimizer, criterion, device):\n",
    "    model.train()\n",
    "    running_loss, correct_preds, total_preds = 0.0, 0, 0\n",
    "    \n",
    "    for _, viT_embeddings, input_ids, labels in tqdm(dataloader, desc='Training'):\n",
    "        viT_embeddings, input_ids, labels = viT_embeddings.to(device), input_ids.to(device), labels.to(device)\n",
    "        optimizer.zero_grad()\n",
    "        outputs, _, _, _ = model(viT_embeddings, input_ids)\n",
    "        loss = criterion(outputs, labels)\n",
    "        loss.backward()\n",
    "        optimizer.step()\n",
    "        \n",
    "        running_loss += loss.item()\n",
    "        correct_preds += (outputs.argmax(dim=1) == labels).sum().item()\n",
    "        total_preds += labels.size(0)\n",
    "    \n",
    "    return running_loss / len(dataloader), correct_preds / total_preds\n",
    "\n",
    "# Validation function\n",
    "def validate_model(model, dataloader, criterion, device):\n",
    "    model.eval()\n",
    "    running_loss, correct_preds, total_preds = 0.0, 0, 0\n",
    "    all_labels, all_preds = [], []\n",
    "    \n",
    "    with torch.no_grad():\n",
    "        for _, viT_embeddings, input_ids, labels in dataloader:\n",
    "            viT_embeddings, input_ids, labels = viT_embeddings.to(device), input_ids.to(device), labels.to(device)\n",
    "            outputs, _, _, _ = model(viT_embeddings, input_ids)\n",
    "            loss = criterion(outputs, labels)\n",
    "            \n",
    "            running_loss += loss.item()\n",
    "            preds = outputs.argmax(dim=1)\n",
    "            correct_preds += (preds == labels).sum().item()\n",
    "            total_preds += labels.size(0)\n",
    "            \n",
    "            all_labels.extend(labels.cpu().numpy())\n",
    "            all_preds.extend(preds.cpu().numpy())\n",
    "    \n",
    "    return {\n",
    "        \"loss\": running_loss / len(dataloader),\n",
    "        \"accuracy\": correct_preds / total_preds,\n",
    "        \"f1\": f1_score(all_labels, all_preds, average='weighted'),\n",
    "        \"precision\": precision_score(all_labels, all_preds, average='weighted'),\n",
    "        \"recall\": recall_score(all_labels, all_preds, average='weighted')\n",
    "    }\n",
    "\n",
    "# Main function\n",
    "def main():\n",
    "    device = torch.device(\"cuda\" if torch.cuda.is_available() else \"cpu\")\n",
    "    train_df = pd.read_csv(os.path.join(root_data_dir, 'train_adresso_concat.csv'))\n",
    "    test_df = pd.read_csv(os.path.join(root_data_dir, 'dev_adresso_concat.csv'))\n",
    "\n",
    "    train_embeds_dir = os.path.join(embeds_dir, 'train_embeddings')\n",
    "    test_embeds_dir = os.path.join(embeds_dir, 'test_embeddings')\n",
    "\n",
    "    train_df = precompute_embeddings_v2(train_df, train_embeds_dir)\n",
    "    test_df = precompute_embeddings_v2(test_df, test_embeds_dir)\n",
    "    \n",
    "    train_dataset = MultimodalDataset(train_df, train_embeds_dir, iftrain=1, num_classes=NUM_CLASSES)\n",
    "    test_dataset = MultimodalDataset(test_df, test_embeds_dir, iftrain=0, num_classes=NUM_CLASSES)\n",
    "    \n",
    "    kfold = KFold(n_splits=5, shuffle=True, random_state=SEED)\n",
    "    best_models = []\n",
    "    \n",
    "    for fold, (train_idx, dev_idx) in enumerate(kfold.split(train_df)):\n",
    "        print(f\"Training on Fold {fold+1}\")\n",
    "        train_subset = Subset(train_dataset, train_idx)\n",
    "        dev_subset = Subset(train_dataset, dev_idx)\n",
    "        \n",
    "        train_loader = DataLoader(train_subset, batch_size=16, shuffle=True)\n",
    "        dev_loader = DataLoader(dev_subset, batch_size=16, shuffle=False)\n",
    "        \n",
    "        model = MultimodalFeedForwardModel(num_classes=NUM_CLASSES).to(device)\n",
    "        criterion = weighted_cross_entropy_loss([1.0, 2.05], device)\n",
    "        optimizer = optim.Adam(model.parameters(), lr=8e-5)\n",
    "        \n",
    "        best_metrics = {\"accuracy\": 0.0}\n",
    "        best_model_state = None\n",
    "        num_epochs = 100\n",
    "        \n",
    "        for epoch in range(num_epochs):\n",
    "            train_loss, train_acc = train_model(model, train_loader, optimizer, criterion, device)\n",
    "            val_metrics = validate_model(model, dev_loader, criterion, device)\n",
    "            \n",
    "            #print(f\"Fold {fold+1}, Epoch {epoch+1}: Train Loss: {train_loss:.4f}, Train Acc: {train_acc:.4f}, Val Acc: {val_metrics['accuracy']:.4f}, F1: {val_metrics['f1']:.4f}, Prec.: {val_metrics['precision']:.4f}, Rec.: {val_metrics['recall']:.4f}\")\n",
    "            \n",
    "            if val_metrics['accuracy'] > best_metrics['accuracy']:\n",
    "                best_metrics = val_metrics\n",
    "                best_model_state = model.state_dict()\n",
    "        \n",
    "        best_models.append(best_model_state)\n",
    "    \n",
    "    test_loader = DataLoader(test_dataset, batch_size=16, shuffle=False)\n",
    "    \n",
    "    for i, model_state in enumerate(best_models):\n",
    "        model = MultimodalFeedForwardModel(num_classes=NUM_CLASSES).to(device)\n",
    "        model.load_state_dict(model_state)\n",
    "        test_metrics = validate_model(model, test_loader, criterion, device)\n",
    "        print(f\"Fold {i+1} Test Acc: {test_metrics['accuracy']:.4f}, F1: {test_metrics['f1']:.4f}, Prec.: {test_metrics['precision']:.4f}, Rec.: {test_metrics['recall']:.4f}\")\n",
    "    \n",
    "    avg_model = MultimodalFeedForwardModel(num_classes=NUM_CLASSES).to(device)\n",
    "    avg_state_dict = avg_model.state_dict()\n",
    "    \n",
    "    for key in avg_state_dict.keys():\n",
    "        avg_state_dict[key] = torch.stack([torch.tensor(best_models[i][key]) for i in range(5)]).mean(dim=0)\n",
    "    \n",
    "    avg_model.load_state_dict(avg_state_dict)\n",
    "    final_metrics = validate_model(avg_model, test_loader, criterion, device)\n",
    "    print(f\"Final Averaged Model Test Acc: {final_metrics['accuracy']:.4f}, F1: {final_metrics['f1']:.4f}, Prec.: {final_metrics['precision']:.4f}, Rec.: {final_metrics['recall']:.4f}\")\n",
    "\n",
    "if __name__ == '__main__':\n",
    "    main()"
   ]
  },
  {
   "cell_type": "code",
   "execution_count": null,
   "id": "3878fc1b-f8ee-44ef-aa96-2f8af5c3e60a",
   "metadata": {},
   "outputs": [],
   "source": []
  },
  {
   "cell_type": "code",
   "execution_count": null,
   "id": "845cfbad-f46b-40b3-b02c-5e0037347ecb",
   "metadata": {},
   "outputs": [],
   "source": []
  },
  {
   "cell_type": "code",
   "execution_count": null,
   "id": "425664f4-0177-426e-bdc4-720bcb1c57e8",
   "metadata": {},
   "outputs": [],
   "source": []
  },
  {
   "cell_type": "code",
   "execution_count": null,
   "id": "72fc6e55-0250-4ff3-b46e-7c9f1eff439f",
   "metadata": {},
   "outputs": [],
   "source": []
  },
  {
   "cell_type": "code",
   "execution_count": null,
   "id": "21b172f8-2501-482b-8722-f18f829ea27d",
   "metadata": {},
   "outputs": [],
   "source": []
  },
  {
   "cell_type": "code",
   "execution_count": null,
   "id": "66651890-f178-465f-aada-48921328584d",
   "metadata": {},
   "outputs": [],
   "source": []
  },
  {
   "cell_type": "code",
   "execution_count": null,
   "id": "e6eaed8a-0ad9-473d-a30f-bed66b1aa588",
   "metadata": {},
   "outputs": [],
   "source": [
    "###without k-fold"
   ]
  },
  {
   "cell_type": "code",
   "execution_count": null,
   "id": "908f8ef2-71c9-46bd-bd63-df35ea1f9d7e",
   "metadata": {},
   "outputs": [],
   "source": [
    "import torch\n",
    "import torch.nn as nn\n",
    "import torch.optim as optim\n",
    "from torch.utils.data import DataLoader\n",
    "from sklearn.metrics import f1_score, precision_score, recall_score, accuracy_score\n",
    "from tqdm import tqdm\n",
    "\n",
    "# Define loss function\n",
    "def weighted_cross_entropy_loss(class_weights, device):\n",
    "    return nn.CrossEntropyLoss(weight=torch.FloatTensor(class_weights).to(device))\n",
    "\n",
    "# Training function\n",
    "def train_model(model, dataloader, optimizer, criterion, device):\n",
    "    model.train()\n",
    "    running_loss, correct_preds, total_preds = 0.0, 0, 0\n",
    "    \n",
    "    for _, viT_embeddings, input_ids, labels in tqdm(dataloader, desc='Training'):\n",
    "        viT_embeddings, input_ids, labels = viT_embeddings.to(device), input_ids.to(device), labels.to(device)\n",
    "        optimizer.zero_grad()\n",
    "        outputs, it, text, att = model(viT_embeddings, input_ids)\n",
    "        #print(outputs,labels)\n",
    "        loss = criterion(outputs, labels)\n",
    "        loss.backward()\n",
    "        optimizer.step()\n",
    "        \n",
    "        running_loss += loss.item()\n",
    "        correct_preds += (outputs.argmax(dim=1) == labels).sum().item()\n",
    "        total_preds += labels.size(0)\n",
    "    \n",
    "    return running_loss / len(dataloader), correct_preds / total_preds\n",
    "\n",
    "# Validation function\n",
    "def validate_model(model, dataloader, criterion, device):\n",
    "    model.eval()\n",
    "    running_loss, correct_preds, total_preds = 0.0, 0, 0\n",
    "    all_labels, all_preds = [], []\n",
    "    \n",
    "    with torch.no_grad():\n",
    "        for _, viT_embeddings, input_ids, labels in dataloader:\n",
    "            viT_embeddings, input_ids, labels = viT_embeddings.to(device), input_ids.to(device), labels.to(device)\n",
    "            outputs, it, text, att = model(viT_embeddings, input_ids)\n",
    "            loss = criterion(outputs, labels)\n",
    "            \n",
    "            running_loss += loss.item()\n",
    "            preds = outputs.argmax(dim=1)\n",
    "            correct_preds += (preds == labels).sum().item()\n",
    "            total_preds += labels.size(0)\n",
    "            \n",
    "            all_labels.extend(labels.cpu().numpy())\n",
    "            all_preds.extend(preds.cpu().numpy())\n",
    "    \n",
    "    return {\n",
    "        \"loss\": running_loss / len(dataloader),\n",
    "        \"accuracy\": correct_preds / total_preds,\n",
    "        \"f1\": f1_score(all_labels, all_preds, average='weighted'),\n",
    "        \"precision\": precision_score(all_labels, all_preds, average='weighted'),\n",
    "        \"recall\": recall_score(all_labels, all_preds, average='weighted')\n",
    "    }\n",
    "\n",
    "# Main function\n",
    "def main():\n",
    "    device = torch.device(\"cuda\" if torch.cuda.is_available() else \"cpu\")\n",
    "\n",
    "    train_df = pd.read_csv(os.path.join(root_data_dir,'train_adresso_concat.csv'))\n",
    "    test_df = pd.read_csv(os.path.join(root_data_dir, 'dev_adresso_concat.csv'))\n",
    "    # adresso_df = pd.read_csv(os.path.join(root_data_dir, 'dev_adresso.csv'))\n",
    "\n",
    "    train_embeds_dir = os.path.join(embeds_dir, 'train_embeddings')\n",
    "    test_embeds_dir = os.path.join(embeds_dir, 'test_embeddings')\n",
    "\n",
    "    train_df = precompute_embeddings_v2(train_df, train_embeds_dir)\n",
    "    test_df = precompute_embeddings_v2(test_df, test_embeds_dir)\n",
    "    \n",
    "    train_dataset = MultimodalDataset(train_df, train_embeds_dir, iftrain=1, num_classes=NUM_CLASSES)\n",
    "    test_dataset = MultimodalDataset(test_df, test_embeds_dir, iftrain=0, num_classes=NUM_CLASSES)\n",
    "    \n",
    "    train_loader = DataLoader(train_dataset, batch_size=16, shuffle=True)\n",
    "    test_loader = DataLoader(test_dataset, batch_size=16, shuffle=False)\n",
    "    \n",
    "    model = MultimodalFeedForwardModel(num_classes=NUM_CLASSES).to(device)\n",
    "    criterion = weighted_cross_entropy_loss([1.0, 2.05], device)\n",
    "    optimizer = optim.Adam(model.parameters(), lr=8e-5)\n",
    "    \n",
    "    num_epochs = 500\n",
    "    for epoch in range(num_epochs):\n",
    "        train_loss, train_acc = train_model(model, train_loader, optimizer, criterion, device)\n",
    "        val_metrics = validate_model(model, test_loader, criterion, device)\n",
    "        \n",
    "        print(f\"Epoch {epoch+1}: Train Loss: {train_loss:.4f}, Train Acc: {train_acc:.4f}, Test Acc: {val_metrics['accuracy']:.4f},Test F1: {val_metrics['f1']:.4f},Test Prec.: {val_metrics['precision']:.4f},Test Rec.: {val_metrics['recall']:.4f}\")\n",
    "\n",
    "if __name__ == '__main__':\n",
    "    main()\n"
   ]
  },
  {
   "cell_type": "code",
   "execution_count": null,
   "id": "294d5b44-ac63-4cdb-a22a-ee0f05680665",
   "metadata": {},
   "outputs": [],
   "source": []
  },
  {
   "cell_type": "code",
   "execution_count": null,
   "id": "984a46ba-db98-4cfc-8777-9424e0d7a583",
   "metadata": {},
   "outputs": [],
   "source": []
  },
  {
   "cell_type": "code",
   "execution_count": null,
   "id": "3f2ee57b-f4f3-4d72-8138-2f3381d818fe",
   "metadata": {},
   "outputs": [],
   "source": []
  },
  {
   "cell_type": "code",
   "execution_count": null,
   "id": "80e1a3bf-bac9-4142-95a3-f0f260475cbe",
   "metadata": {},
   "outputs": [],
   "source": []
  },
  {
   "cell_type": "code",
   "execution_count": null,
   "id": "664fb2ad-d7e1-420f-86cd-cb1a8a3842a1",
   "metadata": {},
   "outputs": [],
   "source": []
  },
  {
   "cell_type": "code",
   "execution_count": null,
   "id": "fede3920-4413-4d03-8c7e-558f11a72e03",
   "metadata": {},
   "outputs": [],
   "source": []
  },
  {
   "cell_type": "code",
   "execution_count": null,
   "id": "a1176ab6-c641-49b7-8446-565245806982",
   "metadata": {},
   "outputs": [],
   "source": []
  },
  {
   "cell_type": "code",
   "execution_count": null,
   "id": "003b6240-0e7c-4e65-8ac6-940299fb8d88",
   "metadata": {},
   "outputs": [],
   "source": []
  },
  {
   "cell_type": "code",
   "execution_count": null,
   "id": "44094a61-ff06-4b27-bf18-64ac59200630",
   "metadata": {},
   "outputs": [],
   "source": []
  },
  {
   "cell_type": "code",
   "execution_count": null,
   "id": "ee475384-52ec-48ed-bcd0-a778c70b922b",
   "metadata": {},
   "outputs": [],
   "source": []
  },
  {
   "cell_type": "code",
   "execution_count": null,
   "id": "d342520a-ec24-4221-b27f-ef655040f168",
   "metadata": {},
   "outputs": [],
   "source": []
  }
 ],
 "metadata": {
  "kernelspec": {
   "display_name": "Python 3 (ipykernel)",
   "language": "python",
   "name": "python3"
  },
  "language_info": {
   "codemirror_mode": {
    "name": "ipython",
    "version": 3
   },
   "file_extension": ".py",
   "mimetype": "text/x-python",
   "name": "python",
   "nbconvert_exporter": "python",
   "pygments_lexer": "ipython3",
   "version": "3.10.16"
  }
 },
 "nbformat": 4,
 "nbformat_minor": 5
}
